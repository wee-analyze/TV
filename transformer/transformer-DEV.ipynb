{
 "cells": [
  {
   "cell_type": "markdown",
   "metadata": {
    "id": "s_qNSzzyaCbD"
   },
   "source": [
    "##### Copyright 2019 The TensorFlow Authors."
   ]
  },
  {
   "cell_type": "code",
   "execution_count": null,
   "metadata": {
    "cellView": "form",
    "execution": {
     "iopub.execute_input": "2020-09-27T01:25:11.176402Z",
     "iopub.status.busy": "2020-09-27T01:25:11.175727Z",
     "iopub.status.idle": "2020-09-27T01:25:11.177650Z",
     "shell.execute_reply": "2020-09-27T01:25:11.178000Z"
    },
    "id": "jmjh290raIky"
   },
   "outputs": [],
   "source": [
    "#@title Licensed under the Apache License, Version 2.0 (the \"License\");\n",
    "# you may not use this file except in compliance with the License.\n",
    "# You may obtain a copy of the License at\n",
    "#\n",
    "# https://www.apache.org/licenses/LICENSE-2.0\n",
    "#\n",
    "# Unless required by applicable law or agreed to in writing, software\n",
    "# distributed under the License is distributed on an \"AS IS\" BASIS,\n",
    "# WITHOUT WARRANTIES OR CONDITIONS OF ANY KIND, either express or implied.\n",
    "# See the License for the specific language governing permissions and\n",
    "# limitations under the License."
   ]
  },
  {
   "cell_type": "markdown",
   "metadata": {
    "id": "J0Qjg6vuaHNt"
   },
   "source": [
    "# Transformer model for language understanding"
   ]
  },
  {
   "cell_type": "markdown",
   "metadata": {
    "id": "AOpGoE2T-YXS"
   },
   "source": [
    "<table class=\"tfo-notebook-buttons\" align=\"left\">\n",
    "  <td>\n",
    "    <a target=\"_blank\" href=\"https://www.tensorflow.org/tutorials/text/transformer\">\n",
    "    <img src=\"https://www.tensorflow.org/images/tf_logo_32px.png\" />\n",
    "    View on TensorFlow.org</a>\n",
    "  </td>\n",
    "  <td>\n",
    "    <a target=\"_blank\" href=\"https://colab.research.google.com/github/tensorflow/docs/blob/master/site/en/tutorials/text/transformer.ipynb\">\n",
    "    <img src=\"https://www.tensorflow.org/images/colab_logo_32px.png\" />\n",
    "    Run in Google Colab</a>\n",
    "  </td>\n",
    "  <td>\n",
    "    <a target=\"_blank\" href=\"https://github.com/tensorflow/docs/blob/master/site/en/tutorials/text/transformer.ipynb\">\n",
    "    <img src=\"https://www.tensorflow.org/images/GitHub-Mark-32px.png\" />\n",
    "    View source on GitHub</a>\n",
    "  </td>\n",
    "  <td>\n",
    "    <a href=\"https://storage.googleapis.com/tensorflow_docs/docs/site/en/tutorials/text/transformer.ipynb\"><img src=\"https://www.tensorflow.org/images/download_logo_32px.png\" />Download notebook</a>\n",
    "  </td>\n",
    "</table>"
   ]
  },
  {
   "cell_type": "markdown",
   "metadata": {
    "id": "M-f8TnGpE_ex"
   },
   "source": [
    "This tutorial trains a <a href=\"https://arxiv.org/abs/1706.03762\" class=\"external\">Transformer model</a> to translate Portuguese to English. This is an advanced example that assumes knowledge of [text generation](text_generation.ipynb) and [attention](nmt_with_attention.ipynb).\n",
    "\n",
    "The core idea behind the Transformer model is *self-attention*—the ability to attend to different positions of the input sequence to compute a representation of that sequence. Transformer creates stacks of self-attention layers and is explained below in the sections *Scaled dot product attention* and *Multi-head attention*.\n",
    "\n",
    "A transformer model handles variable-sized input using stacks of self-attention layers instead of [RNNs](text_classification_rnn.ipynb) or [CNNs](../images/intro_to_cnns.ipynb). This general architecture has a number of advantages:\n",
    "\n",
    "* It make no assumptions about the temporal/spatial relationships across the data. This is ideal for processing a set of objects (for example, [StarCraft units](https://deepmind.com/blog/alphastar-mastering-real-time-strategy-game-starcraft-ii/#block-8)).\n",
    "* Layer outputs can be calculated in parallel, instead of a series like an RNN.\n",
    "* Distant items can affect each other's output without passing through many RNN-steps, or convolution layers (see [Scene Memory Transformer](https://arxiv.org/pdf/1903.03878.pdf) for example).\n",
    "* It can learn long-range dependencies. This is a challenge in many sequence tasks.\n",
    "\n",
    "The downsides of this architecture are:\n",
    "\n",
    "* For a time-series, the output for a time-step is calculated from the *entire history* instead of only the inputs and current hidden-state. This _may_ be less efficient.   \n",
    "* If the input *does* have a  temporal/spatial relationship, like text, some positional encoding must be added or the model will effectively see a bag of words. \n",
    "\n",
    "After training the model in this notebook, you will be able to input a Portuguese sentence and return the English translation.\n",
    "\n",
    "<img src=\"https://www.tensorflow.org/images/tutorials/transformer/attention_map_portuguese.png\" width=\"800\" alt=\"Attention heatmap\">"
   ]
  },
  {
   "cell_type": "code",
   "execution_count": null,
   "metadata": {
    "ExecuteTime": {
     "end_time": "2020-10-08T08:20:31.468215Z",
     "start_time": "2020-10-08T08:20:15.587343Z"
    },
    "execution": {
     "iopub.execute_input": "2020-09-27T01:25:11.185005Z",
     "iopub.status.busy": "2020-09-27T01:25:11.182258Z",
     "iopub.status.idle": "2020-09-27T01:25:16.882283Z",
     "shell.execute_reply": "2020-09-27T01:25:16.881737Z"
    },
    "id": "XFG0NDRu5mYQ"
   },
   "outputs": [],
   "source": [
    "# !pip install -q tfds-nightly\n",
    "\n",
    "# # Pin matplotlib version to 3.2.2 since in the latest version\n",
    "# # transformer.ipynb fails with the following error:\n",
    "# # https://stackoverflow.com/questions/62953704/valueerror-the-number-of-fixedlocator-locations-5-usually-from-a-call-to-set\n",
    "# !pip install matplotlib==3.2.2"
   ]
  },
  {
   "cell_type": "code",
   "execution_count": 1,
   "metadata": {
    "ExecuteTime": {
     "end_time": "2020-10-08T08:20:59.878153Z",
     "start_time": "2020-10-08T08:20:57.435483Z"
    },
    "execution": {
     "iopub.execute_input": "2020-09-27T01:25:16.887127Z",
     "iopub.status.busy": "2020-09-27T01:25:16.886350Z",
     "iopub.status.idle": "2020-09-27T01:25:23.514378Z",
     "shell.execute_reply": "2020-09-27T01:25:23.513828Z"
    },
    "id": "JjJJyJTZYebt"
   },
   "outputs": [],
   "source": [
    "import tensorflow_datasets as tfds\n",
    "import tensorflow as tf\n",
    "\n",
    "import time\n",
    "import numpy as np\n",
    "import matplotlib.pyplot as plt\n",
    "\n",
    "from platform import python_version"
   ]
  },
  {
   "cell_type": "code",
   "execution_count": 2,
   "metadata": {},
   "outputs": [
    {
     "name": "stdout",
     "output_type": "stream",
     "text": [
      "list won't be empty if GPU enabled:  [PhysicalDevice(name='/physical_device:GPU:0', device_type='GPU')]\n",
      "\n",
      "Python Version:  3.6.9\n",
      "\n",
      "TF Version:  2.3.1\n"
     ]
    }
   ],
   "source": [
    "print('list won\\'t be empty if GPU enabled: ', tf.config.list_physical_devices('GPU'))\n",
    "\n",
    "print('\\nPython Version: ', python_version())\n",
    "\n",
    "print('\\nTF Version: ', tf.__version__)"
   ]
  },
  {
   "cell_type": "markdown",
   "metadata": {
    "id": "fd1NWMxjfsDd"
   },
   "source": [
    "## Setup input pipeline"
   ]
  },
  {
   "cell_type": "markdown",
   "metadata": {
    "id": "t4_Qt8W1hJE_"
   },
   "source": [
    "Use [TFDS](https://www.tensorflow.org/datasets) to load the [Portugese-English translation dataset](https://github.com/neulab/word-embeddings-for-nmt) from the [TED Talks Open Translation Project](https://www.ted.com/participate/translate).\n",
    "\n",
    "This dataset contains approximately 50000 training examples, 1100 validation examples, and 2000 test examples."
   ]
  },
  {
   "cell_type": "code",
   "execution_count": 3,
   "metadata": {
    "ExecuteTime": {
     "end_time": "2020-10-08T08:21:02.839805Z",
     "start_time": "2020-10-08T08:21:01.876589Z"
    },
    "execution": {
     "iopub.execute_input": "2020-09-27T01:25:23.522389Z",
     "iopub.status.busy": "2020-09-27T01:25:23.521807Z",
     "iopub.status.idle": "2020-09-27T01:25:48.022010Z",
     "shell.execute_reply": "2020-09-27T01:25:48.022392Z"
    },
    "id": "8q9t4FmN96eN"
   },
   "outputs": [],
   "source": [
    "# ######### Full dataset\n",
    "# # Already downloaded so now we're reading it from disk. If you want to \n",
    "# # download to disk you just make the download argument True.\n",
    "\n",
    "# examples, metadata = tfds.load('ted_hrlr_translate/pt_to_en', \n",
    "#                                data_dir = 'dataset',\n",
    "#                                download=False,\n",
    "#                                with_info=True,\n",
    "#                                as_supervised=True)\n",
    "# train_examples, val_examples = examples['train'], examples['validation']\n",
    "\n",
    "\n",
    "######### Taking a subset of the data to make training faster\n",
    "# Take 30% of trainset\n",
    "train_examples, metadata = tfds.load('ted_hrlr_translate/pt_to_en', \n",
    "                               data_dir = 'dataset',\n",
    "                               download=False,\n",
    "                               with_info=True,\n",
    "                               shuffle_files=True,\n",
    "                               split='train[:30%]',\n",
    "                               as_supervised=True)\n",
    "\n",
    "# Take 10% of val set\n",
    "val_examples, metadata = tfds.load('ted_hrlr_translate/pt_to_en', \n",
    "                               data_dir = 'dataset',\n",
    "                               download=False,\n",
    "                               with_info=True,\n",
    "                               shuffle_files=True,\n",
    "                               split='validation[:10%]',\n",
    "                               as_supervised=True)"
   ]
  },
  {
   "cell_type": "code",
   "execution_count": 4,
   "metadata": {
    "ExecuteTime": {
     "end_time": "2020-10-08T08:21:02.839805Z",
     "start_time": "2020-10-08T08:21:01.876589Z"
    },
    "execution": {
     "iopub.execute_input": "2020-09-27T01:25:23.522389Z",
     "iopub.status.busy": "2020-09-27T01:25:23.521807Z",
     "iopub.status.idle": "2020-09-27T01:25:48.022010Z",
     "shell.execute_reply": "2020-09-27T01:25:48.022392Z"
    },
    "id": "8q9t4FmN96eN"
   },
   "outputs": [
    {
     "data": {
      "text/plain": [
       "(<tf.Tensor: shape=(), dtype=string, numpy=b'e quando melhoramos a procura , tiramos a \\xc3\\xbanica vantagem da impress\\xc3\\xa3o , que \\xc3\\xa9 a serendipidade .'>,\n",
       " <tf.Tensor: shape=(), dtype=string, numpy=b'and when you improve searchability , you actually take away the one advantage of print , which is serendipity .'>)"
      ]
     },
     "execution_count": 4,
     "metadata": {},
     "output_type": "execute_result"
    }
   ],
   "source": [
    "# for port, eng in train_examples.take(5):\n",
    "#     print(port)\n",
    "#     print(eng)\n",
    "\n",
    "next(iter(train_examples))"
   ]
  },
  {
   "cell_type": "markdown",
   "metadata": {
    "id": "RCEKotqosGfq"
   },
   "source": [
    "Create a custom subwords tokenizer from the training dataset. "
   ]
  },
  {
   "cell_type": "code",
   "execution_count": 5,
   "metadata": {
    "ExecuteTime": {
     "end_time": "2020-10-08T08:23:19.665348Z",
     "start_time": "2020-10-08T08:21:06.031029Z"
    },
    "execution": {
     "iopub.execute_input": "2020-09-27T01:25:48.028333Z",
     "iopub.status.busy": "2020-09-27T01:25:48.027730Z",
     "iopub.status.idle": "2020-09-27T01:27:45.599389Z",
     "shell.execute_reply": "2020-09-27T01:27:45.598621Z"
    },
    "id": "KVBg5Q8tBk5z"
   },
   "outputs": [],
   "source": [
    "# There is a good loading text notebook which was similar to this which you \n",
    "# used to figure out what they're doing to tokanize.\n",
    "\n",
    "# To learn more about this specific subword text encoder read the docs. \n",
    "# https://www.tensorflow.org/datasets/api_docs/python/tfds/deprecated/text/SubwordTextEncoder\n",
    "# This builds a SubwordTextEncoder based on the corpus_generator.\n",
    "tokenizer_en = tfds.deprecated.text.SubwordTextEncoder.build_from_corpus(\n",
    "    # This list comprehension looking thing actually made \n",
    "    # corpus_generator referring to the comment above this one. \n",
    "    # Similar to iter(x for x in dataset_here) but for this we need to created \n",
    "    # 2 separate tokenizer, one for each language, and also need to turn each example\n",
    "    # into numpy when it's iterated over by the .build_from_corpus method.\n",
    "    corpus_generator=(en.numpy() for pt, en in train_examples),\n",
    "    target_vocab_size=2**13  # approximate desired size of the vocab to create.\n",
    ")\n",
    "\n",
    "tokenizer_pt = tfds.deprecated.text.SubwordTextEncoder.build_from_corpus(\n",
    "    corpus_generator=(pt.numpy() for pt, en in train_examples), \n",
    "    target_vocab_size=2**13\n",
    ")"
   ]
  },
  {
   "cell_type": "code",
   "execution_count": 6,
   "metadata": {
    "ExecuteTime": {
     "end_time": "2020-10-08T08:23:29.379790Z",
     "start_time": "2020-10-08T08:23:29.370359Z"
    },
    "execution": {
     "iopub.execute_input": "2020-09-27T01:27:45.604774Z",
     "iopub.status.busy": "2020-09-27T01:27:45.604184Z",
     "iopub.status.idle": "2020-09-27T01:27:45.606258Z",
     "shell.execute_reply": "2020-09-27T01:27:45.606663Z"
    },
    "id": "4DYWukNFkGQN"
   },
   "outputs": [
    {
     "name": "stdout",
     "output_type": "stream",
     "text": [
      "Tokenized string is [7866, 1369, 7897, 7250, 7814, 13, 2489, 7828]\n",
      "The original string: Transformer is awesome.\n"
     ]
    }
   ],
   "source": [
    "sample_string = 'Transformer is awesome.'\n",
    "\n",
    "# Encode the text into list of integers\n",
    "tokenized_string = tokenizer_en.encode(sample_string)\n",
    "print ('Tokenized string is {}'.format(tokenized_string))\n",
    "\n",
    "# Decodes a list of integers back into text.\n",
    "original_string = tokenizer_en.decode(tokenized_string)\n",
    "print ('The original string: {}'.format(original_string))\n",
    "\n",
    "assert original_string == sample_string"
   ]
  },
  {
   "cell_type": "markdown",
   "metadata": {
    "id": "o9KJWJjrsZ4Y"
   },
   "source": [
    "The tokenizer encodes the string by breaking it into subwords if the word is not in its dictionary."
   ]
  },
  {
   "cell_type": "code",
   "execution_count": 7,
   "metadata": {
    "ExecuteTime": {
     "end_time": "2020-10-08T08:23:31.965781Z",
     "start_time": "2020-10-08T08:23:31.959988Z"
    },
    "execution": {
     "iopub.execute_input": "2020-09-27T01:27:45.611320Z",
     "iopub.status.busy": "2020-09-27T01:27:45.610720Z",
     "iopub.status.idle": "2020-09-27T01:27:45.612658Z",
     "shell.execute_reply": "2020-09-27T01:27:45.613001Z"
    },
    "id": "bf2ntBxjkqK6"
   },
   "outputs": [
    {
     "name": "stdout",
     "output_type": "stream",
     "text": [
      "7866 ----> T\n",
      "1369 ----> ran\n",
      "7897 ----> s\n",
      "7250 ----> former\n",
      "7814 ---->  \n",
      "13 ----> is \n",
      "2489 ----> awesome\n",
      "7828 ----> .\n"
     ]
    }
   ],
   "source": [
    "# Test the subword encoder. \n",
    "# \"Transformer\" is not in the vocab so it should get broken into subwords.\n",
    "\n",
    "for ts in tokenized_string:\n",
    "  print ('{} ----> {}'.format(ts, tokenizer_en.decode([ts])))"
   ]
  },
  {
   "cell_type": "code",
   "execution_count": 8,
   "metadata": {
    "ExecuteTime": {
     "end_time": "2020-10-08T08:23:33.651809Z",
     "start_time": "2020-10-08T08:23:33.646737Z"
    },
    "execution": {
     "iopub.execute_input": "2020-09-27T01:27:45.616318Z",
     "iopub.status.busy": "2020-09-27T01:27:45.615771Z",
     "iopub.status.idle": "2020-09-27T01:27:45.617969Z",
     "shell.execute_reply": "2020-09-27T01:27:45.617431Z"
    },
    "id": "bcRp7VcQ5m6g"
   },
   "outputs": [],
   "source": [
    "BUFFER_SIZE = 20000\n",
    "BATCH_SIZE = 64"
   ]
  },
  {
   "cell_type": "markdown",
   "metadata": {
    "id": "kGi4PoVakxdc"
   },
   "source": [
    "Add a start and end token to the input and target. "
   ]
  },
  {
   "cell_type": "code",
   "execution_count": 9,
   "metadata": {},
   "outputs": [
    {
     "name": "stdout",
     "output_type": "stream",
     "text": [
      "b'and when you improve searchability , you actually take away the one advantage of print , which is serendipity .'\n",
      "\n",
      "Tokenized string is: [4, 59, 15, 2640, 3999, 2727, 1, 15, 104, 123, 323, 3, 44, 7743, 6, 3542, 1, 86, 13, 2337, 5982, 5619, 2]\n",
      "\n",
      "Adding start and end tokents:  [8078, 4, 59, 15, 2640, 3999, 2727, 1, 15, 104, 123, 323, 3, 44, 7743, 6, 3542, 1, 86, 13, 2337, 5982, 5619, 2, 8079]\n"
     ]
    },
    {
     "data": {
      "text/plain": [
       "([8078,\n",
       "  6,\n",
       "  40,\n",
       "  4467,\n",
       "  56,\n",
       "  3,\n",
       "  1120,\n",
       "  1,\n",
       "  5662,\n",
       "  12,\n",
       "  3,\n",
       "  520,\n",
       "  6636,\n",
       "  47,\n",
       "  19,\n",
       "  2549,\n",
       "  141,\n",
       "  1,\n",
       "  5,\n",
       "  8,\n",
       "  3,\n",
       "  5721,\n",
       "  2150,\n",
       "  5855,\n",
       "  1434,\n",
       "  2,\n",
       "  8079],\n",
       " [8038,\n",
       "  4,\n",
       "  59,\n",
       "  15,\n",
       "  2640,\n",
       "  3999,\n",
       "  2727,\n",
       "  1,\n",
       "  15,\n",
       "  104,\n",
       "  123,\n",
       "  323,\n",
       "  3,\n",
       "  44,\n",
       "  7743,\n",
       "  6,\n",
       "  3542,\n",
       "  1,\n",
       "  86,\n",
       "  13,\n",
       "  2337,\n",
       "  5982,\n",
       "  5619,\n",
       "  2,\n",
       "  8039])"
      ]
     },
     "execution_count": 9,
     "metadata": {},
     "output_type": "execute_result"
    }
   ],
   "source": [
    "def numpy_encode(lang1, lang2):\n",
    "    \"\"\"\n",
    "    Takes in tf tensor, converts in to numpy, and adds a start and end token to the \n",
    "    encoder input and decoder target input sentences.\n",
    "    \n",
    "    Arguments:\n",
    "    lang1 -- tf tensor, dtype is string. Encoder input sentence.\n",
    "    lang2 -- tf tensor, dtype is string. Decoder target input sentence.\n",
    "    \n",
    "    Return:\n",
    "    lang1 -- list of tokens (int) with added start and end tokens \n",
    "    lang2 -- list of tokens (int) with added start and end tokens \n",
    "    \"\"\"\n",
    "    \n",
    "    lang1 = [tokenizer_pt.vocab_size] + tokenizer_pt.encode(\n",
    "      lang1.numpy()) + [tokenizer_pt.vocab_size+1]\n",
    "\n",
    "    lang2 = [tokenizer_en.vocab_size] + tokenizer_en.encode(\n",
    "      lang2.numpy()) + [tokenizer_en.vocab_size+1]\n",
    "  \n",
    "    return lang1, lang2\n",
    "\n",
    "# To explain the function above.\n",
    "# They are using the vocab size as an integer to represent the start token\n",
    "# and they use the index size+1 to represent the end token since these 2 tokens\n",
    "# don't exist tokenizers.\n",
    "portugueseExample, englishExample = next(iter(train_examples))\n",
    "\n",
    "englishStr = englishExample.numpy()\n",
    "print(englishStr)\n",
    "\n",
    "tokenizedEnglishString = tokenizer_en.encode(englishStr)\n",
    "print ('\\nTokenized string is: {}'.format(tokenizedEnglishString))\n",
    "\n",
    "print('\\nAdding start and end tokents: ', \n",
    "      [tokenizer_pt.vocab_size] + tokenizedEnglishString + [tokenizer_pt.vocab_size+1])\n",
    "\n",
    "\n",
    "numpy_encode(portugueseExample, englishExample)"
   ]
  },
  {
   "cell_type": "markdown",
   "metadata": {
    "id": "Tx1sFbR-9fRs"
   },
   "source": [
    "You want to use `Dataset.map` to apply this function to each element of the dataset.  `Dataset.map` runs in graph mode.\n",
    "\n",
    "* Graph tensors do not have a value. \n",
    "* In graph mode you can only use TensorFlow Ops and functions. \n",
    "\n",
    "So you can't `.map` this function directly: You need to wrap it in a `tf.py_function`. The `tf.py_function` will pass regular tensors (with a value and a `.numpy()` method to access it), to the wrapped python function."
   ]
  },
  {
   "cell_type": "code",
   "execution_count": 10,
   "metadata": {
    "ExecuteTime": {
     "end_time": "2020-10-08T08:23:37.372811Z",
     "start_time": "2020-10-08T08:23:37.367158Z"
    },
    "execution": {
     "iopub.execute_input": "2020-09-27T01:27:45.628358Z",
     "iopub.status.busy": "2020-09-27T01:27:45.627771Z",
     "iopub.status.idle": "2020-09-27T01:27:45.629599Z",
     "shell.execute_reply": "2020-09-27T01:27:45.630031Z"
    },
    "id": "Mah1cS-P70Iz"
   },
   "outputs": [
    {
     "data": {
      "text/plain": [
       "<tf.Tensor: shape=(), dtype=string, numpy=b'e quando melhoramos a procura , tiramos a \\xc3\\xbanica vantagem da impress\\xc3\\xa3o , que \\xc3\\xa9 a serendipidade .'>"
      ]
     },
     "metadata": {},
     "output_type": "display_data"
    },
    {
     "data": {
      "text/plain": [
       "(<tf.Tensor: shape=(27,), dtype=int64, numpy=\n",
       " array([8078,    6,   40, 4467,   56,    3, 1120,    1, 5662,   12,    3,\n",
       "         520, 6636,   47,   19, 2549,  141,    1,    5,    8,    3, 5721,\n",
       "        2150, 5855, 1434,    2, 8079])>,\n",
       " <tf.Tensor: shape=(25,), dtype=int64, numpy=\n",
       " array([8038,    4,   59,   15, 2640, 3999, 2727,    1,   15,  104,  123,\n",
       "         323,    3,   44, 7743,    6, 3542,    1,   86,   13, 2337, 5982,\n",
       "        5619,    2, 8039])>)"
      ]
     },
     "execution_count": 10,
     "metadata": {},
     "output_type": "execute_result"
    }
   ],
   "source": [
    "def tf_encode(pt, en):\n",
    "    \"\"\"\n",
    "    This will take in the .map tensorflow dataset inputs and feed them into the \n",
    "    non-TF (numpy) function which converts the element to numpy, encodes it,\n",
    "    adds the start and end tokens, and returns back tf tensors so we can train the model. \n",
    "    Since the helper function that adds the start and end tokens uses numpy\n",
    "    we need to wrap it in the tf.py_function() mentioned above.\n",
    "    \n",
    "    Arguments:\n",
    "    pt -- tf tensor, dtype is tf.string. Encoder input sentence.\n",
    "    en -- tf tensor, dtype is tf.string. Decoder target input sentence.\n",
    "    \n",
    "    Return:\n",
    "    result_pt -- tf tensor, dtype is tf.int64, Encoder input tokens with start and end tokens added.\n",
    "    result_en -- tf tensor, dtype is tf.int64, Decoder target input tokens with start and \n",
    "        end tokens added.\n",
    "    \"\"\"\n",
    "    \n",
    "    # py_function doesn't set the shape of the returned tensors. You need to define the\n",
    "    # datatypes of the output when using py_function.\n",
    "    [result_pt, result_en] = tf.py_function(numpy_encode, \n",
    "                                            inp=[pt, en], \n",
    "                                            Tout=[tf.int64, tf.int64]\n",
    "                                           )\n",
    "    \n",
    "    # https://stackoverflow.com/questions/35451948/clarification-on-tf-tensor-set-shape\n",
    "    # https://www.tensorflow.org/tutorials/load_data/text\n",
    "    # If you don't set the static shape you will get an error with the dataset \n",
    "    # padded_batch() method that it has an unknown rank.\n",
    "    # Rank 0 would be .set_shape([]) IT - from the example in link above.\n",
    "    # Since each instance is a list of integers, each text should be rank 1 IT.\n",
    "    # Using None makes it flexible like when you used to use [None, 28, 28, 3] for flexible\n",
    "    # sizes.\n",
    "    result_pt.set_shape([None]) # Helps TF know that it's a rank 1 IT. [None, None] is rank 2.\n",
    "    result_en.set_shape([None])\n",
    "\n",
    "    return result_pt, result_en\n",
    "\n",
    "\n",
    "\n",
    "portugueseExample, englishExample = next(iter(train_examples))\n",
    "display(portugueseExample)\n",
    "\n",
    "tf_encode(portugueseExample, englishExample)"
   ]
  },
  {
   "cell_type": "markdown",
   "metadata": {
    "id": "6JrGp5Gek6Ql"
   },
   "source": [
    "Note: To keep this example small and relatively fast, drop examples with a length of over 40 tokens."
   ]
  },
  {
   "cell_type": "code",
   "execution_count": 11,
   "metadata": {
    "ExecuteTime": {
     "end_time": "2020-10-08T08:23:39.529282Z",
     "start_time": "2020-10-08T08:23:39.527042Z"
    },
    "execution": {
     "iopub.execute_input": "2020-09-27T01:27:45.633376Z",
     "iopub.status.busy": "2020-09-27T01:27:45.632858Z",
     "iopub.status.idle": "2020-09-27T01:27:45.634544Z",
     "shell.execute_reply": "2020-09-27T01:27:45.634904Z"
    },
    "id": "2QEgbjntk6Yf"
   },
   "outputs": [],
   "source": [
    "MAX_LENGTH = 40"
   ]
  },
  {
   "cell_type": "code",
   "execution_count": 12,
   "metadata": {
    "ExecuteTime": {
     "end_time": "2020-10-08T08:23:41.448234Z",
     "start_time": "2020-10-08T08:23:41.442498Z"
    },
    "execution": {
     "iopub.execute_input": "2020-09-27T01:27:45.638552Z",
     "iopub.status.busy": "2020-09-27T01:27:45.637950Z",
     "iopub.status.idle": "2020-09-27T01:27:45.639995Z",
     "shell.execute_reply": "2020-09-27T01:27:45.640468Z"
    },
    "id": "c081xPGv1CPI"
   },
   "outputs": [],
   "source": [
    "def filter_max_length(x, y, max_length=MAX_LENGTH):\n",
    "    \"\"\"Filters only instance pairs that both have size less than max length IT.\"\"\"\n",
    "    \n",
    "    # tf.size() will kinda act as tf.shape except you will get a scalar rank 0 instead\n",
    "    # of a rank 1 tensor which is in a list. Each instance is list of integers which are\n",
    "    # token indexes.\n",
    "    return tf.logical_and(tf.size(x) <= max_length,\n",
    "                        tf.size(y) <= max_length)"
   ]
  },
  {
   "cell_type": "code",
   "execution_count": 13,
   "metadata": {
    "ExecuteTime": {
     "end_time": "2020-10-08T08:38:00.860940Z",
     "start_time": "2020-10-08T08:38:00.814802Z"
    },
    "execution": {
     "iopub.execute_input": "2020-09-27T01:27:45.645266Z",
     "iopub.status.busy": "2020-09-27T01:27:45.644745Z",
     "iopub.status.idle": "2020-09-27T01:27:45.756386Z",
     "shell.execute_reply": "2020-09-27T01:27:45.755786Z"
    },
    "id": "9mk9AZdZ5bcS"
   },
   "outputs": [],
   "source": [
    "train_dataset = train_examples.map(tf_encode)\n",
    "train_dataset = train_dataset.filter(filter_max_length)\n",
    "# # cache the dataset to memory to get a speedup while reading from it.\n",
    "train_dataset = train_dataset.cache()\n",
    "\n",
    "# padded_batch() Combines consecutive elements of this dataset into padded batches.\n",
    "# This transformation combines multiple consecutive elements of the input dataset into a single element.\n",
    "# If the dimension is a constant, the component will be padded out to that length in that dimension.\n",
    "# If the dimension is unknown, the component will be padded out to the maximum length of all elements in that dimension.\n",
    "train_dataset = train_dataset.shuffle(BUFFER_SIZE).padded_batch(batch_size=BATCH_SIZE)\n",
    "train_dataset = train_dataset.prefetch(tf.data.experimental.AUTOTUNE)\n",
    "\n",
    "\n",
    "val_dataset = val_examples.map(tf_encode)\n",
    "val_dataset = val_dataset.filter(filter_max_length).padded_batch(BATCH_SIZE)"
   ]
  },
  {
   "cell_type": "code",
   "execution_count": 14,
   "metadata": {
    "execution": {
     "iopub.execute_input": "2020-09-27T01:27:45.760345Z",
     "iopub.status.busy": "2020-09-27T01:27:45.759802Z",
     "iopub.status.idle": "2020-09-27T01:27:45.835589Z",
     "shell.execute_reply": "2020-09-27T01:27:45.836090Z"
    },
    "id": "_fXvfYVfQr2n"
   },
   "outputs": [
    {
     "data": {
      "text/plain": [
       "(<tf.Tensor: shape=(64, 34), dtype=int64, numpy=\n",
       " array([[8078,   88,  196, ...,    0,    0,    0],\n",
       "        [8078,  330, 6367, ...,    0,    0,    0],\n",
       "        [8078, 4601, 7854, ...,    0,    0,    0],\n",
       "        ...,\n",
       "        [8078,   60, 1332, ...,    0,    0,    0],\n",
       "        [8078,  120,   35, ...,    0,    0,    0],\n",
       "        [8078,   65,  106, ...,    0,    0,    0]])>,\n",
       " <tf.Tensor: shape=(64, 35), dtype=int64, numpy=\n",
       " array([[8038,   12,   21, ...,    0,    0,    0],\n",
       "        [8038,   96,   25, ...,    0,    0,    0],\n",
       "        [8038,   12, 2702, ...,    0,    0,    0],\n",
       "        ...,\n",
       "        [8038,   16, 1635, ...,    0,    0,    0],\n",
       "        [8038,   15,   55, ...,    0,    0,    0],\n",
       "        [8038,   92,  136, ...,    0,    0,    0]])>)"
      ]
     },
     "execution_count": 14,
     "metadata": {},
     "output_type": "execute_result"
    }
   ],
   "source": [
    "# Looking at only one batch from each language.\n",
    "pt_batch, en_batch = next(iter(val_dataset))\n",
    "pt_batch, en_batch"
   ]
  },
  {
   "cell_type": "code",
   "execution_count": 15,
   "metadata": {},
   "outputs": [
    {
     "name": "stdout",
     "output_type": "stream",
     "text": [
      "Each batch has a different seq length when looking at only 1 language.\n",
      "\n",
      "tf.Tensor([64 40], shape=(2,), dtype=int32)\n",
      "\n",
      "tf.Tensor([64 40], shape=(2,), dtype=int32)\n",
      "\n",
      "tf.Tensor([64 34], shape=(2,), dtype=int32)\n",
      "\n",
      "tf.Tensor([64 38], shape=(2,), dtype=int32)\n",
      "\n",
      "tf.Tensor([64 38], shape=(2,), dtype=int32)\n"
     ]
    }
   ],
   "source": [
    "# You can also see that everybatch has a different seq length.\n",
    "print('Each batch has a different seq length when looking at only 1 language.')\n",
    "for port, eng in train_dataset.take(5):\n",
    "    print('')\n",
    "    print(tf.shape(eng))\n"
   ]
  },
  {
   "cell_type": "markdown",
   "metadata": {
    "id": "nBQuibYA4n0n"
   },
   "source": [
    "## Positional encoding\n",
    "\n",
    "Since this model doesn't contain any recurrence or convolution, positional encoding is added to give the model some information about the relative position of the words in the sentence. \n",
    "\n",
    "The positional encoding vector is added to the embedding vector. Embeddings represent a token in a d-dimensional space where tokens with similar meaning will be closer to each other. But the embeddings do not encode the relative position of words in a sentence. So after adding the positional encoding, words will be closer to each other based on the *similarity of their meaning and their position in the sentence*, in the d-dimensional space.\n",
    "\n",
    "See the notebook on [positional encoding](https://github.com/tensorflow/examples/blob/master/community/en/position_encoding.ipynb) to learn more about it. The formula for calculating the positional encoding is as follows:\n",
    "\n",
    "$$\\Large{PE_{(pos, 2i)} = sin(pos / 10000^{2i / d_{model}})} $$\n",
    "$$\\Large{PE_{(pos, 2i+1)} = cos(pos / 10000^{2i / d_{model}})} $$"
   ]
  },
  {
   "cell_type": "code",
   "execution_count": 16,
   "metadata": {
    "execution": {
     "iopub.execute_input": "2020-09-27T01:27:45.840615Z",
     "iopub.status.busy": "2020-09-27T01:27:45.840062Z",
     "iopub.status.idle": "2020-09-27T01:27:45.841757Z",
     "shell.execute_reply": "2020-09-27T01:27:45.842107Z"
    },
    "id": "WhIOZjMNKujn"
   },
   "outputs": [],
   "source": [
    "def get_angles(max_rows, dim_model):\n",
    "  \"\"\"All I know is that this thing returns a positional matrix shape (token position, subword embedding dim).\n",
    "  \n",
    "  Arguments:\n",
    "  max_rows -- int, num or rows on y-axis. y-axis of visualization below in notebook. \n",
    "  dim_model -- int, dimension of word embedding. x-axis of visualization below in notebook.\n",
    "  \n",
    "  Return:\n",
    "  numpy matrix, shape (token_position, subword dim embedding)\n",
    "  \"\"\"\n",
    "\n",
    "  # Makes into column of all positions leading up to this position. For example, \n",
    "  # if the position is 12 you can a column vector shape (12, 1) 0, 1,2,3,4...12.\n",
    "  # This is the same as np.expand_dims(np.arange(position), 1)\n",
    "  y_axis = np.arange(max_rows)[:, np.newaxis]\n",
    "#   import pdb;pdb.set_trace()\n",
    "  # This creates a row vector shape (1, dim_model) 0,1,2,3...512.\n",
    "  # This is the same as np.expand_dims(np.arange(dim_model), 0)\n",
    "  x_axis = np.arange(dim_model)[np.newaxis, :]\n",
    "\n",
    "  angle_rates = 1 / np.power(10000, (2 * (x_axis//2)) / np.float32(dim_model))\n",
    "  \n",
    "  return y_axis * angle_rates\n"
   ]
  },
  {
   "cell_type": "code",
   "execution_count": 17,
   "metadata": {},
   "outputs": [
    {
     "data": {
      "text/plain": [
       "(50, 512)"
      ]
     },
     "metadata": {},
     "output_type": "display_data"
    },
    {
     "data": {
      "text/plain": [
       "array([[0.00000000e+00, 0.00000000e+00, 0.00000000e+00, ...,\n",
       "        0.00000000e+00, 0.00000000e+00, 0.00000000e+00],\n",
       "       [1.00000000e+00, 1.00000000e+00, 9.64661620e-01, ...,\n",
       "        1.07460783e-04, 1.03663293e-04, 1.03663293e-04],\n",
       "       [2.00000000e+00, 2.00000000e+00, 1.92932324e+00, ...,\n",
       "        2.14921566e-04, 2.07326586e-04, 2.07326586e-04],\n",
       "       ...,\n",
       "       [4.70000000e+01, 4.70000000e+01, 4.53390961e+01, ...,\n",
       "        5.05065679e-03, 4.87217476e-03, 4.87217476e-03],\n",
       "       [4.80000000e+01, 4.80000000e+01, 4.63037578e+01, ...,\n",
       "        5.15811758e-03, 4.97583806e-03, 4.97583806e-03],\n",
       "       [4.90000000e+01, 4.90000000e+01, 4.72684194e+01, ...,\n",
       "        5.26557836e-03, 5.07950135e-03, 5.07950135e-03]])"
      ]
     },
     "execution_count": 17,
     "metadata": {},
     "output_type": "execute_result"
    }
   ],
   "source": [
    "display(get_angles(50, 512).shape)\n",
    "get_angles(50, 512)#.shape\n"
   ]
  },
  {
   "cell_type": "code",
   "execution_count": 18,
   "metadata": {
    "execution": {
     "iopub.execute_input": "2020-09-27T01:27:45.847530Z",
     "iopub.status.busy": "2020-09-27T01:27:45.846912Z",
     "iopub.status.idle": "2020-09-27T01:27:45.848626Z",
     "shell.execute_reply": "2020-09-27T01:27:45.849030Z"
    },
    "id": "1Rz82wEs5biZ"
   },
   "outputs": [],
   "source": [
    "def positional_encoding(max_row_dimension_of_position_embedding, dim_model):\n",
    "  \"\"\"Make a positional encoding matrix. Later on, this matrix will be sliced according to \n",
    "  max length seq of each padded batch and then added to the word embedding. I don't know\n",
    "  why they do it like this because you could've just used the size of the max seq length\n",
    "  of the batch to determine the num of rows in the x-axis because it's the same exact thing\n",
    "  (you can see this is the proof a few cells below).\n",
    "\n",
    "  Arguments:\n",
    "  max_row_dimension_of_position_embedding -- int, you choose but has to be bigger than the max\n",
    "  seq length of all the batches.\n",
    "  dim_model -- int, dimension of word embedding\n",
    "  \n",
    "  Return:\n",
    "  tf Tensor of rank 3, shape (1,max rows from argument, dimension of word embedding; prolly 512)\n",
    "  \"\"\"\n",
    "\n",
    "  angle_rads = get_angles(\n",
    "      max_row_dimension_of_position_embedding, \n",
    "      dim_model)\n",
    "  \n",
    "  # apply sin to even indices in the array; 2i\n",
    "  angle_rads[:, 0::2] = np.sin(angle_rads[:, 0::2])\n",
    "  \n",
    "  # apply cos to odd indices in the array; 2i+1\n",
    "  angle_rads[:, 1::2] = np.cos(angle_rads[:, 1::2])\n",
    "    \n",
    "  # don't know whey but they added another axis at beginning. Not sure if it's \n",
    "  # for batches??\n",
    "  pos_encoding = angle_rads[np.newaxis, ...]\n",
    "    \n",
    "  # Convert this numpy array into a tensorflow Tensor because this output \n",
    "  # is going to be added to another tf tensor during training so it MUST BE A TF TENSOR.\n",
    "  return tf.cast(pos_encoding, dtype=tf.float32)\n",
    "\n"
   ]
  },
  {
   "cell_type": "code",
   "execution_count": 19,
   "metadata": {},
   "outputs": [
    {
     "name": "stdout",
     "output_type": "stream",
     "text": [
      "tf.Tensor([    1 30000   512], shape=(3,), dtype=int32)\n"
     ]
    },
    {
     "data": {
      "image/png": "[encoded data removed]",
      "text/plain": [
       "<Figure size 432x288 with 1 Axes>"
      ]
     },
     "metadata": {
      "needs_background": "light"
     },
     "output_type": "display_data"
    }
   ],
   "source": [
    "pos_encoding = positional_encoding(30_000, 512)\n",
    "print (tf.shape(pos_encoding))\n",
    "\n",
    "plt.pcolormesh(pos_encoding[0].numpy(), cmap='RdBu')\n",
    "plt.xlabel('Depth')\n",
    "plt.xlim((0, 512))\n",
    "plt.ylabel('Position')\n",
    "# plt.colorbar()\n",
    "plt.show()"
   ]
  },
  {
   "cell_type": "code",
   "execution_count": null,
   "metadata": {},
   "outputs": [],
   "source": [
    "pos_encoding = positional_encoding(3_000, 512)\n",
    "print (tf.shape(pos_encoding))\n",
    "\n",
    "plt.pcolormesh(pos_encoding[0].numpy(), cmap='RdBu')\n",
    "plt.xlabel('Depth')\n",
    "plt.xlim((0, 512))\n",
    "plt.ylabel('Position')\n",
    "# plt.colorbar()\n",
    "plt.show()"
   ]
  },
  {
   "cell_type": "code",
   "execution_count": null,
   "metadata": {},
   "outputs": [],
   "source": [
    "sliceSubsetofLargePosEncoding = 300\n",
    "\n",
    "plt.pcolormesh(pos_encoding[0][:sliceSubsetofLargePosEncoding, :].numpy(), cmap='RdBu')\n",
    "plt.xlabel('Depth')\n",
    "plt.xlim((0, 512))\n",
    "plt.ylabel('Position')\n",
    "plt.colorbar()\n",
    "plt.show()"
   ]
  },
  {
   "cell_type": "code",
   "execution_count": null,
   "metadata": {
    "execution": {
     "iopub.execute_input": "2020-09-27T01:27:45.853505Z",
     "iopub.status.busy": "2020-09-27T01:27:45.852925Z",
     "iopub.status.idle": "2020-09-27T01:27:46.369544Z",
     "shell.execute_reply": "2020-09-27T01:27:46.369018Z"
    },
    "id": "1kLCla68EloE"
   },
   "outputs": [],
   "source": [
    "pos_encoding = positional_encoding(300, 512)\n",
    "print (tf.shape(pos_encoding))\n",
    "\n",
    "plt.pcolormesh(pos_encoding[0].numpy(), cmap='RdBu')\n",
    "plt.xlabel('Depth')\n",
    "plt.xlim((0, 512))\n",
    "plt.ylabel('Position')\n",
    "plt.colorbar()\n",
    "plt.show()"
   ]
  },
  {
   "cell_type": "code",
   "execution_count": null,
   "metadata": {},
   "outputs": [],
   "source": [
    "# The 2 positional encoding above are identical. Taking a subset of the larger positional \n",
    "# encoding is the same as making a positional encoding with the function using a smaller\n",
    "# value in the argument.\n",
    "assert np.sum(~(pos_encoding[0][:sliceSubsetofLargePosEncoding, :].numpy() == pos_encoding))==0, 'The 2 positional encodings are NOT identical'"
   ]
  },
  {
   "cell_type": "code",
   "execution_count": null,
   "metadata": {
    "scrolled": true
   },
   "outputs": [],
   "source": [
    "# The range of values in the matrix is [-1, 1].\n",
    "# Notice that the number of rows in axis 1 is the is a max seq length of the batch which is\n",
    "# sliced from the original rows which was the number of subwords in the subwords. \n",
    "# No clue why they do that.\n",
    "pos_encoding"
   ]
  },
  {
   "cell_type": "markdown",
   "metadata": {
    "id": "a_b4ou4TYqUN"
   },
   "source": [
    "## Masking"
   ]
  },
  {
   "cell_type": "markdown",
   "metadata": {
    "id": "s42Uydjkv0hF"
   },
   "source": [
    "Mask all the pad tokens in the batch of sequence. It ensures that the model does not treat padding as the input. The mask indicates where pad value `0` is present: it outputs a `1` at those locations, and a `0` otherwise."
   ]
  },
  {
   "cell_type": "code",
   "execution_count": 20,
   "metadata": {
    "execution": {
     "iopub.execute_input": "2020-09-27T01:27:46.374095Z",
     "iopub.status.busy": "2020-09-27T01:27:46.373573Z",
     "iopub.status.idle": "2020-09-27T01:27:46.375314Z",
     "shell.execute_reply": "2020-09-27T01:27:46.375664Z"
    },
    "id": "U2i8-e1s8ti9"
   },
   "outputs": [],
   "source": [
    "def create_padding_mask(seq):\n",
    "  \"\"\"\n",
    "  Turns all padded 0's into 1's and everything else into 0's. \n",
    "  \n",
    "  Arguments:\n",
    "  seq -- tf tensor of dtype=tf.int32, shape (batch_size, seq_length_of_batch) \n",
    "  \n",
    "  Return:\n",
    "  tf tensor of dtype=tf.float32, only binary with padded 0's converted to 1's.\n",
    "      Returning shape (batch_size, 1, 1, batch_seq_len)\n",
    "  \"\"\"\n",
    "\n",
    "  seq = tf.cast(tf.math.equal(seq, 0), tf.float32)\n",
    "  \n",
    "  # add extra dimensions to add the padding\n",
    "  # to the attention logits.\n",
    "  return seq[:, tf.newaxis, tf.newaxis, :]  # (batch_size, 1, 1, seq_len)"
   ]
  },
  {
   "cell_type": "code",
   "execution_count": 21,
   "metadata": {
    "execution": {
     "iopub.execute_input": "2020-09-27T01:27:46.380043Z",
     "iopub.status.busy": "2020-09-27T01:27:46.379344Z",
     "iopub.status.idle": "2020-09-27T01:27:46.384051Z",
     "shell.execute_reply": "2020-09-27T01:27:46.383635Z"
    },
    "id": "A7BYeBCNvi7n"
   },
   "outputs": [
    {
     "data": {
      "text/plain": [
       "<tf.Tensor: shape=(3, 1, 1, 5), dtype=float32, numpy=\n",
       "array([[[[0., 0., 1., 1., 1.]]],\n",
       "\n",
       "\n",
       "       [[[0., 0., 0., 1., 1.]]],\n",
       "\n",
       "\n",
       "       [[[0., 0., 0., 0., 1.]]]], dtype=float32)>"
      ]
     },
     "execution_count": 21,
     "metadata": {},
     "output_type": "execute_result"
    }
   ],
   "source": [
    "x = tf.constant([[7, 6, 0, 0, 0], [1, 2, 3, 0, 0], [4, 5, 9, 4, 0]])\n",
    "create_padding_mask(x)"
   ]
  },
  {
   "cell_type": "markdown",
   "metadata": {
    "id": "Z0hzukDBgVom"
   },
   "source": [
    "The look-ahead mask is used to mask the future tokens in a sequence. In other words, the mask indicates which entries should not be used.\n",
    "\n",
    "This means that to predict the third word, only the first and second word will be used. Similarly to predict the fourth word, only the first, second and the third word will be used and so on."
   ]
  },
  {
   "cell_type": "code",
   "execution_count": 22,
   "metadata": {
    "execution": {
     "iopub.execute_input": "2020-09-27T01:27:46.388201Z",
     "iopub.status.busy": "2020-09-27T01:27:46.387672Z",
     "iopub.status.idle": "2020-09-27T01:27:46.389540Z",
     "shell.execute_reply": "2020-09-27T01:27:46.389961Z"
    },
    "id": "dVxS8OPI9uI0"
   },
   "outputs": [],
   "source": [
    "def create_look_ahead_mask(batch_of_tokens):\n",
    "  \"\"\"Creates a matrix from an array (seq of tokens from a sentance) sequence IT so that each row\n",
    "  is seeing one sequence at a time (masks all tokens after token index).\n",
    "  Look at example below, remember that 1 is the mask which means do not use that as input.\n",
    "  \n",
    "  Arguments:\n",
    "  batch_of_tokens -- tf tensor, array shape (1, batch seq len)\n",
    "  \n",
    "  Return:\n",
    "  tf tensor matrix, shape (batch seq len, batch seq len). This masks all future tokens at\n",
    "      each timestep in the 1st sublayer decoder multi-attention head.\"\"\"\n",
    "    \n",
    "  # Makes a matrix of ones based on batch seq length.\n",
    "  # The num_lower and num_upper combo (-1, 0) is a special case that means lower triangle part.\n",
    "  # At this point, we get a matrix of 0s and 1s but in opposite so we flip them\n",
    "  # by substracting everything by 1.\n",
    "  mask = 1 - tf.linalg.band_part(tf.ones((batch_of_tokens, batch_of_tokens)), -1, 0)\n",
    "  \n",
    "  return mask  # (seq_len, seq_len)"
   ]
  },
  {
   "cell_type": "code",
   "execution_count": null,
   "metadata": {
    "execution": {
     "iopub.execute_input": "2020-09-27T01:27:46.393812Z",
     "iopub.status.busy": "2020-09-27T01:27:46.393231Z",
     "iopub.status.idle": "2020-09-27T01:27:46.397937Z",
     "shell.execute_reply": "2020-09-27T01:27:46.397458Z"
    },
    "id": "yxKGuXxaBeeE"
   },
   "outputs": [],
   "source": [
    "x = tf.random.uniform((4, 3))\n",
    "print(x)\n",
    "temp = create_look_ahead_mask(x.shape[1])\n",
    "temp"
   ]
  },
  {
   "cell_type": "code",
   "execution_count": 23,
   "metadata": {},
   "outputs": [],
   "source": [
    "def create_masks(inp, tar):\n",
    "  \"\"\"Creates padding masks:\n",
    "  1. The encoder padding mask which just masks the padded batches\n",
    "  2. The look ahead mask which pads all future tokens at each timestep.\n",
    "  \n",
    "  Arguments:\n",
    "  inp -- tf tensor dtype=tf.int64, encoder batch of tokens. Shape (batch size, batch seq len)\n",
    "  tar -- tf tensor dtype=tf.int64, decoder target batch of tokens. \n",
    "      Shape (batch size, batch seq len)\n",
    "  \n",
    "  Return:\n",
    "  encoder_input_and_output_padding_mask -- tf tensor dtype=tf.float32, Turns all padded 0's \n",
    "      into 1's and everything else into 0's. \n",
    "      Shape (batch size, 1, 1, batch input seq len)\n",
    "  look_ahead_mask -- tf tensor dtype=tf.float32, look ahead mask for each instance.\n",
    "      Shape (batch size, 1, batch seq len, batch seq len)\n",
    "  \"\"\"\n",
    "\n",
    "  # This padding mask will be used as the Encoder padding mask (way down below in the notebook) \n",
    "  # AND used to mask the encoder outputs which are used in the 2nd attention sublayer\n",
    "  # in the decoder.\n",
    "  encoder_input_and_output_padding_mask = create_padding_mask(inp)\n",
    "  \n",
    "  ## Create the look ahead mask so the decoder input 1st attention block only sees itself and \n",
    "  ## previous tokens at each timestep; prevents seeing future timestep tokens. \n",
    "  # Used in the 1st attention block in the decoder.\n",
    "  target_look_ahead_mask = create_look_ahead_mask(tf.shape(tar)[1])\n",
    "  target_decoder_padding_mask = create_padding_mask(tar)\n",
    "  look_ahead_mask = tf.maximum(target_decoder_padding_mask, target_look_ahead_mask)\n",
    "  \n",
    "  return encoder_input_and_output_padding_mask, look_ahead_mask\n",
    "\n"
   ]
  },
  {
   "cell_type": "code",
   "execution_count": null,
   "metadata": {},
   "outputs": [],
   "source": [
    "x = tf.constant([[3, 6, 9, 2, 0], \n",
    "                 [90, 2, 0, 0, 0], \n",
    "                 [30, 288, 1, 0, 0]])  # shape (3, 5)\n",
    "\n",
    "y = tf.constant([[493, 5, 0, 0, 0, 0, 0], \n",
    "                 [56, 355, 1, 3, 4, 0, 0], \n",
    "                 [3, 56, 23, 0, 0, 0, 0]])  # shape (3, 7)\n",
    "\n",
    "encInput_and_OutputPadding_mask, targetLookAheadAndMaskPad = create_masks(x, y)\n",
    "print('Input padding mask used for ENCODER\\'S input and also used to mask the ENCODER\\'S output \\\n",
    "which are used in the 2nd attention block of the DECODER multi-attention.')\n",
    "display(encInput_and_OutputPadding_mask)\n",
    "print('\\n\\nTarget look ahead and padding mask combined. It is used in the 1st attention block in the decoder. \\\n",
    "It is used to pad and mask future tokens at each timestep in the decoder input.')\n",
    "display(targetLookAheadAndMaskPad)"
   ]
  },
  {
   "cell_type": "markdown",
   "metadata": {
    "id": "xluDl5cXYy4y"
   },
   "source": [
    "## Scaled dot product attention"
   ]
  },
  {
   "cell_type": "markdown",
   "metadata": {
    "id": "vsxEE_-Wa1gF"
   },
   "source": [
    "<img src=\"https://www.tensorflow.org/images/tutorials/transformer/scaled_attention.png\" width=\"500\" alt=\"scaled_dot_product_attention\">\n",
    "\n",
    "The attention function used by the transformer takes three inputs: Q (query), K (key), V (value). The equation used to calculate the attention weights is:\n",
    "\n",
    "$$\\Large{Attention(Q, K, V) = softmax_k(\\frac{QK^T}{\\sqrt{d_k}}) V} $$\n",
    "\n",
    "The dot-product attention is scaled by a factor of square root of the depth. This is done because for large values of depth, the dot product grows large in magnitude pushing the softmax function where it has small gradients resulting in a very hard softmax. \n",
    "\n",
    "For example, consider that `Q` and `K` have a mean of 0 and variance of 1. Their matrix multiplication will have a mean of 0 and variance of `last dimesion of axis k (or q, they're the same)`. Hence, *square root of `last dimesion of axis k (or q, they're the same)`* will result in the standard deviation and this is used for scaling (and not any other number) because the matmul of `Q` and `K` should have a mean of 0 and variance of 1, and you get a gentler softmax. Look at the cell below to see it yourself.\n",
    "\n",
    "The mask is multiplied with -1e9 (close to negative infinity). This is done because the mask is summed with the scaled matrix multiplication of Q and K and is applied immediately before a softmax. The goal is to zero out these cells, and large negative inputs to softmax are near zero in the output."
   ]
  },
  {
   "cell_type": "markdown",
   "metadata": {},
   "source": [
    "<font size=\"5\"> * The attention weights are of the output of the softmax in the figure above.</font>"
   ]
  },
  {
   "cell_type": "code",
   "execution_count": null,
   "metadata": {},
   "outputs": [],
   "source": [
    "q = tf.random.normal((24, 12, 5, 70), mean=0.0, stddev=1.0)\n",
    "k = tf.random.normal((24, 12, 4, 70), mean=0.0, stddev=1.0)\n",
    "# Transpose 'k' so the dimensions work for the matrix multiplication\n",
    "k = tf.transpose(k, perm=(0, 1, 3, 2))\n",
    "\n",
    "qMatMulk = tf.matmul(q, k)\n",
    "var = tf.math.reduce_variance(qMatMulk)\n",
    "\n",
    "print('variance of the matrix multiplication is about equal to the dimension \\\n",
    "in the last axis:\\n', var.numpy())\n",
    "\n",
    "# Get the standard deviation of the variance by taking square root\n",
    "std = tf.sqrt(var)\n",
    "\n",
    "# Scale (same concept as feature scaling) by dividing by std so the std, or variance,\n",
    "# becomes 1.\n",
    "scaledMatrix = tf.math.reduce_variance(qMatMulk/std)\n",
    "# This would've been the same as std because \n",
    "# the square root of variance = 1 is also equal to 1.\n",
    "print('\\nScaled matrix variance: ', scaledMatrix.numpy())\n"
   ]
  },
  {
   "cell_type": "code",
   "execution_count": 24,
   "metadata": {
    "execution": {
     "iopub.execute_input": "2020-09-27T01:27:46.404037Z",
     "iopub.status.busy": "2020-09-27T01:27:46.403506Z",
     "iopub.status.idle": "2020-09-27T01:27:46.405697Z",
     "shell.execute_reply": "2020-09-27T01:27:46.405260Z"
    },
    "id": "LazzUq3bJ5SH"
   },
   "outputs": [],
   "source": [
    "def scaled_dot_product_attention(q, k, v, mask):\n",
    "  \"\"\"Calculate the attention weights and the dot product of the attention weights and value (v).\n",
    "  q, k, v must have matching leading dimensions (I think he means same dimensions in ':-2' axis).\n",
    "  k, v must have matching penultimate dimension, i.e.: seq_len_k = seq_len_v. In other words,\n",
    "  they must have matching dimension in the second to last axis.\n",
    "  The mask has different shapes depending on its type(padding or look ahead) \n",
    "      but it must be broadcastable for addition.\n",
    "  \n",
    "  3 possible v, k, q scenerios and their respective mask:\n",
    "  1. q, k, v are all inputs on the encoder side; encoder mask.\n",
    "  2. q, k, v are all inputs from the decoder side; look ahead mask.\n",
    "  3. k and v are passed the same object which came from the ENCODER output. \n",
    "      q is passed an output that came from within the DECODER; encoder mask \n",
    "  \n",
    "  Args:\n",
    "    q -- tf tensor dtype=tf.float32, \n",
    "        query shape == (batch_size, num_heads, batch_seq_len_q, depth)\n",
    "    k -- tf tensor dtype=tf.float32,\n",
    "        key shape == (batch_size, num_heads, batch_seq_len_k, depth)\n",
    "    v -- tf tensor dtype=tf.float32,\n",
    "        value shape == (batch_size, num_heads, batch_seq_len_v, depth)\n",
    "    mask: Float tensor that has different shapes depending on its type (padding\n",
    "        or look ahead). Regardless of the shape, it must be broadcastable \n",
    "        to (..., decoder_batch_seq_len, encoder_batch_seq_len). Defaults to None.\n",
    "    \n",
    "  Returns:\n",
    "    scaled_dot_product_attn_output: Output of attention head. \n",
    "        Shape (batch_size, num_heads, batch_seq_len_q, depth_v)\n",
    "    attention_weights: Weights that are used to determine which indexes in the sequence to focus on.\n",
    "        shape (batch_size, num_heads, batch_seq_len_q, seq_len_k)\n",
    "  \"\"\"\n",
    "\n",
    "  # This matrix multiplication will only flip the last 2 axis for the transpose.\n",
    "  # q: query shape == (batch_size, num_heads, batch_seq_len_q, depth)\n",
    "  # transposedk: key shape == (batch_size, num_heads, depth, seq_len_k)\n",
    "  # output shape:(batch_size, num_heads, batch_seq_len_q, batch_seq_len_k)\n",
    "  matmul_qk = tf.matmul(q, k, transpose_b=True)  \n",
    "\n",
    "  # It seems the variance of the matrix multiplication above is equal to,\n",
    "  # or close to, the last dimension of q and k (same number).\n",
    "  # To make this scaled you just have to divide by the std. The std is the square root of the\n",
    "  # variance. So, when you divide by the std you know have a scaled matrix that will\n",
    "  # have a mean=0 and std=1\n",
    "  var = tf.cast(tf.shape(k)[-1], tf.float32)\n",
    "  std = tf.math.sqrt(var)\n",
    "  scaled_attention_logits = matmul_qk / std\n",
    "\n",
    "  # Add the mask to the scaled tensor. Look at scenerios above in the description.\n",
    "  # Scenerio 1: scaled_attention_logits shape (..., batch_enc_len, batch_enc_len); \n",
    "    # mask shape (batch_size, 1, 1, batch_enc_len)\n",
    "  # Scenerio 2: scaled_attention_logits shape (..., batch_dec_len, batch_dec_len); \n",
    "    # Look ahead mask, shape (batch_size, 1, batch_dec_len, batch_dec_len) \n",
    "  # Scenerio 3: scaled_attention_logits shape (..., batch_dec_len, batch_enc_len); \n",
    "    # mask shape (batch_size, 1, 1, batch_enc_len)   \n",
    "  # The mask is multiplied with -1e9 (close to negative infinity). This is done because \n",
    "  # the mask is summed with the scaled matrix multiplication of Q and K and is applied immediately \n",
    "  # before a softmax. The goal is to zero out these cells, and large negative inputs to softmax are \n",
    "  # near zero in the output.\n",
    "  if mask is not None:\n",
    "    scaled_attention_logits += (mask * -1e9)  \n",
    "\n",
    "  # softmax is normalized on the last axis (seq_len_k) so that the scores\n",
    "  # add up to 1. Output shape (..., batch_seq_len_q, seq_len_k)\n",
    "  attention_weights = tf.nn.softmax(scaled_attention_logits, axis=-1)  \n",
    "  \n",
    "  # This uses the attention weights to pretty much keep only the values it's interested in\n",
    "  # and get rid of the ones that it doesn't want to pay attention to.\n",
    "  # output shape (..., batch_seq_len_q, depth_v)    \n",
    "  scaled_dot_product_attn_output = tf.matmul(attention_weights, v)\n",
    "\n",
    "  return scaled_dot_product_attn_output, attention_weights"
   ]
  },
  {
   "cell_type": "markdown",
   "metadata": {
    "id": "FiqETnhCkoXh"
   },
   "source": [
    "As the softmax normalization is done on K, its values decide the amount of importance given to Q.\n",
    "\n",
    "The output represents the multiplication of the attention weights and the V (value) vector. This ensures that the words you want to focus on are kept as-is and the irrelevant words are flushed out."
   ]
  },
  {
   "cell_type": "code",
   "execution_count": null,
   "metadata": {
    "execution": {
     "iopub.execute_input": "2020-09-27T01:27:46.409900Z",
     "iopub.status.busy": "2020-09-27T01:27:46.409305Z",
     "iopub.status.idle": "2020-09-27T01:27:46.411542Z",
     "shell.execute_reply": "2020-09-27T01:27:46.410974Z"
    },
    "id": "n90YjClyInFy"
   },
   "outputs": [],
   "source": [
    "def print_out(q, k, v):\n",
    "  temp_out, temp_attn = scaled_dot_product_attention(\n",
    "      q, k, v, None)\n",
    "  print ('Attention weights are:')\n",
    "  print (temp_attn)\n",
    "  print ('Output is:')\n",
    "  print (temp_out)"
   ]
  },
  {
   "cell_type": "code",
   "execution_count": null,
   "metadata": {
    "execution": {
     "iopub.execute_input": "2020-09-27T01:27:46.416691Z",
     "iopub.status.busy": "2020-09-27T01:27:46.416101Z",
     "iopub.status.idle": "2020-09-27T01:27:46.581877Z",
     "shell.execute_reply": "2020-09-27T01:27:46.581334Z"
    },
    "id": "yAzUAf2DPlNt"
   },
   "outputs": [],
   "source": [
    "# This seems to round to whole number instead of printing scientific format.\n",
    "np.set_printoptions(suppress=True)\n",
    "\n",
    "\n",
    "# query example\n",
    "temp_q = tf.constant([[0, 10, 0]], dtype=tf.float32)  # (1, 3)\n",
    "\n",
    "# key example\n",
    "temp_k = tf.constant([[10,0,0],\n",
    "                      [0,10,0],\n",
    "                      [0,0,10],\n",
    "                      [0,0,10]], dtype=tf.float32)  # (4, 3)\n",
    "\n",
    "# value example\n",
    "temp_v = tf.constant([[   1,0],\n",
    "                      [  10,0],\n",
    "                      [ 100,5],\n",
    "                      [1000,6]], dtype=tf.float32)  # (4, 2)\n",
    "\n",
    "# This `query` aligns with the second `key` in temp_k,\n",
    "# so the second `value` is returned.\n",
    "print_out(temp_q, temp_k, temp_v)"
   ]
  },
  {
   "cell_type": "code",
   "execution_count": null,
   "metadata": {
    "execution": {
     "iopub.execute_input": "2020-09-27T01:27:46.588236Z",
     "iopub.status.busy": "2020-09-27T01:27:46.585656Z",
     "iopub.status.idle": "2020-09-27T01:27:46.590725Z",
     "shell.execute_reply": "2020-09-27T01:27:46.590243Z"
    },
    "id": "zg6k-fGhgXra"
   },
   "outputs": [],
   "source": [
    "# This query aligns with a repeated key (third and fourth), \n",
    "# so all associated values get averaged.\n",
    "temp_q = tf.constant([[0, 0, 10]], dtype=tf.float32)  # (1, 3)\n",
    "print_out(temp_q, temp_k, temp_v)"
   ]
  },
  {
   "cell_type": "code",
   "execution_count": null,
   "metadata": {
    "execution": {
     "iopub.execute_input": "2020-09-27T01:27:46.595176Z",
     "iopub.status.busy": "2020-09-27T01:27:46.594239Z",
     "iopub.status.idle": "2020-09-27T01:27:46.598708Z",
     "shell.execute_reply": "2020-09-27T01:27:46.599141Z"
    },
    "id": "UAq3YOzUgXhb"
   },
   "outputs": [],
   "source": [
    "# This query aligns equally with the first and second key, \n",
    "# so their values get averaged.\n",
    "# NOTICE THIS IS A LITTLE DIFFERENT THE THE CELL ABOVE BECAUSE \n",
    "# IT IS NOT A REPEATED KEY.\n",
    "temp_q = tf.constant([[10, 10, 0]], dtype=tf.float32)  # (1, 3)\n",
    "print_out(temp_q, temp_k, temp_v)"
   ]
  },
  {
   "cell_type": "markdown",
   "metadata": {
    "id": "aOz-4_XIhaTP"
   },
   "source": [
    "Pass all the queries together."
   ]
  },
  {
   "cell_type": "code",
   "execution_count": null,
   "metadata": {
    "execution": {
     "iopub.execute_input": "2020-09-27T01:27:46.603832Z",
     "iopub.status.busy": "2020-09-27T01:27:46.602968Z",
     "iopub.status.idle": "2020-09-27T01:27:46.607184Z",
     "shell.execute_reply": "2020-09-27T01:27:46.607577Z"
    },
    "id": "6dlU8Tm-hYrF"
   },
   "outputs": [],
   "source": [
    "temp_q = tf.constant([[0, 0, 10], [0, 10, 0], [10, 10, 0]], dtype=tf.float32)  # (3, 3)\n",
    "print('temp query')\n",
    "temp_q"
   ]
  },
  {
   "cell_type": "code",
   "execution_count": null,
   "metadata": {},
   "outputs": [],
   "source": [
    "print_out(temp_q, temp_k, temp_v)"
   ]
  },
  {
   "cell_type": "markdown",
   "metadata": {
    "id": "kmzGPEy64qmA"
   },
   "source": [
    "## Multi-head attention"
   ]
  },
  {
   "cell_type": "markdown",
   "metadata": {
    "id": "fz5BMC8Kaoqo"
   },
   "source": [
    "<img src=\"https://www.tensorflow.org/images/tutorials/transformer/multi_head_attention.png\" width=\"500\" alt=\"multi-head attention\">\n",
    "\n",
    "\n",
    "Multi-head attention consists of four parts:\n",
    "*    Linear layers and split into heads.\n",
    "*    Scaled dot-product attention.\n",
    "*    Concatenation of heads.\n",
    "*    Final linear layer."
   ]
  },
  {
   "cell_type": "markdown",
   "metadata": {
    "id": "JPmbr6F1C-v_"
   },
   "source": [
    "Each multi-head attention block gets three inputs; Q (query), K (key), V (value). These are put through linear (Dense) layers and split up into multiple heads. \n",
    "\n",
    "The `scaled_dot_product_attention` defined above is applied to each head (broadcasted for efficiency). An appropriate mask must be used in the attention step.  The attention output for each head is then concatenated (using `tf.transpose`, and `tf.reshape`) and put through a final `Dense` layer.\n",
    "\n",
    "Instead of one single attention head, Q, K, and V are split into multiple heads because it allows the model to jointly attend to information at different positions from different representational spaces. After the split each head has a reduced dimensionality, so the total computation cost is the same as a single head attention with full dimensionality."
   ]
  },
  {
   "cell_type": "code",
   "execution_count": 25,
   "metadata": {
    "execution": {
     "iopub.execute_input": "2020-09-27T01:27:46.617545Z",
     "iopub.status.busy": "2020-09-27T01:27:46.616460Z",
     "iopub.status.idle": "2020-09-27T01:27:46.619254Z",
     "shell.execute_reply": "2020-09-27T01:27:46.619670Z"
    },
    "id": "BSV3PPKsYecw"
   },
   "outputs": [],
   "source": [
    "class MultiHeadAttention(tf.keras.layers.Layer):\n",
    "  \"\"\"Take in v, k, q and perfom the whole multi-head attention calculation.\n",
    "  \n",
    "  ### Initialize\n",
    "  Arguments:\n",
    "  dim_model -- int, dim of the model\n",
    "  num_heads -- int, num of multi-attention heads\n",
    "  \"\"\"\n",
    "\n",
    "  def __init__(self, dim_model, num_heads):\n",
    "    super(MultiHeadAttention, self).__init__()\n",
    "    self.num_heads = num_heads\n",
    "    self.dim_model = dim_model\n",
    "    \n",
    "    # Making sure that splitting the dimensions into heads is perfectly divided.\n",
    "    assert dim_model % self.num_heads == 0\n",
    "    \n",
    "    # This is floor division\n",
    "    self.depth = dim_model // self.num_heads\n",
    "    \n",
    "    # Make Dense layers with output of dimensions of model\n",
    "    # This is the layer we use to create the actual values, keys, and queries.\n",
    "    self.wq = tf.keras.layers.Dense(dim_model)\n",
    "    self.wk = tf.keras.layers.Dense(dim_model)\n",
    "    self.wv = tf.keras.layers.Dense(dim_model)\n",
    "    \n",
    "    # The final linear Dense layer in the picture above\n",
    "    self.dense = tf.keras.layers.Dense(dim_model)\n",
    "        \n",
    "  def split_heads(self, x, batch_size):\n",
    "    \"\"\"\n",
    "    Split the inputs last dimension into (num_heads, depth) and transpose the result such \n",
    "    that the shape is (batch_size, num_heads, seq_len, depth).\n",
    "    I guess it can't be done in one step using only reshape.\n",
    "    For example, if the dim of the model is 512 then splitting it into 8 heads would make \n",
    "    the dimensions of each head reduced from 512 to 64 dimensions.\n",
    "    \n",
    "    Arguments:\n",
    "    x -- tf tensor, shape (batch_size, batch_seq_length, dim_model)\n",
    "    batch_size -- self-explanatory\n",
    "    \n",
    "    Return:\n",
    "    The split heads, tf tensor, shape (batch_size, num_heads, batch_seq_len, depth)\n",
    "    \"\"\"\n",
    "    \n",
    "    # x reshape output (batch_size, seq_length, num_heads, depth)\n",
    "    x = tf.reshape(x, (batch_size, -1, self.num_heads, self.depth))\n",
    "    \n",
    "    # transposing output shape (batch_size, num_heads, batch_seq_len, depth)\n",
    "    return tf.transpose(x, perm=[0, 2, 1, 3])\n",
    "    \n",
    "  def call(self, pre_v, pre_k, pre_q, mask):\n",
    "    \"\"\"\n",
    "    Pass the building block of v, k, q and transform it to v, k, and q. Then split\n",
    "    them into multiple heads. Then, pass them to the scaled_dot_product_attentions_function and \n",
    "    concat the heads back together and pass it though a dense layer to complete the calculation.\n",
    "    \n",
    "    \n",
    "    Arguments:\n",
    "    pre_v -- tf tensor, building block of value\n",
    "    pre_k -- tf tensor, building block of key\n",
    "    pre_q -- tf tensor, building block of query\n",
    "    mask -- tf tensor or None, padding mask, look ahead mask, or None\n",
    "    \n",
    "    multihead_attention_output -- tf tensor, Shape (batch_size, input_batch_seq_len ,dim_model)\n",
    "    attention_weights -- tf tensor, Shape (batch_size, num_heads, batch_seq_len_q, batch_seq_len_k)\n",
    "    \"\"\"\n",
    "    \n",
    "    \n",
    "    batch_size = tf.shape(pre_q)[0]\n",
    "    \n",
    "    # Create values, keys, and queries for the batch.\n",
    "    q = self.wq(pre_q)  # output shape (batch_size, seq_len, dim_model)\n",
    "    k = self.wk(pre_k)  # output shape (batch_size, seq_len, dim_model)\n",
    "    v = self.wv(pre_v)  # output shape (batch_size, seq_len, dim_model)\n",
    "    \n",
    "    # Split dim_model into multiple heads; this will reduce dimensions (depth).\n",
    "    q = self.split_heads(q, batch_size)  # (batch_size, num_heads, seq_len_q, depth)\n",
    "    k = self.split_heads(k, batch_size)  # (batch_size, num_heads, seq_len_k, depth)\n",
    "    v = self.split_heads(v, batch_size)  # (batch_size, num_heads, seq_len_v, depth)\n",
    "\n",
    "    # attention_head_output.shape == (batch_size, num_heads, seq_len_q, depth)\n",
    "    # attention_weights.shape == (batch_size, num_heads, seq_len_q, seq_len_k)\n",
    "    attention_head_output, attention_weights = scaled_dot_product_attention(\n",
    "        q, k, v, mask)\n",
    "    \n",
    "    # Transpose to move axes, output shape (batch_size, seq_len_q, num_heads, depth)\n",
    "    attention_head_output = tf.transpose(attention_head_output, perm=[0, 2, 1, 3])\n",
    "    \n",
    "    # Concat all the head back together. Shape (batch_size, seq_len_q, dim_model)\n",
    "    concat_attention = tf.reshape(attention_head_output, \n",
    "                                  (batch_size, -1, self.dim_model))  \n",
    "\n",
    "    # Pass through a linear layer for multihead attention output.\n",
    "    multihead_attention_output = self.dense(concat_attention)  \n",
    "        \n",
    "    return multihead_attention_output, attention_weights"
   ]
  },
  {
   "cell_type": "markdown",
   "metadata": {
    "id": "0D8FJue5lDyZ"
   },
   "source": [
    "Create a `MultiHeadAttention` layer to try out. At each location in the sequence, `y`, the `MultiHeadAttention` runs all 8 attention heads across all other locations in the sequence, returning a new vector of the same length at each location."
   ]
  },
  {
   "cell_type": "code",
   "execution_count": null,
   "metadata": {},
   "outputs": [],
   "source": [
    "temp_mha = MultiHeadAttention(dim_model=512, \n",
    "                              num_heads=8\n",
    "                             )\n",
    "\n",
    "y = tf.random.uniform((1, 60, 512))  # (batch_size, encoder_sequence, d_model)\n",
    "multiheadAttentionOutput, attnWeights = temp_mha(pre_v=y,\n",
    "                     pre_k=y,\n",
    "                     pre_q=y, \n",
    "                     mask=None)\n",
    "multiheadAttentionOutput.shape, attnWeights.shape"
   ]
  },
  {
   "cell_type": "markdown",
   "metadata": {
    "id": "RdDqGayx67vv"
   },
   "source": [
    "## Point wise feed forward network"
   ]
  },
  {
   "cell_type": "markdown",
   "metadata": {
    "id": "gBqzJXGfHK3X"
   },
   "source": [
    "Point wise feed forward network consists of two fully-connected layers with a ReLU activation in between."
   ]
  },
  {
   "cell_type": "code",
   "execution_count": 26,
   "metadata": {
    "execution": {
     "iopub.execute_input": "2020-09-27T01:27:46.659573Z",
     "iopub.status.busy": "2020-09-27T01:27:46.658915Z",
     "iopub.status.idle": "2020-09-27T01:27:46.661172Z",
     "shell.execute_reply": "2020-09-27T01:27:46.660671Z"
    },
    "id": "ET7xLt0yCT6Z"
   },
   "outputs": [],
   "source": [
    "def point_wise_feed_forward_network(dim_model, dim_feed_forward):\n",
    "  \"\"\"Simple fully connected network; dim_model --> dim_feed_forward --> dim_model\"\"\"\n",
    "\n",
    "  return tf.keras.Sequential([\n",
    "      tf.keras.layers.Dense(dim_feed_forward, activation='relu'),  # (batch_size, seq_len, dim_feed_forward)\n",
    "      tf.keras.layers.Dense(dim_model)  # (batch_size, seq_len, dim_model)\n",
    "  ])"
   ]
  },
  {
   "cell_type": "code",
   "execution_count": null,
   "metadata": {
    "execution": {
     "iopub.execute_input": "2020-09-27T01:27:46.667196Z",
     "iopub.status.busy": "2020-09-27T01:27:46.666627Z",
     "iopub.status.idle": "2020-09-27T01:27:46.692064Z",
     "shell.execute_reply": "2020-09-27T01:27:46.691581Z"
    },
    "id": "mytb1lPyOHLB"
   },
   "outputs": [],
   "source": [
    "sample_ffn = point_wise_feed_forward_network(512, 2048)\n",
    "sample_ffn(tf.random.uniform((64, 50, 512))).shape"
   ]
  },
  {
   "cell_type": "markdown",
   "metadata": {
    "id": "7e7hKcxn6-zd"
   },
   "source": [
    "## Encoder and decoder"
   ]
  },
  {
   "cell_type": "markdown",
   "metadata": {
    "id": "yScbC0MUH8dS"
   },
   "source": [
    "<img src=\"https://www.tensorflow.org/images/tutorials/transformer/transformer.png\" width=\"600\" alt=\"transformer\">"
   ]
  },
  {
   "cell_type": "markdown",
   "metadata": {
    "id": "MfYJG-Kvgwy2"
   },
   "source": [
    "The transformer model follows the same general pattern as a standard [sequence to sequence with attention model](nmt_with_attention.ipynb). \n",
    "\n",
    "* The input sentence is passed through `N` encoder layers that generates an output for each word/token in the sequence.\n",
    "* The decoder attends on the encoder's output and its own input (self-attention) to predict the next word. "
   ]
  },
  {
   "cell_type": "markdown",
   "metadata": {
    "id": "QFv-FNYUmvpn"
   },
   "source": [
    "### Encoder layer\n",
    "\n",
    "Each encoder layer consists of sublayers:\n",
    "\n",
    "1.   Multi-head attention (with padding mask) \n",
    "2.    Point wise feed forward networks. \n",
    "\n",
    "Each of these sublayers has a residual connection around it followed by a layer normalization. Residual connections help in avoiding the vanishing gradient problem in deep networks.\n",
    "\n",
    "The output of each sublayer is `LayerNorm(x + Sublayer(x))`. The normalization is done on the `d_model` (last) axis. There are N encoder layers in the transformer."
   ]
  },
  {
   "cell_type": "code",
   "execution_count": 27,
   "metadata": {
    "execution": {
     "iopub.execute_input": "2020-09-27T01:27:46.699328Z",
     "iopub.status.busy": "2020-09-27T01:27:46.698640Z",
     "iopub.status.idle": "2020-09-27T01:27:46.700613Z",
     "shell.execute_reply": "2020-09-27T01:27:46.700958Z"
    },
    "id": "ncyS-Ms3i2x_"
   },
   "outputs": [],
   "source": [
    "class EncoderLayer(tf.keras.layers.Layer):\n",
    "  \"\"\"Create a Encoder layer which consists of 2 sublayers; multi-head attention and\n",
    "  a fully connected network.\n",
    "  \n",
    "  ### Initialize\n",
    "  Arguments:\n",
    "  dim_model -- int, dim of the model\n",
    "  num_heads -- int, num of multi-attention heads\n",
    "  feed_forward_hidden_layer_dim -- int, dim of hidden layer in the fully connected netword sublayer of the \n",
    "      encoderlayer and decoderlayer.\n",
    "  rate -- float, dropout rate to prevent over-fitting\n",
    "  \"\"\"\n",
    "\n",
    "  def __init__(self, dim_model, num_heads, feed_forward_hidden_layer_dim, rate=0.1):\n",
    "    super(EncoderLayer, self).__init__()\n",
    "\n",
    "    self.mha = MultiHeadAttention(dim_model, num_heads)\n",
    "    self.fully_connected_network = point_wise_feed_forward_network(dim_model, feed_forward_hidden_layer_dim)\n",
    "\n",
    "    self.layernorm1 = tf.keras.layers.LayerNormalization(epsilon=1e-6)\n",
    "    self.layernorm2 = tf.keras.layers.LayerNormalization(epsilon=1e-6)\n",
    "    \n",
    "    self.dropsublayer_output_1 = tf.keras.layers.Dropout(rate)\n",
    "    self.dropout2 = tf.keras.layers.Dropout(rate)\n",
    "    \n",
    "  def call(self, encoder_layer_input, training, padding_mask):\n",
    "    \"\"\"The input into the muli-attention head is the positional encodding + embedding or the output\n",
    "    of another Encoder layer. Look at the fig above and you'll see Nencoder_layer_input for Encoder layers so there\n",
    "    are multiple Encoder layers.\n",
    "    \n",
    "    Arguments:\n",
    "    encoder_layer_input -- word embedding + positional encoding (batch_size, encoder_batch_seq_length, emb dim),\n",
    "        or the output of a previous Encoder layers (batch_size, encoder_batch_seq_length, emb dim)\n",
    "    training -- boolean (True or False)\n",
    "    padding_mask -- tf tensor dtype=tf.float32, encoder padding mask shape (batch_size, 1, 1, encoder_batch_seq_len)\n",
    "    \n",
    "    Return:\n",
    "    sublayer_output_2 -- tf tensor, output of an encoder layer.\n",
    "        Shape (batch_size, encoder_batch_input_seq_len, dim_model)\n",
    "    \"\"\"\n",
    "\n",
    "    # Looks like the input for query, key, and values is the same; the input.\n",
    "    multihead_attn_output, _ = self.mha(pre_v=encoder_layer_input, \n",
    "                                        pre_k=encoder_layer_input, \n",
    "                                        pre_q=encoder_layer_input, \n",
    "                                        mask=padding_mask)  # output (batch_size, input_batch_seq_len, dim_model)\n",
    "    # Looks like dropout is appled to the output of the multihead attention to prevent overfitting IT.\n",
    "    multihead_attn_output = self.dropsublayer_output_1(multihead_attn_output, training=training)\n",
    "    \n",
    "    # Residual connection to avoid vanihsing gradient problem in deep networks.\n",
    "    sublayer_output_1 = self.layernorm1(encoder_layer_input + multihead_attn_output)  # output (batch_size, input_batch_seq_len, dim_model)\n",
    "    \n",
    "    # Feed Forward Network\n",
    "    # output shape (batch_size, input_batch_seq_len, dim_model)\n",
    "    fully_connected_network_output = self.fully_connected_network(sublayer_output_1)  \n",
    "    fully_connected_network_output = self.dropout2(fully_connected_network_output, training=training)\n",
    "    \n",
    "    # Residual connection to avoid vanihsing gradient problem in deep networks.\n",
    "    sublayer_output_2 = self.layernorm2(sublayer_output_1 + fully_connected_network_output)  # Output (batch_size, input_batch_seq_len, dim_model)\n",
    "    \n",
    "    return sublayer_output_2"
   ]
  },
  {
   "cell_type": "code",
   "execution_count": null,
   "metadata": {
    "execution": {
     "iopub.execute_input": "2020-09-27T01:27:46.710814Z",
     "iopub.status.busy": "2020-09-27T01:27:46.710252Z",
     "iopub.status.idle": "2020-09-27T01:27:46.756920Z",
     "shell.execute_reply": "2020-09-27T01:27:46.757330Z"
    },
    "id": "AzZRXdO0mI48"
   },
   "outputs": [],
   "source": [
    "sample_encoder_layer = EncoderLayer(512, 8, 2048)\n",
    "\n",
    "sample_encoder_layer_output = sample_encoder_layer(\n",
    "    tf.random.uniform((64, 43, 512)), False, None) # batch_size, seq_length, emb_dim\n",
    "\n",
    "sample_encoder_layer_output.shape  # (batch_size, input_seq_len, d_model)"
   ]
  },
  {
   "cell_type": "markdown",
   "metadata": {
    "id": "6LO_48Owmx_o"
   },
   "source": [
    "### Decoder layer\n",
    "\n",
    "Each decoder layer consists of sublayers:\n",
    "\n",
    "1.   Masked multi-head attention (with look ahead mask and padding mask)\n",
    "2.   Multi-head attention (with padding mask). V (value) and K (key) receive the *encoder output* as inputs. Q (query) receives the *output from the masked multi-head attention sublayer.*\n",
    "3.   Point wise feed forward networks\n",
    "\n",
    "Each of these sublayers has a residual connection around it followed by a layer normalization. The output of each sublayer is `LayerNorm(x + Sublayer(x))`. The normalization is done on the `d_model` (last) axis.\n",
    "\n",
    "There are N decoder layers in the transformer.\n",
    "\n",
    "As Q receives the output from decoder's first attention block, and K receives the encoder output, the attention weights represent the importance given to the decoder's input based on the encoder's output. In other words, the decoder predicts the next word by looking at the encoder output and self-attending to its own output. See the demonstration above in the scaled dot product attention section."
   ]
  },
  {
   "cell_type": "code",
   "execution_count": 28,
   "metadata": {
    "execution": {
     "iopub.execute_input": "2020-09-27T01:27:46.765993Z",
     "iopub.status.busy": "2020-09-27T01:27:46.765450Z",
     "iopub.status.idle": "2020-09-27T01:27:46.767350Z",
     "shell.execute_reply": "2020-09-27T01:27:46.766844Z"
    },
    "id": "9SoX0-vd1hue"
   },
   "outputs": [],
   "source": [
    "class DecoderLayer(tf.keras.layers.Layer):\n",
    "  \"\"\"\n",
    "  Create a Encoder layer which consists of 3 sublayers; multi-head attention with look ahead\n",
    "  mask, multi-head attention with padding mask, and a fully connected network.\n",
    "  \n",
    "  ### Initialize\n",
    "  Arguments:\n",
    "  dim_model -- int, dim of the model\n",
    "  num_heads -- int, num of multi-attention heads\n",
    "  feed_forward_hidden_layer_dim -- int, dim of hidden layer in the fully connected netword sublayer of the \n",
    "      encoderlayer and decoderlayer.\n",
    "  rate -- float, dropout rate to prevent over-fitting\n",
    "  \"\"\"\n",
    "\n",
    "  def __init__(self, dim_model, num_heads, feed_forward_hidden_layer_dim, rate=0.1):\n",
    "    super(DecoderLayer, self).__init__()\n",
    "\n",
    "    self.mha1 = MultiHeadAttention(dim_model, num_heads)\n",
    "    self.mha2 = MultiHeadAttention(dim_model, num_heads)\n",
    "\n",
    "    self.ffn = point_wise_feed_forward_network(dim_model, feed_forward_hidden_layer_dim)\n",
    " \n",
    "    self.layernorm1 = tf.keras.layers.LayerNormalization(epsilon=1e-6)\n",
    "    self.layernorm2 = tf.keras.layers.LayerNormalization(epsilon=1e-6)\n",
    "    self.layernorm3 = tf.keras.layers.LayerNormalization(epsilon=1e-6)\n",
    "    \n",
    "    self.dropsublayer_output_1 = tf.keras.layers.Dropout(rate)\n",
    "    self.dropsublayer_output_2 = tf.keras.layers.Dropout(rate)\n",
    "    self.dropsublayer_output_3 = tf.keras.layers.Dropout(rate)\n",
    "    \n",
    "    \n",
    "  def call(self, decoder_layer_input, enc_output, training, look_ahead_mask, padding_mask):\n",
    "    '''Calculates decoder layer which can be used to create multiple decoder layers Nx times\n",
    "    (fig above). There are 3 sublayers:\n",
    "    1. multi-head attention with look ahead mask\n",
    "    2. multi-head attention with padding mask\n",
    "    3. a fully connected network.\n",
    "    The function does NOT include the linear to softmax calculation to get output probabilities.\n",
    "    \n",
    "    Arguments:\n",
    "    decoder_layer_input -- tr tensor, shape (batch_size, decoder_batch_seq_length, dim model)\n",
    "    enc_output -- self-edecoder_layer_inputplanatory, shape (batch_size, input_seq_len, dim model)\n",
    "    training -- boolean (True or False), used for dropout during training to prevent overfitting\n",
    "    look_ahead_mask -- tf tensor dtype=tf.float32, masks all future tokens at each timestep.\n",
    "        Shape (decoder batch input seq len, decoder batch input seq len)\n",
    "    pading_mask -- tf tensor dtype=tf.float32, input padding mask.\n",
    "        Shape (batch_size, 1, 1, encoder batch input seq len)\n",
    "        \n",
    "    Return:\n",
    "    sublayer_output_3 -- tf tensor, output of decoder layer which is sublayer 3, \n",
    "        Shape (batch_size, decoder input batch seq len, dim_model)\n",
    "    attn_weights_block1 -- tf tensor, attention weights from sublayer 1 which uses look ahead mask.\n",
    "        Shape (batch_size, decoder input batch seq len, dim_model)\n",
    "    attn_weights_block2 -- tf tensor, attention weights from sublayer 2 which uses look ahead mask.\n",
    "        Shape (batch_size, decoder input batch seq len, dim_model)\n",
    "    '''\n",
    "\n",
    "    \n",
    "    ## Sublayer 1\n",
    "    # Just like the encoder layer, the first layer of the decoder \n",
    "    # uses the same value for query, key, and values; decoder input.\n",
    "    multihead_attn_output_1, attn_weights_block1 = self.mha1(pre_v=decoder_layer_input, \n",
    "                                           pre_k=decoder_layer_input, \n",
    "                                           pre_q=decoder_layer_input, \n",
    "                                           mask=look_ahead_mask\n",
    "                                                            ) \n",
    "    \n",
    "    multihead_attn_output_1 = self.dropsublayer_output_1(multihead_attn_output_1, training=training)\n",
    "    # Residual connection to avoid vanihsing gradient problem in deep networks.\n",
    "    sublayer_output_1 = self.layernorm1(multihead_attn_output_1 + decoder_layer_input)\n",
    "    \n",
    "    \n",
    "    ## Sublayer 2\n",
    "    # Now you are going to use the output above as the query\n",
    "    # and the encoder ouput as the key and values.\n",
    "    multihead_attn_output_2, attn_weights_block2 = self.mha2(pre_v=enc_output, \n",
    "                                           pre_k=enc_output, \n",
    "                                           pre_q=sublayer_output_1, \n",
    "                                           mask=padding_mask  \n",
    "                                                            )  \n",
    "    multihead_attn_output_2 = self.dropsublayer_output_2(multihead_attn_output_2, training=training)\n",
    "    sublayer_output_2 = self.layernorm2(multihead_attn_output_2 + sublayer_output_1)  # (batch_size, target_seq_len, dim_model)\n",
    "    \n",
    "    \n",
    "    ## Sublayer 3; pass through simple fully connected network\n",
    "    ffn_output = self.ffn(sublayer_output_2)\n",
    "    ffn_output = self.dropsublayer_output_3(ffn_output, training=training)\n",
    "    sublayer_output_3 = self.layernorm3(ffn_output + sublayer_output_2)  # (batch_size, target_seq_len, dim_model)\n",
    "    \n",
    "    return sublayer_output_3, attn_weights_block1, attn_weights_block2\n"
   ]
  },
  {
   "cell_type": "code",
   "execution_count": null,
   "metadata": {
    "execution": {
     "iopub.execute_input": "2020-09-27T01:27:46.778885Z",
     "iopub.status.busy": "2020-09-27T01:27:46.778256Z",
     "iopub.status.idle": "2020-09-27T01:27:46.831544Z",
     "shell.execute_reply": "2020-09-27T01:27:46.831051Z"
    },
    "id": "Ne2Bqx8k71l0"
   },
   "outputs": [],
   "source": [
    "sample_decoder_layer = DecoderLayer(512, 8, 2048)\n",
    "\n",
    "sample_decoder_layer_output, _, _ = sample_decoder_layer(decoder_layer_input=tf.random.uniform((64, 50, 512)), \n",
    "                                                         enc_output=sample_encoder_layer_output, \n",
    "                                                         training=False, \n",
    "                                                         look_ahead_mask=None, \n",
    "                                                         padding_mask=None)\n",
    "\n",
    "\n",
    "sample_decoder_layer_output.shape  # (batch_size, target_seq_len, d_model)\n"
   ]
  },
  {
   "cell_type": "markdown",
   "metadata": {
    "id": "SE1H51Ajm0q1"
   },
   "source": [
    "### Encoder\n",
    "\n",
    "The `Encoder` consists of:\n",
    "1.   Input Embedding\n",
    "2.   Positional Encoding\n",
    "3.   N encoder layers\n",
    "\n",
    "The input is put through an embedding which is summed with the positional encoding. The output of this summation is the input to the encoder layers. The output of the encoder is the input to the decoder."
   ]
  },
  {
   "cell_type": "code",
   "execution_count": 29,
   "metadata": {
    "execution": {
     "iopub.execute_input": "2020-09-27T01:27:46.839967Z",
     "iopub.status.busy": "2020-09-27T01:27:46.839333Z",
     "iopub.status.idle": "2020-09-27T01:27:46.841099Z",
     "shell.execute_reply": "2020-09-27T01:27:46.841443Z"
    },
    "id": "jpEox7gJ8FCI"
   },
   "outputs": [],
   "source": [
    "class Encoder(tf.keras.layers.Layer):\n",
    "  \"\"\"The Encoder consists of:\n",
    "  1. Input embedding\n",
    "  2. Positional Encoding\n",
    "  3. N encoder layers\n",
    "      \n",
    "  The input is put through an embedding which is summed with the positional encoding. \n",
    "  The output of this summation is the input to the encoder layers. \n",
    "  The output of the encoder is the key and values input to the decoder's multihead \n",
    "  attntion in the 2nd sublayer. Look at the fig above.\n",
    "  \n",
    "  ### Initialize\n",
    "  Arguments:\n",
    "  num_layers -- int, num of layers; Nx\n",
    "  dim_model -- int, dim of the model\n",
    "  num_heads -- int, num of multi-attention heads\n",
    "  feed_forward_hidden_layer_dim -- int, dim of hidden layer in the fully connected netword sublayer of the \n",
    "      encoderlayer and decoderlayer.\n",
    "  input_vocab_size -- int, size of input vocab\n",
    "  maximum_position_encoding -- int, sets num of rows for positition encoding. (Note: you were able to\n",
    "      prove that this is completely unnecessary because it it going get sliced anyway and the slice\n",
    "      can be identically by setting this to the batch seq length).\n",
    "  rate -- float, dropout rate to prevent over-fitting\n",
    "  \"\"\"\n",
    "    \n",
    "  def __init__(self, num_layers, \n",
    "               dim_model, num_heads, \n",
    "               feed_forward_hidden_layer_dim, \n",
    "               input_vocab_size,\n",
    "               maximum_position_encoding, \n",
    "               rate=0.1):\n",
    "    super(Encoder, self).__init__()\n",
    "\n",
    "    self.dim_model = dim_model\n",
    "    self.num_layers = num_layers\n",
    "    \n",
    "    # Word embedding\n",
    "    # Embeds words from vocab size dims to embedded word dimensions.\n",
    "    self.embedding = tf.keras.layers.Embedding(input_dim=input_vocab_size, output_dim=dim_model)\n",
    "    \n",
    "    # Positional encoding\n",
    "    # Output shape (1, maximum num or rows, \n",
    "    #   dimension of word embedding; prolly 512)\n",
    "    self.maximum_position_encoding = positional_encoding(maximum_position_encoding, \n",
    "                                            self.dim_model)\n",
    "    \n",
    "    # Making Nx encoder layers from figure above\n",
    "    self.enc_layers = [EncoderLayer(dim_model, num_heads, feed_forward_hidden_layer_dim, rate) \n",
    "                       for _ in range(num_layers)]\n",
    "  \n",
    "    self.dropout = tf.keras.layers.Dropout(rate)\n",
    "        \n",
    "        \n",
    "  def call(self, x, training, mask):\n",
    "    '''\n",
    "    Arguments:\n",
    "    x -- tf Tensor, batch_size of token sequences. shape (batch_size, batch_input_seq_length)\n",
    "    Each batch has different padded seq length; each instance in a batch doesn't have a different\n",
    "    seq length though. For example, batch 1: (64, 49), batch 2 (64, 45),...\n",
    "    training -- True or False, used to apply dropout during training to prevent over-fitting.\n",
    "    mask -- tf tensor dtype=tf.float32, encoder padding mask shape (batch_size, 1, 1, encoder_batch_seq_len)\n",
    "    \n",
    "    Return:\n",
    "    ouput of encoder -- tf Tensor, shape (batch_size, input_batch_seq_len, dim_model)\n",
    "    '''\n",
    "\n",
    "    # Get seq length of the batch\n",
    "    seq_len = tf.shape(x)[1]\n",
    "    \n",
    "    #### adding embedding and position encoding.\n",
    "    # Embedding takes in batches of tokens and embeds the tokens to dim_model dimensions.\n",
    "    # Input shape (batch_size, batch_input_seq_length)\n",
    "    # output shape (batch_size, batch_input_seq_len, dim_model)\n",
    "    x = self.embedding(x)  \n",
    "    \n",
    "    # Some type of element multiplication by the sqrt of the dimensions of the model\n",
    "    # I don't know why we do this but if the dim model is bigger than 1 than \n",
    "    # the word embeddings values will become larger after the multiplication.\n",
    "    x *= tf.math.sqrt(tf.cast(self.dim_model, tf.float32))\n",
    "    \n",
    "    # Slicing from the position encoding matrix. You set the max size of the position encoding\n",
    "    # matrix and this will slice only up to the rows which is also the seq length of the batch.\n",
    "    # For example, if you had the positional encoding matrix shape (10,000, 512) and the batch seq\n",
    "    # length is 40 then you will slice a submatrix of shape (40 512) from the positioanl encoding matrix.\n",
    "    # This gets added to the word embedding.\n",
    "    x += self.maximum_position_encoding[:, :seq_len, :]\n",
    "\n",
    "    # Prevent overfitting during training\n",
    "    x = self.dropout(x, training=training)\n",
    "    \n",
    "    # Do this for Nx layers\n",
    "    for i in range(self.num_layers):\n",
    "      x = self.enc_layers[i](x, training, mask)\n",
    "    \n",
    "    return x  # output shape (batch_size, input_seq_len, dim_model)\n"
   ]
  },
  {
   "cell_type": "code",
   "execution_count": null,
   "metadata": {
    "execution": {
     "iopub.execute_input": "2020-09-27T01:27:46.849143Z",
     "iopub.status.busy": "2020-09-27T01:27:46.848474Z",
     "iopub.status.idle": "2020-09-27T01:27:47.154054Z",
     "shell.execute_reply": "2020-09-27T01:27:47.154436Z"
    },
    "id": "8QG9nueFQKXx"
   },
   "outputs": [],
   "source": [
    "sample_encoder = Encoder(num_layers=2, \n",
    "                         dim_model=512, \n",
    "                         num_heads=8, \n",
    "                         feed_forward_hidden_layer_dim=2048, \n",
    "                         input_vocab_size=8500,\n",
    "                         maximum_position_encoding=10000)\n",
    "temp_input = tf.random.uniform((64, 62), dtype=tf.int64, minval=0, maxval=200)\n",
    "\n",
    "sample_encoder_output = sample_encoder(temp_input, training=False, mask=None)\n",
    "\n",
    "print (sample_encoder_output.shape)  # (batch_size, batch_input_seq_len, d_model)\n",
    "\n"
   ]
  },
  {
   "cell_type": "markdown",
   "metadata": {
    "id": "p-uO6ls8m2O5"
   },
   "source": [
    "### Decoder"
   ]
  },
  {
   "cell_type": "markdown",
   "metadata": {
    "id": "ZtT7PKzrXkNr"
   },
   "source": [
    " The `Decoder` consists of:\n",
    "1.   Output Embedding\n",
    "2.   Positional Encoding\n",
    "3.   N decoder layers\n",
    "\n",
    "The target is put through an embedding which is summed with the positional encoding. The output of this summation is the input to the decoder layers. The output of the decoder is the input to the final linear layer."
   ]
  },
  {
   "cell_type": "code",
   "execution_count": 30,
   "metadata": {
    "execution": {
     "iopub.execute_input": "2020-09-27T01:27:47.163368Z",
     "iopub.status.busy": "2020-09-27T01:27:47.162774Z",
     "iopub.status.idle": "2020-09-27T01:27:47.164447Z",
     "shell.execute_reply": "2020-09-27T01:27:47.164782Z"
    },
    "id": "d5_d5-PLQXwY"
   },
   "outputs": [],
   "source": [
    "class Decoder(tf.keras.layers.Layer):\n",
    "  \"\"\"The Decoder consists of:\n",
    "  1. Output word Embedding\n",
    "  2. Positional encoding\n",
    "  3. Nx decoder layers\n",
    "    \n",
    "  The target is put through an embedding which is summed with the positional encoding. \n",
    "  The output of this summation is the input to the decoder layers. \n",
    "  The output of the decoder is the input to the final linear layer (which is not in this class).\n",
    "  \n",
    "  ### Initialize\n",
    "  Arguments:\n",
    "  dim_model -- int, dim of the model\n",
    "  num_heads -- int, num of multi-attention heads\n",
    "  feed_forward_hidden_layer_dim -- int, dim of hidden layer in the fully connected netword sublayer of the \n",
    "      encoderlayer and decoderlayer.\n",
    "  target_vocab_size -- int, size of target vocab\n",
    "  maximum_position_encoding -- int, sets num of rows for positition encoding. (Note: you were able to\n",
    "      prove that this is completely unnecessary because it it going get sliced anyway and the slice\n",
    "      can be identically by setting this to the batch seq length).\n",
    "  rate -- float, dropout rate to prevent over-fitting\n",
    "  \"\"\"\n",
    "\n",
    "  def __init__(self, num_layers, \n",
    "               dim_model, \n",
    "               num_heads, \n",
    "               feed_forward_hidden_layer_dim, \n",
    "               target_vocab_size,\n",
    "               maximum_position_encoding, \n",
    "               rate=0.1):\n",
    "    super(Decoder, self).__init__()\n",
    "\n",
    "    self.dim_model = dim_model\n",
    "    self.num_layers = num_layers\n",
    "    \n",
    "    # Create word embedding and position encoding\n",
    "    self.embedding = tf.keras.layers.Embedding(target_vocab_size, dim_model)\n",
    "    self.maximum_position_encoding = positional_encoding(maximum_position_encoding, dim_model)\n",
    "    \n",
    "    # Create Nx decoder layers\n",
    "    self.dec_layers = [DecoderLayer(dim_model, num_heads, feed_forward_hidden_layer_dim, rate) \n",
    "                       for _ in range(num_layers)]\n",
    "    \n",
    "    # Create dropout layer to prevent over-fitting\n",
    "    self.dropout = tf.keras.layers.Dropout(rate)\n",
    "    \n",
    "  def call(self, x, enc_output, training, \n",
    "           look_ahead_mask, padding_mask):\n",
    "    '''\n",
    "    Arguments:\n",
    "    x -- tf Tensor, batch_size of token sequences. shape (batch_size, batch_decoder_input_seq_length)\n",
    "    Each batch has different padded seq length; each instance in a batch doesn't have a different\n",
    "    seq length though. For example, batch 1: (64, 49), batch 2 (64, 45),...\n",
    "    enc_output -- tf tensor, output of Encoder. Shape (batch_size, encoder_batch_seq_len, dim_model)\n",
    "    training -- boolean (True or False), used for training with dropout to prevent overfitting.\n",
    "    look_ahead_mask -- tf tensor dtype=tf.float32, look ahead mask to prevent token from seeing future\n",
    "        timesteps at each timestep. Shape (decoder input batch seq len, decoder input batch seq len)\n",
    "    padding_mask -- tf tensor dtype=tf.float32, encoder padding mask shape (batch_size, 1, 1, encoder_batch_seq_len)\n",
    "    \n",
    "    Return:\n",
    "    x -- tf Tensor, shape (batch_size, input_batch_seq_len, dim_model)\n",
    "    attention_weights -- dictionary of Tensors, has 1st and 2nd sublayer attention weights of each layer.\n",
    "    '''\n",
    "\n",
    "    seq_len = tf.shape(x)[1]\n",
    "    attention_weights = {}\n",
    "\n",
    "    #### adding embedding and position encoding.\n",
    "    # Embedding takes in batches of tokens and embeds the tokens to dim_model dimensions.\n",
    "    # Input shape (batch_size, batch_input_seq_length)\n",
    "    # output shape (batch_size, batch_input_seq_len, dim_model)\n",
    "    x = self.embedding(x)  # (batch_size, target_seq_len, dim_model)\n",
    "    \n",
    "    # Some type of element multiplication by the sqrt of the dimensions of the model\n",
    "    # I don't know why we do this but if the dim model is bigger than 1 than \n",
    "    # the word embeddings values will become larger after the multiplication.\n",
    "    x *= tf.math.sqrt(tf.cast(self.dim_model, tf.float32))\n",
    "    \n",
    "    # Slicing from the position encoding matrix. You set the max size of the position encoding\n",
    "    # matrix and this will slice only up to the rows which is also the seq length of the batch.\n",
    "    # For example, if you had the positional encoding matrix shape (10,000, 512) and the batch seq\n",
    "    # length is 40 then you will slice a submatrix of shape (40 512) from the positioanl encoding matrix.\n",
    "    # This gets added to the word embedding.\n",
    "    x += self.maximum_position_encoding[:, :seq_len, :]\n",
    "    \n",
    "    # Prevent overfitting during training.    \n",
    "    x = self.dropout(x, training=training)\n",
    "\n",
    "    # Do this for Nx layers\n",
    "    for i in range(self.num_layers):\n",
    "      x, block1, block2 = self.dec_layers[i](x, enc_output, training,\n",
    "                                             look_ahead_mask, padding_mask)\n",
    "      \n",
    "      attention_weights['decoder_layer{}_block1'.format(i+1)] = block1\n",
    "      attention_weights['decoder_layer{}_block2'.format(i+1)] = block2\n",
    "    \n",
    "    # x.shape == (batch_size, target_seq_len, dim_model)\n",
    "    return x, attention_weights\n"
   ]
  },
  {
   "cell_type": "code",
   "execution_count": null,
   "metadata": {
    "execution": {
     "iopub.execute_input": "2020-09-27T01:27:47.170433Z",
     "iopub.status.busy": "2020-09-27T01:27:47.169875Z",
     "iopub.status.idle": "2020-09-27T01:27:47.387195Z",
     "shell.execute_reply": "2020-09-27T01:27:47.387574Z"
    },
    "id": "a1jXoAMRZyvu"
   },
   "outputs": [],
   "source": [
    "maxTargetSeqLength = 50\n",
    "\n",
    "sample_decoder = Decoder(num_layers=2, \n",
    "                         dim_model=512, \n",
    "                         num_heads=8, \n",
    "                         feed_forward_hidden_layer_dim=2048, \n",
    "                         maximum_position_encoding=8000, \n",
    "                         target_vocab_size=8000)\n",
    "temp_input = tf.random.uniform((64, maxTargetSeqLength), dtype=tf.int64, minval=0, maxval=200)\n",
    "\n",
    "output, attn = sample_decoder(temp_input, \n",
    "                              enc_output=sample_encoder_output, \n",
    "                              training=False,\n",
    "                              look_ahead_mask=None, \n",
    "                              padding_mask=None)\n",
    "\n",
    "output.shape, attn['decoder_layer2_block2'].shape"
   ]
  },
  {
   "cell_type": "markdown",
   "metadata": {
    "id": "y54xnJnuYgJ7"
   },
   "source": [
    "## Create the Transformer"
   ]
  },
  {
   "cell_type": "markdown",
   "metadata": {
    "id": "uERO1y54cOKq"
   },
   "source": [
    "Transformer consists of the encoder, decoder and a final linear layer. The output of the decoder is the input to the linear layer and its output is returned."
   ]
  },
  {
   "cell_type": "code",
   "execution_count": 31,
   "metadata": {
    "execution": {
     "iopub.execute_input": "2020-09-27T01:27:47.394726Z",
     "iopub.status.busy": "2020-09-27T01:27:47.394164Z",
     "iopub.status.idle": "2020-09-27T01:27:47.395964Z",
     "shell.execute_reply": "2020-09-27T01:27:47.396326Z"
    },
    "id": "PED3bIpOYkBu"
   },
   "outputs": [],
   "source": [
    "class Transformer(tf.keras.Model):\n",
    "  \"\"\"\n",
    "  Create the transfer model. It will consist of the Encoder, Decoder and final linear layer.\n",
    "  The output of the of Decoder is the input to the linear layer and its output is returned.\n",
    "  \n",
    "  ### Initialize\n",
    "  Arguments:\n",
    "  num_layers -- int, num of layers; Nx\n",
    "  dim_model -- int, dim of the model\n",
    "  num_heads -- int, num of multi-attention heads\n",
    "  feed_forward_hidden_layer_dim -- int, dim of hidden layer in the fully connected netword sublayer of the \n",
    "      encoderlayer and decoderlayer.\n",
    "  input_vocab_size -- int, size of input vocab\n",
    "  target_vocab_size -- int, size of target vocab\n",
    "  maximum_position_encoding -- int, sets num of rows for positition encoding. (Note: you were able to\n",
    "      prove that this is completely unnecessary because it it going get sliced anyway and the slice\n",
    "      can be identically by setting this to the batch seq length).\n",
    "  rate -- float, dropout rate to prevent over-fitting\n",
    "  \"\"\"\n",
    "  def __init__(self, \n",
    "               num_layers, \n",
    "               dim_model, \n",
    "               num_heads, \n",
    "               feed_forward_hidden_layer_dim, \n",
    "               input_vocab_size, \n",
    "               target_vocab_size, \n",
    "               maximum_position_encoding, \n",
    "               rate=0.1):\n",
    "    super(Transformer, self).__init__()\n",
    "\n",
    "    self.encoder = Encoder(num_layers, dim_model, num_heads, feed_forward_hidden_layer_dim, \n",
    "                           input_vocab_size,\n",
    "                           maximum_position_encoding,\n",
    "                           rate)\n",
    "\n",
    "    self.decoder = Decoder(num_layers, dim_model, num_heads, feed_forward_hidden_layer_dim, \n",
    "                           target_vocab_size, \n",
    "                           maximum_position_encoding,\n",
    "                           rate)\n",
    "\n",
    "    self.final_layer = tf.keras.layers.Dense(target_vocab_size)\n",
    "    \n",
    "  def call(self, \n",
    "           inp, \n",
    "           tar, \n",
    "           training, \n",
    "           enc_padding_mask, \n",
    "           look_ahead_mask):\n",
    "    \"\"\"Passes the input into this model and outputs the final result of the Transformer model\n",
    "    and attention weights of the 2nd multi-head attention function from the last Nx layer\n",
    "    \n",
    "    Arguments:\n",
    "    inp -- tf tensor, encoder input of batches of instances which contain tokens. \n",
    "        Shape (batch_size, encoder_batch_input_seq_len)\n",
    "    tar -- tf tensor, decoder input of batches of instances which contain tokens. During\n",
    "        Training this would be the target sentence. Shape (batch_size, decoder_batch_input_seq_len)\n",
    "    training -- boolean (True or False), used for using dropout during training to prevent over-fitting\n",
    "    enc_padding_mask -- tf tensor dtype=tf.float32, Turns all padded 0's \n",
    "      into 1's and everything else into 0's.\n",
    "      Shape (batch size, 1, 1, encoder batch input seq len)\n",
    "    look_ahead_mask -- tf tensor dtype=tf.float32, look ahead mask for each instance.\n",
    "      Shape (batch size, 1, batch seq len, batch seq len)\n",
    "      \n",
    "    Return:\n",
    "    final_ouput -- tf tensor dtype=tf.float32, final output of Transformer model, it has a prediction\n",
    "        at each timestep with the index of the highest value in the last axis as the prediction of that\n",
    "        timestep. Shape (batch_size, decoder_input_batch_seq_len, target_vocab_size)\n",
    "    attention_weights -- dictionary of Tensors, has 1st and 2nd sublayer attention weights of each \n",
    "        Decoder N-layer.   \n",
    "    \"\"\"\n",
    "\n",
    "    # Pass inputs into Encoder\n",
    "    # Output shape (batch_size, input_batch_seq_len, dim_model)\n",
    "    enc_output = self.encoder(inp, training, enc_padding_mask)\n",
    "    \n",
    "    # Pass the Decoder input into the Decoder. The Encoder output will be used in the 2nd sublayer of the \n",
    "    # Decoders multi-head attention as \"value\" and \"key\". \n",
    "    # dec_output (batch_size, tar_seq_len, dim_model)\n",
    "    dec_output, attention_weights = self.decoder(\n",
    "        tar, enc_output, training, look_ahead_mask, enc_padding_mask)\n",
    "    \n",
    "    # Pass the output through a linear Dense layer which vocab_size neurons.\n",
    "    final_output = self.final_layer(dec_output)  \n",
    "    \n",
    "    return final_output, attention_weights\n",
    "\n"
   ]
  },
  {
   "cell_type": "code",
   "execution_count": null,
   "metadata": {
    "execution": {
     "iopub.execute_input": "2020-09-27T01:27:47.403188Z",
     "iopub.status.busy": "2020-09-27T01:27:47.402630Z",
     "iopub.status.idle": "2020-09-27T01:27:47.919843Z",
     "shell.execute_reply": "2020-09-27T01:27:47.919309Z"
    },
    "id": "tJ4fbQcIkHW1"
   },
   "outputs": [],
   "source": [
    "temp_input = tf.random.uniform((64, 38), dtype=tf.int64, minval=0, maxval=200)\n",
    "temp_target = tf.random.uniform((64, 36), dtype=tf.int64, minval=0, maxval=200)\n",
    "\n",
    "\n",
    "sample_transformer = Transformer(\n",
    "    num_layers=2, dim_model=512, num_heads=8, feed_forward_hidden_layer_dim=2048, \n",
    "    input_vocab_size=8500, target_vocab_size=8000, \n",
    "    maximum_position_encoding=6000)\n",
    "\n",
    "\n",
    "fn_out, _ = sample_transformer(temp_input, temp_target, training=False, \n",
    "                               enc_padding_mask=None, \n",
    "                               look_ahead_mask=None)\n",
    "\n",
    "fn_out.shape  # (batch_size, tar_seq_len, target_vocab_size)\n"
   ]
  },
  {
   "cell_type": "markdown",
   "metadata": {
    "id": "wsINyf1VEQLC"
   },
   "source": [
    "## Set hyperparameters"
   ]
  },
  {
   "cell_type": "markdown",
   "metadata": {
    "id": "zVjWCxFNcgbt"
   },
   "source": [
    "To keep this example small and relatively fast, the values for *num_layers, d_model, and dff* have been reduced. \n",
    "\n",
    "The values used in the base model of transformer were; *num_layers=6*, *d_model = 512*, *dff = 2048*. See the [paper](https://arxiv.org/abs/1706.03762) for all the other versions of the transformer.\n",
    "\n",
    "Note: By changing the values below, you can get the model that achieved state of the art on many tasks."
   ]
  },
  {
   "cell_type": "code",
   "execution_count": 32,
   "metadata": {
    "execution": {
     "iopub.execute_input": "2020-09-27T01:27:47.924191Z",
     "iopub.status.busy": "2020-09-27T01:27:47.923639Z",
     "iopub.status.idle": "2020-09-27T01:27:47.925647Z",
     "shell.execute_reply": "2020-09-27T01:27:47.925997Z"
    },
    "id": "lnJn5SLA2ahP"
   },
   "outputs": [],
   "source": [
    "num_layers = 4\n",
    "dim_model = 128\n",
    "feed_forward_hidden_layer_dim = 512\n",
    "num_heads = 8\n",
    "\n",
    "input_vocab_size = tokenizer_pt.vocab_size + 2\n",
    "target_vocab_size = tokenizer_en.vocab_size + 2\n",
    "dropout_rate = 0.1\n",
    "\n",
    "# num_layers = 6\n",
    "# dim_model = 512\n",
    "# feed_forward_hidden_layer_dim = 2048\n",
    "# num_heads = 8\n",
    "\n",
    "# input_vocab_size = tokenizer_pt.vocab_size + 2\n",
    "# target_vocab_size = tokenizer_en.vocab_size + 2\n",
    "# dropout_rate = 0.1"
   ]
  },
  {
   "cell_type": "markdown",
   "metadata": {
    "id": "xYEGhEOtzn5W"
   },
   "source": [
    "## Optimizer"
   ]
  },
  {
   "cell_type": "markdown",
   "metadata": {
    "id": "GOmWW--yP3zx"
   },
   "source": [
    "Use the Adam optimizer with a custom learning rate scheduler according to the formula in the [paper](https://arxiv.org/abs/1706.03762).\n",
    "\n",
    "$$\\Large{lrate = d_{model}^{-0.5} * min(step{\\_}num^{-0.5}, step{\\_}num * warmup{\\_}steps^{-1.5})}$$\n"
   ]
  },
  {
   "cell_type": "code",
   "execution_count": 33,
   "metadata": {
    "execution": {
     "iopub.execute_input": "2020-09-27T01:27:47.931823Z",
     "iopub.status.busy": "2020-09-27T01:27:47.931263Z",
     "iopub.status.idle": "2020-09-27T01:27:47.933193Z",
     "shell.execute_reply": "2020-09-27T01:27:47.933543Z"
    },
    "id": "iYQdOO1axwEI"
   },
   "outputs": [],
   "source": [
    "class CustomSchedule(tf.keras.optimizers.schedules.LearningRateSchedule):\n",
    "  \"\"\"A custom learning rate scheduler which linearly ramps up the learning rate during the \n",
    "  warmpup steps and then does some type of decay rate decline over time.\n",
    "  \n",
    "  ### Initialize\n",
    "  dim_model -- int, dim of model\n",
    "  warmup_steps -- int, warm up steps\n",
    "  \"\"\"\n",
    "\n",
    "  def __init__(self, dim_model, warmup_steps=4000):\n",
    "    super(CustomSchedule, self).__init__()\n",
    "    \n",
    "    self.dim_model = dim_model\n",
    "    self.dim_model = tf.cast(self.dim_model, tf.float32)\n",
    "\n",
    "    self.warmup_steps = warmup_steps\n",
    "    \n",
    "  def __call__(self, step):\n",
    "    \"\"\"In the formula, the arg2 will be what is multiplied all the way up to the warmup steps. \n",
    "    Seems like this makes the linear increase of the schedule and once it surpasses the warmup \n",
    "    steps, the recipricol square root will instead start to get multiplied, acting as the multiplier,\n",
    "    and start making the slower exponential learning rate decline.\n",
    "    \n",
    "    Arguments:\n",
    "    step -- tf tensor, range of steps i.e. 1,2,3,4,5,etc.\n",
    "    \n",
    "    Returns:\n",
    "    tf tensor -- learning rate schedule at each training step.\n",
    "    \"\"\"\n",
    "    \n",
    "    # .rsqrt is RECIPROCAL square root\n",
    "    arg1 = tf.math.rsqrt(step) # This is some type of slower rate decay\n",
    "    arg2 = step * (self.warmup_steps ** -1.5)  # This is a linear increase as the step increases\n",
    "    \n",
    "    # .rsqrt is RECIPROCAL square root\n",
    "    # If the steps is lower than the warmup steps, then the arg2 (linear increase) controls\n",
    "    # and the learning rate linearly increases. Once the steps reaches the warmpup steps then\n",
    "    # arg1 will take over and slowly decrease.\n",
    "    return tf.math.rsqrt(self.dim_model) * tf.math.minimum(arg1, arg2)"
   ]
  },
  {
   "cell_type": "code",
   "execution_count": 34,
   "metadata": {
    "execution": {
     "iopub.execute_input": "2020-09-27T01:27:47.937203Z",
     "iopub.status.busy": "2020-09-27T01:27:47.936656Z",
     "iopub.status.idle": "2020-09-27T01:27:47.939422Z",
     "shell.execute_reply": "2020-09-27T01:27:47.938920Z"
    },
    "id": "7r4scdulztRx"
   },
   "outputs": [],
   "source": [
    "learning_rate = CustomSchedule(dim_model)\n",
    "\n",
    "optimizer = tf.keras.optimizers.Adam(learning_rate, beta_1=0.9, beta_2=0.98, \n",
    "                                     epsilon=1e-9)"
   ]
  },
  {
   "cell_type": "code",
   "execution_count": null,
   "metadata": {
    "execution": {
     "iopub.execute_input": "2020-09-27T01:27:47.943637Z",
     "iopub.status.busy": "2020-09-27T01:27:47.943072Z",
     "iopub.status.idle": "2020-09-27T01:27:48.078067Z",
     "shell.execute_reply": "2020-09-27T01:27:48.077520Z"
    },
    "id": "f33ZCgvHpPdG"
   },
   "outputs": [],
   "source": [
    "temp_learning_rate_schedule = CustomSchedule(dim_model)\n",
    "\n",
    "plt.plot(temp_learning_rate_schedule(tf.range(40000, dtype=tf.float32)))\n",
    "plt.ylabel(\"Learning Rate\")\n",
    "plt.xlabel(\"Train Step\")"
   ]
  },
  {
   "cell_type": "code",
   "execution_count": null,
   "metadata": {},
   "outputs": [],
   "source": [
    "## Visual of what the 2 calculation look like in the function above which control the slope \n",
    "## or decline rate of the learning rate.\n",
    "\n",
    "# Slowly decreasing learning rate\n",
    "plt.plot(1/(np.sqrt(np.arange(200))))  # arg1 in function above; slowly decreasing learning rate.\n",
    "# Gradual increase of learning rate \n",
    "plt.plot(np.arange(200)*(100** -1.5))  # arg2 in function above; linearly increasing learning rate.\n",
    "\n"
   ]
  },
  {
   "cell_type": "markdown",
   "metadata": {
    "id": "YgkDE7hzo8r5"
   },
   "source": [
    "## Loss and metrics"
   ]
  },
  {
   "cell_type": "markdown",
   "metadata": {
    "id": "oxGJtoDuYIHL"
   },
   "source": [
    "Since the target sequences are padded, it is important to apply a padding mask when calculating the loss."
   ]
  },
  {
   "cell_type": "code",
   "execution_count": 35,
   "metadata": {
    "execution": {
     "iopub.execute_input": "2020-09-27T01:27:48.082201Z",
     "iopub.status.busy": "2020-09-27T01:27:48.081646Z",
     "iopub.status.idle": "2020-09-27T01:27:48.083932Z",
     "shell.execute_reply": "2020-09-27T01:27:48.083447Z"
    },
    "id": "MlhsJMm0TW_B"
   },
   "outputs": [],
   "source": [
    "# Why they might have set the argument \"reduction\" to \"none\"\n",
    "# https://www.tensorflow.org/tutorials/distribute/custom_training\n",
    "loss_object = tf.keras.losses.SparseCategoricalCrossentropy(\n",
    "    from_logits=True, reduction='none')\n",
    "\n",
    "\n",
    "# # Maybe if the loss ends up being too big during training you should use the \n",
    "# # commented out code above? Not if the loss would ever blow up so big that it would \n",
    "# # throw an error during training though.\n",
    "# loss_object = tf.keras.losses.SparseCategoricalCrossentropy(\n",
    "#     from_logits=True, reduction=tf.keras.losses.Reduction.SUM)"
   ]
  },
  {
   "cell_type": "code",
   "execution_count": 36,
   "metadata": {
    "execution": {
     "iopub.execute_input": "2020-09-27T01:27:48.088318Z",
     "iopub.status.busy": "2020-09-27T01:27:48.087763Z",
     "iopub.status.idle": "2020-09-27T01:27:48.090088Z",
     "shell.execute_reply": "2020-09-27T01:27:48.089616Z"
    },
    "id": "67oqVHiT0Eiu"
   },
   "outputs": [],
   "source": [
    "def loss_function(real, pred):\n",
    "  \"\"\"I don't really get this loss function\n",
    "  \n",
    "  Arguments:\n",
    "  real -- tf tensor, seq of tokens of the target. Shape (batch_size, target_batch_seq_len)\n",
    "  pred -- tf tensor, predictions from the transformer. \n",
    "      Shape (batch_size, target_batch_seq_len, target_vocab_size)\n",
    "      \n",
    "  Return:\n",
    "  some loss function. Read all the notes in the function.\"\"\"\n",
    "\n",
    "  # Unlike the previous masks, we are going to make a mask which has True for all inputs that \n",
    "  # have tokens and leave the padding as False. \n",
    "  mask = tf.math.not_equal(real, 0)\n",
    "  # This calculates the loss even though the sizes are different. \n",
    "  # We used the SparseCategoricalCrossentropy so it will expand out the token into another \n",
    "  # dimension with onehots behind the scenes and then calculate the loss.\n",
    "  _loss = loss_object(real, pred)\n",
    "\n",
    "    \n",
    "  # Then, we will turn True to 1 and False to 0 by casting the same dtype from the loss. Not sure\n",
    "  # why they do it this way but I'm guessing it's to make sure that all the dtypes are the \n",
    "  # same for all the tensors because they will operate on each other.\n",
    "  mask = tf.cast(mask, dtype=_loss.dtype)\n",
    "\n",
    "  # This loss value will then get multiplied by the number of word tokens that are not padded.\n",
    "  # For example, if the seq is [[4,2,7,0,0]] and the _loss is 220. Then it will be 220*3.\n",
    "  # I think basically saying \"hey! Focus on these and make sure they're right and forget \n",
    "  # about those padded words\" IT\n",
    "  _loss *= mask\n",
    "  \n",
    "  # Add up all the losses of each instance in the batch and divide it by the number of non-padded tokens.\n",
    "  # Note: I think they're doing this because they call the loss object with the reduction argument\n",
    "  # set to 'none' so there is no division by the samples when calculating the cost and they're\n",
    "  # kinda doing that in the line below. I think they might have done because it maybe also let\n",
    "  # them parallize it IT.\n",
    "  # # https://www.tensorflow.org/tutorials/distribute/custom_training\n",
    "  return tf.reduce_sum(_loss)/tf.reduce_sum(mask)\n",
    "#   return tf.reduce_sum(_loss)\n"
   ]
  },
  {
   "cell_type": "code",
   "execution_count": 37,
   "metadata": {
    "execution": {
     "iopub.execute_input": "2020-09-27T01:27:48.099267Z",
     "iopub.status.busy": "2020-09-27T01:27:48.098546Z",
     "iopub.status.idle": "2020-09-27T01:27:48.108840Z",
     "shell.execute_reply": "2020-09-27T01:27:48.109262Z"
    },
    "id": "phlyxMnm-Tpx"
   },
   "outputs": [],
   "source": [
    "train_loss = tf.keras.metrics.Mean(name='train_loss')\n",
    "\n",
    "# I don't think this tells us much since the target vectors are one-hots (imbalanced); just\n",
    "# having the model output all 0's would have a 90% accuracy IT.\n",
    "train_accuracy = tf.keras.metrics.SparseCategoricalAccuracy(\n",
    "    name='train_accuracy')\n"
   ]
  },
  {
   "cell_type": "markdown",
   "metadata": {
    "id": "aeHumfr7zmMa"
   },
   "source": [
    "## Training and checkpointing"
   ]
  },
  {
   "cell_type": "code",
   "execution_count": 38,
   "metadata": {
    "execution": {
     "iopub.execute_input": "2020-09-27T01:27:48.114357Z",
     "iopub.status.busy": "2020-09-27T01:27:48.113730Z",
     "iopub.status.idle": "2020-09-27T01:27:48.258900Z",
     "shell.execute_reply": "2020-09-27T01:27:48.259413Z"
    },
    "id": "UiysUa--4tOU"
   },
   "outputs": [],
   "source": [
    "transformer = Transformer(num_layers=num_layers, \n",
    "                          dim_model=dim_model, \n",
    "                          num_heads=num_heads,\n",
    "                          feed_forward_hidden_layer_dim=feed_forward_hidden_layer_dim,\n",
    "                          input_vocab_size=input_vocab_size, \n",
    "                          target_vocab_size=target_vocab_size,\n",
    "                          maximum_position_encoding=5_000, # Maybe you want to translate paragraphs\n",
    "                          rate=dropout_rate)\n"
   ]
  },
  {
   "cell_type": "markdown",
   "metadata": {
    "id": "Fzuf06YZp66w"
   },
   "source": [
    "Create the checkpoint path and the checkpoint manager. This will be used to save checkpoints every `n` epochs."
   ]
  },
  {
   "cell_type": "code",
   "execution_count": 39,
   "metadata": {
    "execution": {
     "iopub.execute_input": "2020-09-27T01:27:48.271010Z",
     "iopub.status.busy": "2020-09-27T01:27:48.270443Z",
     "iopub.status.idle": "2020-09-27T01:27:48.272778Z",
     "shell.execute_reply": "2020-09-27T01:27:48.272356Z"
    },
    "id": "hNhuYfllndLZ"
   },
   "outputs": [],
   "source": [
    "checkpoint_path = \"./checkpoints/train\"\n",
    "\n",
    "ckpt = tf.train.Checkpoint(transformer=transformer,\n",
    "                           optimizer=optimizer)\n",
    "\n",
    "ckpt_manager = tf.train.CheckpointManager(ckpt, checkpoint_path, max_to_keep=5)\n",
    "\n",
    "# if a checkpoint exists, restore the latest checkpoint.\n",
    "if ckpt_manager.latest_checkpoint:\n",
    "  ckpt.restore(ckpt_manager.latest_checkpoint)\n",
    "  print ('Latest checkpoint restored!!')"
   ]
  },
  {
   "cell_type": "markdown",
   "metadata": {
    "id": "0Di_Yaa1gf9r"
   },
   "source": [
    "The target is divided into tar_inp and tar_real. tar_inp is passed as an input to the decoder. `tar_real` is that same input shifted by 1: At each location in `tar_input`, `tar_real` contains the  next token that should be predicted.\n",
    "\n",
    "For example, `sentence` = \"SOS A lion in the jungle is sleeping EOS\"\n",
    "\n",
    "`tar_inp` =  \"SOS A lion in the jungle is sleeping\"\n",
    "\n",
    "`tar_real` = \"A lion in the jungle is sleeping EOS\"\n",
    "\n",
    "The transformer is an auto-regressive model: it makes predictions one part at a time, and uses its output so far to decide what to do next. \n",
    "\n",
    "During training this example uses teacher-forcing (like in the [text generation tutorial](./text_generation.ipynb)). Teacher forcing is passing the true output to the next time step regardless of what the model predicts at the current time step. In my own words, think about it, you passed in the whole target to the decoder so it always is getting the correct word which should've been ouput. You never passed in a prediction to the decoder input during training.\n",
    "\n",
    "As the transformer predicts each word, *self-attention* allows it to look at the previous words in the input sequence to better predict the next word.\n",
    "\n",
    "To prevent the model from peeking at the expected output the model uses a look-ahead mask."
   ]
  },
  {
   "cell_type": "code",
   "execution_count": 40,
   "metadata": {
    "execution": {
     "iopub.execute_input": "2020-09-27T01:27:48.276032Z",
     "iopub.status.busy": "2020-09-27T01:27:48.275504Z",
     "iopub.status.idle": "2020-09-27T01:27:48.277426Z",
     "shell.execute_reply": "2020-09-27T01:27:48.277775Z"
    },
    "id": "LKpoA6q1sJFj"
   },
   "outputs": [],
   "source": [
    "EPOCHS = 20"
   ]
  },
  {
   "cell_type": "code",
   "execution_count": 41,
   "metadata": {
    "execution": {
     "iopub.execute_input": "2020-09-27T01:27:48.284178Z",
     "iopub.status.busy": "2020-09-27T01:27:48.283590Z",
     "iopub.status.idle": "2020-09-27T01:27:48.285953Z",
     "shell.execute_reply": "2020-09-27T01:27:48.285551Z"
    },
    "id": "iJwmp9OE29oj"
   },
   "outputs": [],
   "source": [
    "# The @tf.function trace-compiles train_step into a TF graph for faster\n",
    "# execution. The function specializes to the precise shape of the argument\n",
    "# tensors. To avoid re-tracing due to the variable sequence lengths or variable\n",
    "# batch sizes (many batches have different seq lengths because only the max of that batch\n",
    "# was used to pad), use input_signature to specify\n",
    "# more generic shapes since each batch can have different seq length.\n",
    "\n",
    "train_step_signature = [\n",
    "    tf.TensorSpec(shape=(None, None), dtype=tf.int64),\n",
    "    tf.TensorSpec(shape=(None, None), dtype=tf.int64),\n",
    "]\n",
    "\n",
    "@tf.function(input_signature=train_step_signature)\n",
    "def train_step(inp, tar):\n",
    "  \"\"\"Traning for each step.\n",
    "  \n",
    "  Args:\n",
    "  inp -- tf tensor, (batch_size, max_batch_input_seq_length)\n",
    "  tar -- tf tensor, (batch_size, max_batch_target_seq_length)\n",
    "  \"\"\"\n",
    "\n",
    "  ## Prep target data with shifting by 1 for sequential data.\n",
    "  # Keep start token to end of sentence (no end token)\n",
    "  tar_inp = tar[:, :-1]\n",
    "  # Keep the label; start at index 1 and keep all the way to end token\n",
    "  tar_real = tar[:, 1:]\n",
    "\n",
    "  input_pad_mask, target_look_ahead_and_pad_mask = create_masks(inp, tar_inp)\n",
    "  \n",
    "  with tf.GradientTape() as tape:\n",
    "    predictions, _ = transformer(inp=inp, \n",
    "                                 tar=tar_inp, \n",
    "                                 training=True, \n",
    "                                 enc_padding_mask=input_pad_mask, \n",
    "                                 look_ahead_mask=target_look_ahead_and_pad_mask \n",
    "                                 )\n",
    "    loss = loss_function(tar_real, predictions)\n",
    "\n",
    "  gradients = tape.gradient(loss, transformer.trainable_variables)    \n",
    "  optimizer.apply_gradients(zip(gradients, transformer.trainable_variables))\n",
    "  \n",
    "  # Track the loss and accuracy. You already made the train_loss and train_accuracy objects\n",
    "  # which will be updated with the output of these.\n",
    "  # I don't think this tells us much since the target vectors are one-hots (imbalanced); just\n",
    "  # having the model output all 0's would have a 90% accuracy IT.\n",
    "  train_loss(loss)\n",
    "  train_accuracy(tar_real, predictions)"
   ]
  },
  {
   "cell_type": "markdown",
   "metadata": {
    "id": "qM2PDWGDJ_8V"
   },
   "source": [
    "Portuguese is used as the input language and English is the target language."
   ]
  },
  {
   "cell_type": "code",
   "execution_count": 42,
   "metadata": {
    "execution": {
     "iopub.execute_input": "2020-09-27T01:27:48.292269Z",
     "iopub.status.busy": "2020-09-27T01:27:48.291673Z",
     "iopub.status.idle": "2020-09-27T01:38:11.257344Z",
     "shell.execute_reply": "2020-09-27T01:38:11.256866Z"
    },
    "id": "bbvmaKNiznHZ"
   },
   "outputs": [
    {
     "name": "stdout",
     "output_type": "stream",
     "text": [
      "Epoch 1 Batch 0 Loss 9.0035 Accuracy 0.0000\n",
      "Epoch 1 Batch 50 Loss 8.9506 Accuracy 0.0023\n",
      "Epoch 1 Batch 100 Loss 8.8537 Accuracy 0.0141\n",
      "Epoch 1 Batch 150 Loss 8.7483 Accuracy 0.0184\n",
      "Epoch 1 Batch 200 Loss 8.6210 Accuracy 0.0206\n",
      "Epoch 1 Loss 8.5891 Accuracy 0.0210\n",
      "Time taken for 1 epoch: 20.102576732635498 secs\n",
      "\n",
      "Epoch 2 Batch 0 Loss 7.9545 Accuracy 0.0286\n",
      "Epoch 2 Batch 50 Loss 7.7378 Accuracy 0.0293\n",
      "Epoch 2 Batch 100 Loss 7.5184 Accuracy 0.0340\n",
      "Epoch 2 Batch 150 Loss 7.3097 Accuracy 0.0413\n",
      "Epoch 2 Batch 200 Loss 7.1329 Accuracy 0.0460\n",
      "Epoch 2 Loss 7.0970 Accuracy 0.0468\n",
      "Time taken for 1 epoch: 11.132376432418823 secs\n",
      "\n",
      "Epoch 3 Batch 0 Loss 6.5012 Accuracy 0.0605\n",
      "Epoch 3 Batch 50 Loss 6.3650 Accuracy 0.0632\n",
      "Epoch 3 Batch 100 Loss 6.2993 Accuracy 0.0640\n",
      "Epoch 3 Batch 150 Loss 6.2250 Accuracy 0.0682\n",
      "Epoch 3 Batch 200 Loss 6.1507 Accuracy 0.0721\n",
      "Epoch 3 Loss 6.1325 Accuracy 0.0729\n",
      "Time taken for 1 epoch: 11.065685033798218 secs\n",
      "\n",
      "Epoch 4 Batch 0 Loss 5.7788 Accuracy 0.0822\n",
      "Epoch 4 Batch 50 Loss 5.6835 Accuracy 0.0920\n",
      "Epoch 4 Batch 100 Loss 5.6077 Accuracy 0.0959\n",
      "Epoch 4 Batch 150 Loss 5.5549 Accuracy 0.0989\n",
      "Epoch 4 Batch 200 Loss 5.4927 Accuracy 0.1017\n",
      "Epoch 4 Loss 5.4790 Accuracy 0.1025\n",
      "Time taken for 1 epoch: 11.05312180519104 secs\n",
      "\n",
      "Epoch 5 Batch 0 Loss 5.3472 Accuracy 0.1152\n",
      "Epoch 5 Batch 50 Loss 5.1274 Accuracy 0.1190\n",
      "Epoch 5 Batch 100 Loss 5.1029 Accuracy 0.1201\n",
      "Epoch 5 Batch 150 Loss 5.0683 Accuracy 0.1209\n",
      "Epoch 5 Batch 200 Loss 5.0327 Accuracy 0.1225\n",
      "Saving checkpoint for epoch 5 at ./checkpoints/train/ckpt-1\n",
      "Epoch 5 Loss 5.0294 Accuracy 0.1228\n",
      "Time taken for 1 epoch: 11.24662160873413 secs\n",
      "\n",
      "Epoch 6 Batch 0 Loss 4.7311 Accuracy 0.1457\n",
      "Epoch 6 Batch 50 Loss 4.8015 Accuracy 0.1322\n",
      "Epoch 6 Batch 100 Loss 4.7991 Accuracy 0.1336\n",
      "Epoch 6 Batch 150 Loss 4.7804 Accuracy 0.1338\n",
      "Epoch 6 Batch 200 Loss 4.7643 Accuracy 0.1346\n",
      "Epoch 6 Loss 4.7612 Accuracy 0.1348\n",
      "Time taken for 1 epoch: 11.09329104423523 secs\n",
      "\n",
      "Epoch 7 Batch 0 Loss 4.5069 Accuracy 0.1378\n",
      "Epoch 7 Batch 50 Loss 4.5725 Accuracy 0.1415\n",
      "Epoch 7 Batch 100 Loss 4.5667 Accuracy 0.1431\n",
      "Epoch 7 Batch 150 Loss 4.5593 Accuracy 0.1440\n",
      "Epoch 7 Batch 200 Loss 4.5530 Accuracy 0.1445\n",
      "Epoch 7 Loss 4.5533 Accuracy 0.1446\n",
      "Time taken for 1 epoch: 11.291868686676025 secs\n",
      "\n",
      "Epoch 8 Batch 0 Loss 4.1216 Accuracy 0.1490\n",
      "Epoch 8 Batch 50 Loss 4.3641 Accuracy 0.1497\n",
      "Epoch 8 Batch 100 Loss 4.3781 Accuracy 0.1504\n",
      "Epoch 8 Batch 150 Loss 4.3779 Accuracy 0.1508\n",
      "Epoch 8 Batch 200 Loss 4.3772 Accuracy 0.1514\n",
      "Epoch 8 Loss 4.3730 Accuracy 0.1516\n",
      "Time taken for 1 epoch: 11.068398714065552 secs\n",
      "\n",
      "Epoch 9 Batch 0 Loss 4.3551 Accuracy 0.1538\n",
      "Epoch 9 Batch 50 Loss 4.1844 Accuracy 0.1585\n",
      "Epoch 9 Batch 100 Loss 4.1808 Accuracy 0.1583\n",
      "Epoch 9 Batch 150 Loss 4.1936 Accuracy 0.1593\n",
      "Epoch 9 Batch 200 Loss 4.1899 Accuracy 0.1598\n",
      "Epoch 9 Loss 4.1898 Accuracy 0.1601\n",
      "Time taken for 1 epoch: 11.015094995498657 secs\n",
      "\n",
      "Epoch 10 Batch 0 Loss 4.2113 Accuracy 0.1486\n",
      "Epoch 10 Batch 50 Loss 3.9924 Accuracy 0.1672\n",
      "Epoch 10 Batch 100 Loss 3.9970 Accuracy 0.1675\n",
      "Epoch 10 Batch 150 Loss 3.9985 Accuracy 0.1682\n",
      "Epoch 10 Batch 200 Loss 3.9978 Accuracy 0.1691\n",
      "Saving checkpoint for epoch 10 at ./checkpoints/train/ckpt-2\n",
      "Epoch 10 Loss 3.9962 Accuracy 0.1692\n",
      "Time taken for 1 epoch: 11.248183488845825 secs\n",
      "\n",
      "Epoch 11 Batch 0 Loss 3.7775 Accuracy 0.1797\n",
      "Epoch 11 Batch 50 Loss 3.7609 Accuracy 0.1816\n",
      "Epoch 11 Batch 100 Loss 3.7752 Accuracy 0.1800\n",
      "Epoch 11 Batch 150 Loss 3.7813 Accuracy 0.1789\n",
      "Epoch 11 Batch 200 Loss 3.7887 Accuracy 0.1794\n",
      "Epoch 11 Loss 3.7879 Accuracy 0.1796\n",
      "Time taken for 1 epoch: 11.055397033691406 secs\n",
      "\n",
      "Epoch 12 Batch 0 Loss 3.5022 Accuracy 0.1791\n",
      "Epoch 12 Batch 50 Loss 3.5408 Accuracy 0.1910\n",
      "Epoch 12 Batch 100 Loss 3.5432 Accuracy 0.1904\n",
      "Epoch 12 Batch 150 Loss 3.5543 Accuracy 0.1895\n",
      "Epoch 12 Batch 200 Loss 3.5668 Accuracy 0.1900\n",
      "Epoch 12 Loss 3.5654 Accuracy 0.1902\n",
      "Time taken for 1 epoch: 11.065003156661987 secs\n",
      "\n",
      "Epoch 13 Batch 0 Loss 3.3027 Accuracy 0.2147\n",
      "Epoch 13 Batch 50 Loss 3.3030 Accuracy 0.2045\n",
      "Epoch 13 Batch 100 Loss 3.3059 Accuracy 0.2036\n",
      "Epoch 13 Batch 150 Loss 3.3240 Accuracy 0.2037\n",
      "Epoch 13 Batch 200 Loss 3.3371 Accuracy 0.2030\n",
      "Epoch 13 Loss 3.3394 Accuracy 0.2031\n",
      "Time taken for 1 epoch: 11.073649168014526 secs\n",
      "\n",
      "Epoch 14 Batch 0 Loss 3.0363 Accuracy 0.2134\n",
      "Epoch 14 Batch 50 Loss 3.0430 Accuracy 0.2171\n",
      "Epoch 14 Batch 100 Loss 3.0593 Accuracy 0.2167\n",
      "Epoch 14 Batch 150 Loss 3.0893 Accuracy 0.2154\n",
      "Epoch 14 Batch 200 Loss 3.1044 Accuracy 0.2149\n",
      "Epoch 14 Loss 3.1087 Accuracy 0.2150\n",
      "Time taken for 1 epoch: 11.007921695709229 secs\n",
      "\n",
      "Epoch 15 Batch 0 Loss 2.9020 Accuracy 0.2200\n",
      "Epoch 15 Batch 50 Loss 2.8054 Accuracy 0.2290\n",
      "Epoch 15 Batch 100 Loss 2.8340 Accuracy 0.2271\n",
      "Epoch 15 Batch 150 Loss 2.8541 Accuracy 0.2271\n",
      "Epoch 15 Batch 200 Loss 2.8795 Accuracy 0.2266\n",
      "Saving checkpoint for epoch 15 at ./checkpoints/train/ckpt-3\n",
      "Epoch 15 Loss 2.8832 Accuracy 0.2266\n",
      "Time taken for 1 epoch: 11.263876676559448 secs\n",
      "\n",
      "Epoch 16 Batch 0 Loss 2.5653 Accuracy 0.2299\n",
      "Epoch 16 Batch 50 Loss 2.5708 Accuracy 0.2392\n",
      "Epoch 16 Batch 100 Loss 2.5896 Accuracy 0.2407\n",
      "Epoch 16 Batch 150 Loss 2.6264 Accuracy 0.2387\n",
      "Epoch 16 Batch 200 Loss 2.6568 Accuracy 0.2373\n",
      "Epoch 16 Loss 2.6622 Accuracy 0.2370\n",
      "Time taken for 1 epoch: 11.295353651046753 secs\n",
      "\n",
      "Epoch 17 Batch 0 Loss 2.3057 Accuracy 0.2396\n",
      "Epoch 17 Batch 50 Loss 2.3141 Accuracy 0.2566\n",
      "Epoch 17 Batch 100 Loss 2.3633 Accuracy 0.2520\n",
      "Epoch 17 Batch 150 Loss 2.4041 Accuracy 0.2507\n",
      "Epoch 17 Batch 200 Loss 2.4414 Accuracy 0.2495\n",
      "Epoch 17 Loss 2.4497 Accuracy 0.2493\n",
      "Time taken for 1 epoch: 11.269399642944336 secs\n",
      "\n",
      "Epoch 18 Batch 0 Loss 2.1185 Accuracy 0.2445\n",
      "Epoch 18 Batch 50 Loss 2.0854 Accuracy 0.2725\n",
      "Epoch 18 Batch 100 Loss 2.1454 Accuracy 0.2669\n",
      "Epoch 18 Batch 150 Loss 2.1877 Accuracy 0.2631\n",
      "Epoch 18 Batch 200 Loss 2.2306 Accuracy 0.2609\n",
      "Epoch 18 Loss 2.2363 Accuracy 0.2608\n",
      "Time taken for 1 epoch: 11.191245794296265 secs\n",
      "\n",
      "Epoch 19 Batch 0 Loss 1.8088 Accuracy 0.3116\n",
      "Epoch 19 Batch 50 Loss 1.9074 Accuracy 0.2805\n",
      "Epoch 19 Batch 100 Loss 1.9418 Accuracy 0.2780\n",
      "Epoch 19 Batch 150 Loss 1.9925 Accuracy 0.2748\n",
      "Epoch 19 Batch 200 Loss 2.0359 Accuracy 0.2720\n",
      "Epoch 19 Loss 2.0449 Accuracy 0.2717\n",
      "Time taken for 1 epoch: 11.266541957855225 secs\n",
      "\n",
      "Epoch 20 Batch 0 Loss 1.7160 Accuracy 0.2600\n",
      "Epoch 20 Batch 50 Loss 1.7082 Accuracy 0.2972\n",
      "Epoch 20 Batch 100 Loss 1.7476 Accuracy 0.2941\n",
      "Epoch 20 Batch 150 Loss 1.7935 Accuracy 0.2892\n",
      "Epoch 20 Batch 200 Loss 1.8363 Accuracy 0.2853\n",
      "Saving checkpoint for epoch 20 at ./checkpoints/train/ckpt-4\n",
      "Epoch 20 Loss 1.8454 Accuracy 0.2852\n",
      "Time taken for 1 epoch: 11.687632083892822 secs\n",
      "\n"
     ]
    }
   ],
   "source": [
    "for epoch in range(EPOCHS):\n",
    "  start = time.time()\n",
    "  \n",
    "  # This is tracking the mean and accuracy (num of matching pred tokens\n",
    "  # with right target / all tokens), \n",
    "  train_loss.reset_states()\n",
    "  train_accuracy.reset_states()\n",
    "  \n",
    "  # inp -> portuguese, tar -> english\n",
    "  for (batch, (inp, tar)) in enumerate(train_dataset):\n",
    "    train_step(inp, tar)\n",
    "    \n",
    "    if batch % 50 == 0:\n",
    "      print ('Epoch {} Batch {} Loss {:.4f} Accuracy {:.4f}'.format(\n",
    "          epoch + 1, batch, train_loss.result(), train_accuracy.result()))\n",
    "      \n",
    "  if (epoch + 1) % 5 == 0:\n",
    "    ckpt_save_path = ckpt_manager.save()\n",
    "    print ('Saving checkpoint for epoch {} at {}'.format(epoch+1,\n",
    "                                                         ckpt_save_path))\n",
    "    \n",
    "  print ('Epoch {} Loss {:.4f} Accuracy {:.4f}'.format(epoch + 1, \n",
    "                                                train_loss.result(), \n",
    "                                                train_accuracy.result()))\n",
    "\n",
    "  print ('Time taken for 1 epoch: {} secs\\n'.format(time.time() - start))"
   ]
  },
  {
   "cell_type": "markdown",
   "metadata": {
    "id": "QfcsSWswSdGV"
   },
   "source": [
    "## Evaluate"
   ]
  },
  {
   "cell_type": "markdown",
   "metadata": {
    "id": "y6APsFrgImLW"
   },
   "source": [
    "The following steps are used for evaluation:\n",
    "\n",
    "* Encode the input sentence using the Portuguese tokenizer (`tokenizer_pt`). Moreover, add the start and end token so the input is equivalent to what the model is trained with. This is the encoder input.\n",
    "* The decoder input is the `start token == tokenizer_en.vocab_size`.\n",
    "* Calculate the padding masks and the look ahead masks.\n",
    "* The `decoder` then outputs the predictions by looking at the `encoder output` and its own output (self-attention).\n",
    "* Select the last word and calculate the argmax of that.\n",
    "* Concatentate the predicted word to the decoder input as pass it to the decoder.\n",
    "* In this approach, the decoder predicts the next word based on the previous words it predicted.\n",
    "\n",
    "Note: The model used here has less capacity to keep the example relatively faster so the predictions maybe less right. To reproduce the results in the paper, use the entire dataset and base transformer model or transformer XL, by changing the hyperparameters above."
   ]
  },
  {
   "cell_type": "code",
   "execution_count": 44,
   "metadata": {
    "execution": {
     "iopub.execute_input": "2020-09-27T01:38:11.265027Z",
     "iopub.status.busy": "2020-09-27T01:38:11.264438Z",
     "iopub.status.idle": "2020-09-27T01:38:11.266574Z",
     "shell.execute_reply": "2020-09-27T01:38:11.266171Z"
    },
    "id": "5buvMlnvyrFm"
   },
   "outputs": [],
   "source": [
    "def evaluate(inp_sentence):\n",
    "  \n",
    "  # Create start and end tokens; \"SOS\" and \"EOS\"\n",
    "  start_token = [tokenizer_pt.vocab_size]\n",
    "  end_token = [tokenizer_pt.vocab_size + 1]\n",
    "  \n",
    "  # inp sentence is portuguese, hence adding the start and end token\n",
    "  inp_sentence = start_token + tokenizer_pt.encode(inp_sentence) + end_token\n",
    "  # Add the dimension in the beginning since the model expects a batch.\n",
    "  encoder_input = tf.expand_dims(inp_sentence, 0)\n",
    "  \n",
    "  # as the target is english, the first word to the transformer should be the\n",
    "  # english start token.\n",
    "  # This is the start token \"SOS\"\n",
    "  decoder_input = [tokenizer_en.vocab_size]\n",
    "  output = tf.expand_dims(decoder_input, 0)\n",
    "    \n",
    "  for i in range(MAX_LENGTH):\n",
    "    enc_padding_mask, lookAheadMask = create_masks(\n",
    "        encoder_input, output)\n",
    "  \n",
    "    # I don't think you need the encoder padding mask because\n",
    "    # the input to the encoder is only one sentence and won't have any padding\n",
    "    # unlike during training which all instances had to be a certain seq length. Although, you put\n",
    "    # it in just in case.\n",
    "    # However, you DO need the look ahead mask because as each prediction is sent to the \n",
    "    # decoder input one at a time in a loop, that decoder input goes through the 1st decoder sublayer\n",
    "    # which does a matrix multiplication that creates a square matrix because the v, k, q\n",
    "    # all are the decoder input (no encoder input of different dimension until the 2nd decoder sublayer).\n",
    "    # For example, if the decoder input is \"the house color\", the first sublayer will create a 3x3 matrix\n",
    "    # in the scaled_dot_product_attention function and each row, or column depending on how you want to\n",
    "    # look at it, will be a timestep and the look ahead mask will make sure that each timestep only \n",
    "    # sees itself and the past tokens.\n",
    "    # Then this will be outputed and put into the 2nd sublayer which will then look at itself\n",
    "    # and the encoder output (self-attention).\n",
    "    # predictions.shape == (batch_size, seq_len, vocab_size)\n",
    "    predictions, attention_weights = transformer(encoder_input, \n",
    "                                                 output,\n",
    "                                                 False,\n",
    "                                                 enc_padding_mask,\n",
    "                                                 lookAheadMask # this will make clearer plots\n",
    "                                                 )\n",
    "    \n",
    "\n",
    "    # select the last word from the seq_len dimension\n",
    "    predictions = predictions[: ,-1:, :]  # (batch_size, 1, vocab_size)\n",
    "\n",
    "    predicted_id = tf.cast(tf.argmax(predictions, axis=-1), tf.int32)\n",
    "    \n",
    "    # return the result if the predicted_id is equal to the end token\n",
    "    if predicted_id == tokenizer_en.vocab_size+1:\n",
    "      return tf.squeeze(output, axis=0), attention_weights\n",
    "    \n",
    "    # concatentate the predicted_id to the output which is given to the decoder\n",
    "    # as its input.\n",
    "    output = tf.concat([output, predicted_id], axis=-1)\n",
    "\n",
    "  return tf.squeeze(output, axis=0), attention_weights"
   ]
  },
  {
   "cell_type": "code",
   "execution_count": 45,
   "metadata": {
    "execution": {
     "iopub.execute_input": "2020-09-27T01:38:11.274263Z",
     "iopub.status.busy": "2020-09-27T01:38:11.273679Z",
     "iopub.status.idle": "2020-09-27T01:38:11.276063Z",
     "shell.execute_reply": "2020-09-27T01:38:11.275521Z"
    },
    "id": "CN-BV43FMBej"
   },
   "outputs": [],
   "source": [
    "def plot_attention_weights(attention, sentence, result, layer):\n",
    "  fig = plt.figure(figsize=(16, 8))\n",
    "  \n",
    "  sentence = tokenizer_pt.encode(sentence)\n",
    "  \n",
    "  attention = tf.squeeze(attention[layer], axis=0)\n",
    "  \n",
    "  for head in range(attention.shape[0]):\n",
    "    ax = fig.add_subplot(2, 4, head+1)\n",
    "    \n",
    "    # plot the attention weights\n",
    "    ax.matshow(attention[head][:-1, :], cmap='viridis')\n",
    "\n",
    "    fontdict = {'fontsize': 10}\n",
    "    \n",
    "    ax.set_xticks(range(len(sentence)+2))\n",
    "    ax.set_yticks(range(len(result)))\n",
    "    \n",
    "    ax.set_ylim(len(result)-1.5, -0.5)\n",
    "        \n",
    "    ax.set_xticklabels(\n",
    "        ['<start>']+[tokenizer_pt.decode([i]) for i in sentence]+['<end>'], \n",
    "        fontdict=fontdict, rotation=90)\n",
    "    \n",
    "    ax.set_yticklabels([tokenizer_en.decode([i]) for i in result \n",
    "                        if i < tokenizer_en.vocab_size], \n",
    "                       fontdict=fontdict)\n",
    "    \n",
    "    ax.set_xlabel('Head {}'.format(head+1))\n",
    "  \n",
    "  plt.tight_layout()\n",
    "  plt.show()"
   ]
  },
  {
   "cell_type": "code",
   "execution_count": 46,
   "metadata": {
    "execution": {
     "iopub.execute_input": "2020-09-27T01:38:11.280768Z",
     "iopub.status.busy": "2020-09-27T01:38:11.280159Z",
     "iopub.status.idle": "2020-09-27T01:38:11.282305Z",
     "shell.execute_reply": "2020-09-27T01:38:11.281825Z"
    },
    "id": "lU2_yG_vBGza"
   },
   "outputs": [],
   "source": [
    "def translate(sentence, plot=''):\n",
    "  result, attention_weights = evaluate(sentence)\n",
    "  \n",
    "  predicted_sentence = tokenizer_en.decode([i for i in result \n",
    "                                            if i < tokenizer_en.vocab_size])  \n",
    "\n",
    "  print('Input: {}'.format(sentence))\n",
    "  print('Predicted translation: {}'.format(predicted_sentence))\n",
    "  \n",
    "  if plot:\n",
    "    plot_attention_weights(attention_weights, sentence, result, plot)"
   ]
  },
  {
   "cell_type": "code",
   "execution_count": 47,
   "metadata": {
    "execution": {
     "iopub.execute_input": "2020-09-27T01:38:11.286063Z",
     "iopub.status.busy": "2020-09-27T01:38:11.285520Z",
     "iopub.status.idle": "2020-09-27T01:38:12.446492Z",
     "shell.execute_reply": "2020-09-27T01:38:12.446910Z"
    },
    "id": "YsxrAlvFG8SZ"
   },
   "outputs": [
    {
     "name": "stdout",
     "output_type": "stream",
     "text": [
      "Input: este é um problema que temos que resolver.\n",
      "Predicted translation: this is a problem that we have to be there .\n",
      "Real translation: this is a problem we have to solve .\n"
     ]
    }
   ],
   "source": [
    "translate(\"este é um problema que temos que resolver.\")\n",
    "print (\"Real translation: this is a problem we have to solve .\")"
   ]
  },
  {
   "cell_type": "code",
   "execution_count": 48,
   "metadata": {
    "execution": {
     "iopub.execute_input": "2020-09-27T01:38:12.450919Z",
     "iopub.status.busy": "2020-09-27T01:38:12.450270Z",
     "iopub.status.idle": "2020-09-27T01:38:13.252164Z",
     "shell.execute_reply": "2020-09-27T01:38:13.252613Z"
    },
    "id": "7EH5y_aqI4t1"
   },
   "outputs": [
    {
     "name": "stdout",
     "output_type": "stream",
     "text": [
      "Input: os meus vizinhos ouviram sobre esta ideia.\n",
      "Predicted translation: my neighbors would have heard about this idea .\n",
      "Real translation: and my neighboring homes heard about this idea .\n"
     ]
    }
   ],
   "source": [
    "translate(\"os meus vizinhos ouviram sobre esta ideia.\")\n",
    "print (\"Real translation: and my neighboring homes heard about this idea .\")"
   ]
  },
  {
   "cell_type": "code",
   "execution_count": 49,
   "metadata": {
    "execution": {
     "iopub.execute_input": "2020-09-27T01:38:13.256733Z",
     "iopub.status.busy": "2020-09-27T01:38:13.256171Z",
     "iopub.status.idle": "2020-09-27T01:38:15.374456Z",
     "shell.execute_reply": "2020-09-27T01:38:15.373972Z"
    },
    "id": "J-hVCTSUMlkb"
   },
   "outputs": [
    {
     "name": "stdout",
     "output_type": "stream",
     "text": [
      "Input: vou então muito rapidamente partilhar convosco algumas histórias de algumas coisas mágicas que aconteceram.\n",
      "Predicted translation: so i 'll just take a lot of pictures of all kinds of stories , some of those pieces of those who have been going on .\n",
      "Real translation: so i 'll just share with you some stories very quickly of some magical things that have happened .\n"
     ]
    }
   ],
   "source": [
    "translate(\"vou então muito rapidamente partilhar convosco algumas histórias de algumas coisas mágicas que aconteceram.\")\n",
    "print (\"Real translation: so i 'll just share with you some stories very quickly of some magical things that have happened .\")"
   ]
  },
  {
   "cell_type": "markdown",
   "metadata": {
    "id": "_1MxkSZvz0jX"
   },
   "source": [
    "You can pass different layers and attention blocks of the decoder to the `plot` parameter."
   ]
  },
  {
   "cell_type": "code",
   "execution_count": 50,
   "metadata": {
    "execution": {
     "iopub.execute_input": "2020-09-27T01:38:15.378743Z",
     "iopub.status.busy": "2020-09-27T01:38:15.378206Z",
     "iopub.status.idle": "2020-09-27T01:38:17.407452Z",
     "shell.execute_reply": "2020-09-27T01:38:17.407894Z"
    },
    "id": "t-kFyiOLH0xg"
   },
   "outputs": [
    {
     "name": "stdout",
     "output_type": "stream",
     "text": [
      "Input: este é o primeiro livro que eu fiz.\n",
      "Predicted translation: this is the first book , i did first did .\n"
     ]
    },
    {
     "data": {
      "image/png": "[encoded data removed]",
      "text/plain": [
       "<Figure size 1152x576 with 8 Axes>"
      ]
     },
     "metadata": {
      "needs_background": "light"
     },
     "output_type": "display_data"
    },
    {
     "name": "stdout",
     "output_type": "stream",
     "text": [
      "Real translation: this is the first book i've ever done.\n"
     ]
    }
   ],
   "source": [
    "translate(\"este é o primeiro livro que eu fiz.\", plot='decoder_layer4_block2')\n",
    "print (\"Real translation: this is the first book i've ever done.\")"
   ]
  },
  {
   "cell_type": "markdown",
   "metadata": {
    "id": "RqQ1fIsLwkGE"
   },
   "source": [
    "## Summary\n",
    "\n",
    "In this tutorial, you learned about positional encoding, multi-head attention, the importance of masking and how to create a transformer.\n",
    "\n",
    "Try using a different dataset to train the transformer. You can also create the base transformer or transformer XL by changing the hyperparameters above. You can also use the layers defined here to create [BERT](https://arxiv.org/abs/1810.04805) and train state of the art models. Futhermore, you can implement beam search to get better predictions."
   ]
  },
  {
   "cell_type": "markdown",
   "metadata": {},
   "source": [
    "# The code below was just scrap for something"
   ]
  },
  {
   "cell_type": "code",
   "execution_count": 43,
   "metadata": {},
   "outputs": [
    {
     "data": {
      "text/plain": [
       "<tf.Tensor: shape=(64, 38, 512), dtype=float32, numpy=\n",
       "array([[[ 0.03252348,  0.01319523,  0.01949105, ...,  0.03923911,\n",
       "          0.02725606, -0.00803493],\n",
       "        [ 0.03857246, -0.04247294, -0.03307481, ...,  0.04022462,\n",
       "          0.02318059,  0.02808947],\n",
       "        [-0.01548079,  0.00955024, -0.01028364, ...,  0.0248175 ,\n",
       "         -0.00633867, -0.04727761],\n",
       "        ...,\n",
       "        [ 0.03370781, -0.04292583,  0.03091688, ..., -0.04553634,\n",
       "         -0.00685772,  0.01057408],\n",
       "        [ 0.03370781, -0.04292583,  0.03091688, ..., -0.04553634,\n",
       "         -0.00685772,  0.01057408],\n",
       "        [ 0.03370781, -0.04292583,  0.03091688, ..., -0.04553634,\n",
       "         -0.00685772,  0.01057408]],\n",
       "\n",
       "       [[ 0.03252348,  0.01319523,  0.01949105, ...,  0.03923911,\n",
       "          0.02725606, -0.00803493],\n",
       "        [-0.02459559, -0.03046988,  0.04175122, ..., -0.01286032,\n",
       "          0.04897854,  0.02765397],\n",
       "        [ 0.01303225, -0.02265395, -0.03249881, ...,  0.00316264,\n",
       "          0.02638182,  0.00175154],\n",
       "        ...,\n",
       "        [ 0.03370781, -0.04292583,  0.03091688, ..., -0.04553634,\n",
       "         -0.00685772,  0.01057408],\n",
       "        [ 0.03370781, -0.04292583,  0.03091688, ..., -0.04553634,\n",
       "         -0.00685772,  0.01057408],\n",
       "        [ 0.03370781, -0.04292583,  0.03091688, ..., -0.04553634,\n",
       "         -0.00685772,  0.01057408]],\n",
       "\n",
       "       [[ 0.03252348,  0.01319523,  0.01949105, ...,  0.03923911,\n",
       "          0.02725606, -0.00803493],\n",
       "        [ 0.04638353, -0.00381528,  0.02065175, ...,  0.03324162,\n",
       "          0.03166263,  0.00412482],\n",
       "        [-0.03093505, -0.01809198,  0.02664504, ...,  0.02767661,\n",
       "         -0.00247042,  0.02074448],\n",
       "        ...,\n",
       "        [ 0.03370781, -0.04292583,  0.03091688, ..., -0.04553634,\n",
       "         -0.00685772,  0.01057408],\n",
       "        [ 0.03370781, -0.04292583,  0.03091688, ..., -0.04553634,\n",
       "         -0.00685772,  0.01057408],\n",
       "        [ 0.03370781, -0.04292583,  0.03091688, ..., -0.04553634,\n",
       "         -0.00685772,  0.01057408]],\n",
       "\n",
       "       ...,\n",
       "\n",
       "       [[ 0.03252348,  0.01319523,  0.01949105, ...,  0.03923911,\n",
       "          0.02725606, -0.00803493],\n",
       "        [ 0.00837194,  0.03744901, -0.00319816, ...,  0.03649409,\n",
       "          0.00731242,  0.04522815],\n",
       "        [-0.00325512, -0.04672419, -0.04028642, ..., -0.01864998,\n",
       "         -0.02629818, -0.00039337],\n",
       "        ...,\n",
       "        [ 0.03370781, -0.04292583,  0.03091688, ..., -0.04553634,\n",
       "         -0.00685772,  0.01057408],\n",
       "        [ 0.03370781, -0.04292583,  0.03091688, ..., -0.04553634,\n",
       "         -0.00685772,  0.01057408],\n",
       "        [ 0.03370781, -0.04292583,  0.03091688, ..., -0.04553634,\n",
       "         -0.00685772,  0.01057408]],\n",
       "\n",
       "       [[ 0.03252348,  0.01319523,  0.01949105, ...,  0.03923911,\n",
       "          0.02725606, -0.00803493],\n",
       "        [ 0.04638353, -0.00381528,  0.02065175, ...,  0.03324162,\n",
       "          0.03166263,  0.00412482],\n",
       "        [ 0.01258332, -0.01335617,  0.00379516, ...,  0.04868049,\n",
       "          0.03785623,  0.02535285],\n",
       "        ...,\n",
       "        [ 0.03370781, -0.04292583,  0.03091688, ..., -0.04553634,\n",
       "         -0.00685772,  0.01057408],\n",
       "        [ 0.03370781, -0.04292583,  0.03091688, ..., -0.04553634,\n",
       "         -0.00685772,  0.01057408],\n",
       "        [ 0.03370781, -0.04292583,  0.03091688, ..., -0.04553634,\n",
       "         -0.00685772,  0.01057408]],\n",
       "\n",
       "       [[ 0.03252348,  0.01319523,  0.01949105, ...,  0.03923911,\n",
       "          0.02725606, -0.00803493],\n",
       "        [ 0.04638353, -0.00381528,  0.02065175, ...,  0.03324162,\n",
       "          0.03166263,  0.00412482],\n",
       "        [-0.01567935, -0.00453378, -0.00578373, ..., -0.01438726,\n",
       "          0.04554261,  0.02581156],\n",
       "        ...,\n",
       "        [ 0.03370781, -0.04292583,  0.03091688, ..., -0.04553634,\n",
       "         -0.00685772,  0.01057408],\n",
       "        [ 0.03370781, -0.04292583,  0.03091688, ..., -0.04553634,\n",
       "         -0.00685772,  0.01057408],\n",
       "        [ 0.03370781, -0.04292583,  0.03091688, ..., -0.04553634,\n",
       "         -0.00685772,  0.01057408]]], dtype=float32)>"
      ]
     },
     "execution_count": 43,
     "metadata": {},
     "output_type": "execute_result"
    }
   ],
   "source": [
    "# Figuering out how the lookahead mask works\n",
    "####################333\n",
    "for inp, tar in train_dataset.take(1):\n",
    "    targetInput = tar[:,:-1]\n",
    "    \n",
    "    inputPaddingMask, targetLookAheadAndPaddingMask = create_masks(inp, targetInput)\n",
    "    \n",
    "    embedding = tf.keras.layers.Embedding(input_dim=30000, output_dim=512)\n",
    "    \n",
    "    multiHeadAttentionLayer1Decoder = MultiHeadAttention(512, 8)\n",
    "    \n",
    "    targetInput = embedding(targetInput)\n",
    "    \n",
    "    scaled_dot_product_attention(v=targetInput, k=targetInput, q=targetInput, mask=targetLookAheadAndPaddingMask)\n",
    "    \n",
    "    \n",
    "\n",
    "v=targetInput\n",
    "k=targetInput\n",
    "q=targetInput\n",
    "mask=targetLookAheadAndPaddingMask\n",
    "    \n",
    "matmul_qk = tf.matmul(q, k, transpose_b=True)  \n",
    "\n",
    "# It seems the variance of the matrix multiplication above is equal to,\n",
    "# or close to, the last dimension of q and k (same number).\n",
    "# To make this scaled you just have to divide by the std. The std is the square root of the\n",
    "# variance. So, when you divide by the std you know have a scaled matrix that will\n",
    "# have a mean=0 and std=1\n",
    "var = tf.cast(tf.shape(k)[-1], tf.float32)\n",
    "std = tf.math.sqrt(var)\n",
    "scaled_attention_logits = matmul_qk / std\n",
    "\n",
    "# # add the mask to the scaled tensor.\n",
    "# if mask is not None:\n",
    "#     scaled_attention_logits += (mask * -1e9)  \n",
    "\n",
    "# softmax is normalized on the last axis (seq_len_k) so that the scores\n",
    "# add up to 1. Output shape (..., seq_len_q, seq_len_k)\n",
    "attention_weights = tf.nn.softmax(scaled_attention_logits, axis=-1)  \n",
    "\n",
    "attention_head_output = tf.matmul(attention_weights, v)\n",
    "# targetLookAheadAndPaddingMask\n",
    "\n",
    "# targetInput\n",
    "\n",
    "# attention_head_output\n",
    "\n",
    "\n",
    "targetInput\n",
    "\n",
    "# targetLookAheadAndPaddingMask"
   ]
  }
 ],
 "metadata": {
  "accelerator": "GPU",
  "colab": {
   "collapsed_sections": [
    "s_qNSzzyaCbD"
   ],
   "name": "transformer.ipynb",
   "toc_visible": true
  },
  "kernelspec": {
   "display_name": "Python 3",
   "language": "python",
   "name": "python3"
  },
  "language_info": {
   "codemirror_mode": {
    "name": "ipython",
    "version": 3
   },
   "file_extension": ".py",
   "mimetype": "text/x-python",
   "name": "python",
   "nbconvert_exporter": "python",
   "pygments_lexer": "ipython3",
   "version": "3.6.9"
  },
  "toc": {
   "base_numbering": 1,
   "nav_menu": {},
   "number_sections": true,
   "sideBar": true,
   "skip_h1_title": false,
   "title_cell": "Table of Contents",
   "title_sidebar": "Contents",
   "toc_cell": false,
   "toc_position": {},
   "toc_section_display": true,
   "toc_window_display": false
  },
  "varInspector": {
   "cols": {
    "lenName": 16,
    "lenType": 16,
    "lenVar": 40
   },
   "kernels_config": {
    "python": {
     "delete_cmd_postfix": "",
     "delete_cmd_prefix": "del ",
     "library": "var_list.py",
     "varRefreshCmd": "print(var_dic_list())"
    },
    "r": {
     "delete_cmd_postfix": ") ",
     "delete_cmd_prefix": "rm(",
     "library": "var_list.r",
     "varRefreshCmd": "cat(var_dic_list()) "
    }
   },
   "types_to_exclude": [
    "module",
    "function",
    "builtin_function_or_method",
    "instance",
    "_Feature"
   ],
   "window_display": false
  }
 },
 "nbformat": 4,
 "nbformat_minor": 1
}
