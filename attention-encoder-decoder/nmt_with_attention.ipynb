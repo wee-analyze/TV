{
 "cells": [
  {
   "cell_type": "markdown",
   "metadata": {
    "colab_type": "text",
    "id": "s_qNSzzyaCbD"
   },
   "source": [
    "##### Copyright 2019 The TensorFlow Authors."
   ]
  },
  {
   "cell_type": "code",
   "execution_count": null,
   "metadata": {
    "ExecuteTime": {
     "end_time": "2020-09-25T17:15:19.247483Z",
     "start_time": "2020-09-25T17:15:19.242601Z"
    },
    "cellView": "form",
    "colab": {},
    "colab_type": "code",
    "id": "jmjh290raIky"
   },
   "outputs": [],
   "source": [
    "#@title Licensed under the Apache License, Version 2.0 (the \"License\");\n",
    "# you may not use this file except in compliance with the License.\n",
    "# You may obtain a copy of the License at\n",
    "#\n",
    "# https://www.apache.org/licenses/LICENSE-2.0\n",
    "#\n",
    "# Unless required by applicable law or agreed to in writing, software\n",
    "# distributed under the License is distributed on an \"AS IS\" BASIS,\n",
    "# WITHOUT WARRANTIES OR CONDITIONS OF ANY KIND, either express or implied.\n",
    "# See the License for the specific language governing permissions and\n",
    "# limitations under the License."
   ]
  },
  {
   "cell_type": "markdown",
   "metadata": {
    "colab_type": "text",
    "id": "J0Qjg6vuaHNt"
   },
   "source": [
    "# Neural machine translation with attention"
   ]
  },
  {
   "cell_type": "markdown",
   "metadata": {
    "colab_type": "text",
    "id": "AOpGoE2T-YXS"
   },
   "source": [
    "<table class=\"tfo-notebook-buttons\" align=\"left\">\n",
    "  <td>\n",
    "    <a target=\"_blank\" href=\"https://www.tensorflow.org/tutorials/text/nmt_with_attention\">\n",
    "    <img src=\"https://www.tensorflow.org/images/tf_logo_32px.png\" />\n",
    "    View on TensorFlow.org</a>\n",
    "  </td>\n",
    "  <td>\n",
    "    <a target=\"_blank\" href=\"https://colab.research.google.com/github/tensorflow/docs/blob/master/site/en/tutorials/text/nmt_with_attention.ipynb\">\n",
    "    <img src=\"https://www.tensorflow.org/images/colab_logo_32px.png\" />\n",
    "    Run in Google Colab</a>\n",
    "  </td>\n",
    "  <td>\n",
    "    <a target=\"_blank\" href=\"https://github.com/tensorflow/docs/blob/master/site/en/tutorials/text/nmt_with_attention.ipynb\">\n",
    "    <img src=\"https://www.tensorflow.org/images/GitHub-Mark-32px.png\" />\n",
    "    View source on GitHub</a>\n",
    "  </td>\n",
    "  <td>\n",
    "    <a href=\"https://storage.googleapis.com/tensorflow_docs/docs/site/en/tutorials/text/nmt_with_attention.ipynb\"><img src=\"https://www.tensorflow.org/images/download_logo_32px.png\" />Download notebook</a>\n",
    "  </td>\n",
    "</table>"
   ]
  },
  {
   "cell_type": "markdown",
   "metadata": {
    "colab_type": "text",
    "id": "CiwtNgENbx2g"
   },
   "source": [
    "This notebook trains a sequence to sequence (seq2seq) model for Spanish to English translation. This is an advanced example that assumes some knowledge of sequence to sequence models.\n",
    "\n",
    "After training the model in this notebook, you will be able to input a Spanish sentence, such as *\"¿todavia estan en casa?\"*, and return the English translation: *\"are you still at home?\"*\n",
    "\n",
    "The translation quality is reasonable for a toy example, but the generated attention plot is perhaps more interesting. This shows which parts of the input sentence has the model's attention while translating:\n",
    "\n",
    "<img src=\"https://tensorflow.org/images/spanish-english.png\" alt=\"spanish-english attention plot\">\n",
    "\n",
    " \n",
    "<img src=\"images/spanish-english.png\" alt=\"spanish-english attention plot\" />\n",
    "\n",
    "Note: This example takes approximately 10 minutes to run on a single P100 GPU."
   ]
  },
  {
   "cell_type": "code",
   "execution_count": 42,
   "metadata": {
    "ExecuteTime": {
     "end_time": "2020-12-13T22:47:46.675802Z",
     "start_time": "2020-12-13T22:47:46.670916Z"
    },
    "colab": {},
    "colab_type": "code",
    "id": "tnxXKDjq3jEL"
   },
   "outputs": [],
   "source": [
    "import tensorflow as tf\n",
    "\n",
    "import matplotlib.pyplot as plt\n",
    "import matplotlib.ticker as ticker\n",
    "from sklearn.model_selection import train_test_split\n",
    "\n",
    "import unicodedata\n",
    "import re\n",
    "import numpy as np\n",
    "import os\n",
    "import io\n",
    "import time\n",
    "from shutil import rmtree"
   ]
  },
  {
   "cell_type": "code",
   "execution_count": 2,
   "metadata": {
    "ExecuteTime": {
     "end_time": "2020-12-13T22:13:28.187170Z",
     "start_time": "2020-12-13T22:13:28.053699Z"
    }
   },
   "outputs": [
    {
     "name": "stdout",
     "output_type": "stream",
     "text": [
      "check if using GPU:  [PhysicalDevice(name='/physical_device:GPU:0', device_type='GPU')]\n",
      "TF version used:  2.1.0\n"
     ]
    }
   ],
   "source": [
    "print('check if using GPU: ', tf.config.list_physical_devices('GPU'))\n",
    "print('TF version used: ', tf.__version__)"
   ]
  },
  {
   "cell_type": "markdown",
   "metadata": {
    "colab_type": "text",
    "id": "wfodePkj3jEa"
   },
   "source": [
    "## Download and prepare the dataset\n",
    "\n",
    "We'll use a language dataset provided by http://www.manythings.org/anki/. This dataset contains language translation pairs in the format:\n",
    "\n",
    "```\n",
    "May I borrow this book?\t¿Puedo tomar prestado este libro?\n",
    "```\n",
    "\n",
    "There are a variety of languages available, but we'll use the English-Spanish dataset. For convenience, we've hosted a copy of this dataset on Google Cloud, but you can also download your own copy. After downloading the dataset, here are the steps we'll take to prepare the data:\n",
    "\n",
    "1. Add a *start* and *end* token to each sentence.\n",
    "2. Clean the sentences by removing special characters.\n",
    "3. Create a word index and reverse word index (dictionaries mapping from word → id and id → word).\n",
    "4. Pad each sentence to a maximum length."
   ]
  },
  {
   "cell_type": "code",
   "execution_count": 3,
   "metadata": {
    "ExecuteTime": {
     "end_time": "2020-12-13T22:13:31.011852Z",
     "start_time": "2020-12-13T22:13:31.005542Z"
    },
    "colab": {},
    "colab_type": "code",
    "id": "kRVATYOgJs1b"
   },
   "outputs": [],
   "source": [
    "# # Download the file\n",
    "# path_to_zip = tf.keras.utils.get_file(\n",
    "#     'spa-eng.zip', origin='http://storage.googleapis.com/download.tensorflow.org/data/spa-eng.zip',\n",
    "#     extract=True, cache_subdir='/tf/notebooks/')\n",
    "\n",
    "# path_to_file = os.path.dirname(path_to_zip)+\"/spa-eng/spa.txt\""
   ]
  },
  {
   "cell_type": "code",
   "execution_count": 4,
   "metadata": {
    "ExecuteTime": {
     "end_time": "2020-12-13T22:13:36.343480Z",
     "start_time": "2020-12-13T22:13:36.341653Z"
    }
   },
   "outputs": [],
   "source": [
    "# Saved data to disk already (cell above)\n",
    "path_to_file = 'spanish-english/spanish-english-pairs.txt'"
   ]
  },
  {
   "cell_type": "code",
   "execution_count": 5,
   "metadata": {
    "ExecuteTime": {
     "end_time": "2020-12-13T22:13:37.370661Z",
     "start_time": "2020-12-13T22:13:37.365822Z"
    },
    "colab": {},
    "colab_type": "code",
    "id": "rd0jw-eC3jEh"
   },
   "outputs": [],
   "source": [
    "# Converts the unicode file to ascii\n",
    "def unicode_to_ascii(s):\n",
    "  return ''.join(c for c in unicodedata.normalize('NFD', s)\n",
    "      if unicodedata.category(c) != 'Mn')\n",
    "\n",
    "\n",
    "def preprocess_sentence(w):\n",
    "  w = unicode_to_ascii(w.lower().strip())\n",
    "\n",
    "  # creating a space between a word and the punctuation following it\n",
    "  # eg: \"he is a boy.\" => \"he is a boy .\"\n",
    "  # Reference:- https://stackoverflow.com/questions/3645931/python-padding-punctuation-with-white-spaces-keeping-punctuation\n",
    "  w = re.sub(r\"([?.!,¿])\", r\" \\1 \", w)   # r\" \\1 \" means keep the first subgroup returned in the re library. In our\n",
    "                                         # case we only have 1 subgroup so wherever it finds what is in the parenthesis, \n",
    "                                         # it will put a space on both sides of it.\n",
    "  w = re.sub(r'[\" \"]+', \" \", w)\n",
    "\n",
    "#   replacing everything with space except (a-z, A-Z, \".\", \"?\", \"!\", \",\")\n",
    "  w = re.sub(r\"[^a-zA-Z?.!,¿]+\", \" \", w)\n",
    "\n",
    "  w = w.strip()\n",
    "\n",
    "  # adding a start and an end token to the sentence\n",
    "  # so that the model know when to start and stop predicting.\n",
    "  w = '<start> ' + w + ' <end>'\n",
    "  return w"
   ]
  },
  {
   "cell_type": "code",
   "execution_count": 6,
   "metadata": {
    "ExecuteTime": {
     "end_time": "2020-12-13T22:13:38.281045Z",
     "start_time": "2020-12-13T22:13:38.276839Z"
    },
    "colab": {},
    "colab_type": "code",
    "id": "opI2GzOt479E"
   },
   "outputs": [
    {
     "name": "stdout",
     "output_type": "stream",
     "text": [
      "<start> may i borrow this book ? <end>\n",
      "<start> may , i . borrow this book ? ? ? <end>\n",
      "b'<start> \\xc2\\xbf puedo tomar prestado este libro ? <end>'\n"
     ]
    }
   ],
   "source": [
    "en_sentence = u\"May I borrow this book?\"\n",
    "en_sentence2 = u\"May, I .borrow this book???\"\n",
    "sp_sentence = u\"¿Puedo tomar prestado este libro?\"\n",
    "\n",
    "print(preprocess_sentence(en_sentence))\n",
    "print(preprocess_sentence(en_sentence2))\n",
    "print(preprocess_sentence(sp_sentence).encode('utf-8'))"
   ]
  },
  {
   "cell_type": "code",
   "execution_count": 7,
   "metadata": {
    "ExecuteTime": {
     "end_time": "2020-12-13T22:13:40.026122Z",
     "start_time": "2020-12-13T22:13:40.022145Z"
    },
    "colab": {},
    "colab_type": "code",
    "id": "OHn4Dct23jEm"
   },
   "outputs": [],
   "source": [
    "# 1. Remove the accents\n",
    "# 2. Clean the sentences\n",
    "# 3. Return word pairs in the format: [ENGLISH, SPANISH]\n",
    "def create_dataset(path, num_examples):\n",
    "    # encode, read, strip spaces at beginning and end of the string, split at new line.\n",
    "  lines = io.open(path, encoding='UTF-8').read().strip().split('\\n')\n",
    "\n",
    "    # each English and Spanish pair is seperated by a tab (\\t). This splits each pair \n",
    "    # into its respective language and preprocessed.\n",
    "  word_pairs = [[preprocess_sentence(w) for w in l.split('\\t')]  for l in lines[:num_examples]]\n",
    "\n",
    "    # So far it looks like this\n",
    "#     [['<start> go . <end>', '<start> ve . <end>'],\n",
    "#  ['<start> go . <end>', '<start> vete . <end>'],\n",
    "#  ['<start> go . <end>', '<start> vaya . <end>'],\n",
    "#  ['<start> go . <end>', '<start> vayase . <end>'],\n",
    "#  ['<start> hi . <end>', '<start> hola . <end>'],\n",
    "#  ['<start> run ! <end>', '<start> corre ! <end>'],\n",
    "#  ['<start> run . <end>', '<start> corred . <end>'],\n",
    "#  ['<start> who ? <end>', '<start> ¿ quien ? <end>']...]\n",
    "\n",
    "\n",
    "    # Zipping allows us to separate each list in the list of lists.\n",
    "    # After zipping, we will return one object that only contains English \n",
    "    # and another object that only contains the Spanish translations.\n",
    "  word_pairs = zip(*word_pairs)\n",
    "\n",
    "  return word_pairs"
   ]
  },
  {
   "cell_type": "code",
   "execution_count": 8,
   "metadata": {
    "ExecuteTime": {
     "end_time": "2020-12-13T22:13:45.857222Z",
     "start_time": "2020-12-13T22:13:40.532781Z"
    },
    "colab": {},
    "colab_type": "code",
    "id": "cTbSbBz55QtF"
   },
   "outputs": [
    {
     "name": "stdout",
     "output_type": "stream",
     "text": [
      "('<start> a carbon footprint is the amount of carbon dioxide pollution that we produce as a result of our activities . some people try to reduce their carbon footprint because they are concerned about climate change . <end>', '<start> since there are usually multiple websites on any given topic , i usually just click the back button when i arrive on any webpage that has pop up advertising . i just go to the next page found by google and hope for something less irritating . <end>', '<start> if you want to sound like a native speaker , you must be willing to practice saying the same sentence over and over in the same way that banjo players practice the same phrase over and over until they can play it correctly and at the desired tempo . <end>')\n",
      "('<start> una huella de carbono es la cantidad de contaminacion de dioxido de carbono que producimos como producto de nuestras actividades . algunas personas intentan reducir su huella de carbono porque estan preocupados acerca del cambio climatico . <end>', '<start> como suele haber varias paginas web sobre cualquier tema , normalmente solo le doy al boton de retroceso cuando entro en una pagina web que tiene anuncios en ventanas emergentes . simplemente voy a la siguiente pagina encontrada por google y espero encontrar algo menos irritante . <end>', '<start> si quieres sonar como un hablante nativo , debes estar dispuesto a practicar diciendo la misma frase una y otra vez de la misma manera en que un musico de banjo practica el mismo fraseo una y otra vez hasta que lo puedan tocar correctamente y en el tiempo esperado . <end>')\n"
     ]
    }
   ],
   "source": [
    "en, sp = create_dataset(path_to_file, None)\n",
    "print(en[-3:])\n",
    "print(sp[-3:])"
   ]
  },
  {
   "cell_type": "code",
   "execution_count": 9,
   "metadata": {
    "ExecuteTime": {
     "end_time": "2020-12-13T22:13:46.025630Z",
     "start_time": "2020-12-13T22:13:46.022149Z"
    },
    "colab": {},
    "colab_type": "code",
    "id": "bIOn8RCNDJXG"
   },
   "outputs": [],
   "source": [
    "def tokenize(lang):\n",
    "    \n",
    "    # You can see the breakdown of this function below. Basically, it turns tokens into\n",
    "    # integers. This particular notebook didn't use oov though.\n",
    "  lang_tokenizer = tf.keras.preprocessing.text.Tokenizer(\n",
    "      filters='')\n",
    "\n",
    "  lang_tokenizer.fit_on_texts(lang)\n",
    "\n",
    "    # Turns each token to an integer.\n",
    "  tensor = lang_tokenizer.texts_to_sequences(lang)\n",
    "\n",
    "    # Pads at the end and according to the longest sequence in the list.\n",
    "  tensor = tf.keras.preprocessing.sequence.pad_sequences(tensor,\n",
    "                                                         padding='post')\n",
    "\n",
    "  return tensor, lang_tokenizer"
   ]
  },
  {
   "cell_type": "code",
   "execution_count": 10,
   "metadata": {
    "ExecuteTime": {
     "end_time": "2020-12-13T22:13:46.202241Z",
     "start_time": "2020-12-13T22:13:46.188885Z"
    },
    "colab": {},
    "colab_type": "code",
    "id": "cTbSbBz55QtF"
   },
   "outputs": [
    {
     "name": "stdout",
     "output_type": "stream",
     "text": [
      "('<start> we ll do that later when we re not so busy . <end>', '<start> we ll furnish you with everything you need . <end>', '<start> we ll furnish you with everything you need . <end>')\n",
      "[[3, 1, 4, 11, 12, 13, 14, 1, 15, 16, 17, 18, 5, 6], [3, 1, 4, 7, 2, 8, 9, 2, 10, 5, 6], [3, 1, 4, 7, 2, 8, 9, 2, 10, 5, 6]]\n"
     ]
    },
    {
     "data": {
      "text/plain": [
       "array([[ 3,  1,  4, 11, 12, 13, 14,  1, 15, 16, 17, 18,  5,  6],\n",
       "       [ 3,  1,  4,  7,  2,  8,  9,  2, 10,  5,  6,  0,  0,  0],\n",
       "       [ 3,  1,  4,  7,  2,  8,  9,  2, 10,  5,  6,  0,  0,  0]],\n",
       "      dtype=int32)"
      ]
     },
     "execution_count": 10,
     "metadata": {},
     "output_type": "execute_result"
    }
   ],
   "source": [
    "# Breakdown of the function above so you can see what it's doing.\n",
    "a = en[100_090:100_093]\n",
    "tokenize(a)\n",
    "\n",
    "print(a)\n",
    "_lang_tokenizer = tf.keras.preprocessing.text.Tokenizer(\n",
    "      filters='')\n",
    "\n",
    "_lang_tokenizer.fit_on_texts(a)\n",
    "\n",
    "_tensor = _lang_tokenizer.texts_to_sequences(a)\n",
    "\n",
    "print(_tensor)\n",
    "\n",
    "tf.keras.preprocessing.sequence.pad_sequences(_tensor, padding='post')"
   ]
  },
  {
   "cell_type": "code",
   "execution_count": 11,
   "metadata": {
    "ExecuteTime": {
     "end_time": "2020-12-13T22:13:46.369026Z",
     "start_time": "2020-12-13T22:13:46.366257Z"
    },
    "colab": {},
    "colab_type": "code",
    "id": "eAY9k49G3jE_"
   },
   "outputs": [],
   "source": [
    "def load_dataset(path, num_examples=None):\n",
    "  # creating cleaned input, output pairs\n",
    "  targ_lang, inp_lang = create_dataset(path, num_examples)\n",
    "\n",
    "  input_tensor, inp_lang_tokenizer = tokenize(inp_lang)\n",
    "  target_tensor, targ_lang_tokenizer = tokenize(targ_lang)\n",
    "\n",
    "  return input_tensor, target_tensor, inp_lang_tokenizer, targ_lang_tokenizer"
   ]
  },
  {
   "cell_type": "markdown",
   "metadata": {
    "colab_type": "text",
    "id": "GOi42V79Ydlr"
   },
   "source": [
    "### Limit the size of the dataset to experiment faster (optional)\n",
    "\n",
    "Training on the complete dataset of >100,000 sentences will take a long time. To train faster, we can limit the size of the dataset to 30,000 sentences (of course, translation quality degrades with less data):"
   ]
  },
  {
   "cell_type": "code",
   "execution_count": 12,
   "metadata": {
    "ExecuteTime": {
     "end_time": "2020-12-13T22:13:48.768049Z",
     "start_time": "2020-12-13T22:13:46.526586Z"
    },
    "colab": {},
    "colab_type": "code",
    "id": "cnxC7q-j3jFD"
   },
   "outputs": [],
   "source": [
    "# Try experimenting with the size of that dataset\n",
    "num_examples = 30_000\n",
    "input_tensor, target_tensor, inp_lang_tokzer, targ_lang_tokzer = load_dataset(path_to_file, num_examples)\n",
    "\n",
    "# Calculate max_length of the target tensors\n",
    "max_length_targ, max_length_inp = target_tensor.shape[1], input_tensor.shape[1]"
   ]
  },
  {
   "cell_type": "code",
   "execution_count": 13,
   "metadata": {
    "ExecuteTime": {
     "end_time": "2020-12-13T22:13:48.933416Z",
     "start_time": "2020-12-13T22:13:48.930847Z"
    }
   },
   "outputs": [
    {
     "name": "stdout",
     "output_type": "stream",
     "text": [
      "[[   1 1184  521   14  168    3    2    0    0    0    0    0    0    0\n",
      "     0    0]\n",
      " [   1 9411   45 9412    3    2    0    0    0    0    0    0    0    0\n",
      "     0    0]\n",
      " [   1   18 9413   74    3    2    0    0    0    0    0    0    0    0\n",
      "     0    0]\n",
      " [   1   63 2490   34  182    3    2    0    0    0    0    0    0    0\n",
      "     0    0]\n",
      " [   1   23 2175   10   39   98   87  314    3    2    0    0    0    0\n",
      "     0    0]]\n",
      "\n",
      "<keras_preprocessing.text.Tokenizer object at 0x7f2ec58b4dd8>\n"
     ]
    }
   ],
   "source": [
    "print(input_tensor[-5:])\n",
    "print('')\n",
    "print(inp_lang_tokzer)"
   ]
  },
  {
   "cell_type": "code",
   "execution_count": 14,
   "metadata": {
    "ExecuteTime": {
     "end_time": "2020-12-13T22:13:49.099690Z",
     "start_time": "2020-12-13T22:13:49.094157Z"
    },
    "colab": {},
    "colab_type": "code",
    "id": "4QILQkOs3jFG"
   },
   "outputs": [
    {
     "name": "stdout",
     "output_type": "stream",
     "text": [
      "24000 24000 6000 6000\n"
     ]
    }
   ],
   "source": [
    "# Creating training and validation sets using an 80-20 split\n",
    "input_tensor_train, input_tensor_val, target_tensor_train, target_tensor_val = train_test_split(input_tensor, target_tensor, test_size=0.2)\n",
    "\n",
    "# Show length\n",
    "print(len(input_tensor_train), len(target_tensor_train), len(input_tensor_val), len(target_tensor_val))"
   ]
  },
  {
   "cell_type": "code",
   "execution_count": 15,
   "metadata": {
    "ExecuteTime": {
     "end_time": "2020-12-13T22:13:49.272146Z",
     "start_time": "2020-12-13T22:13:49.269532Z"
    },
    "colab": {},
    "colab_type": "code",
    "id": "lJPmLZGMeD5q"
   },
   "outputs": [],
   "source": [
    "def convert(lang, tensor):\n",
    "  for t in tensor:\n",
    "    if t!=0:\n",
    "      print (\"%d ----> %s\" % (t, lang.index_word[t]))"
   ]
  },
  {
   "cell_type": "code",
   "execution_count": 16,
   "metadata": {
    "ExecuteTime": {
     "end_time": "2020-12-13T22:13:49.436068Z",
     "start_time": "2020-12-13T22:13:49.432185Z"
    },
    "colab": {},
    "colab_type": "code",
    "id": "VXukARTDd7MT"
   },
   "outputs": [
    {
     "name": "stdout",
     "output_type": "stream",
     "text": [
      "Input Language; index to word mapping\n",
      "1 ----> <start>\n",
      "6 ----> ¿\n",
      "171 ----> deberia\n",
      "72 ----> ir\n",
      "5 ----> ?\n",
      "2 ----> <end>\n",
      "\n",
      "Target Language; index to word mapping\n",
      "1 ----> <start>\n",
      "123 ----> should\n",
      "4 ----> i\n",
      "36 ----> go\n",
      "7 ----> ?\n",
      "2 ----> <end>\n"
     ]
    }
   ],
   "source": [
    "print (\"Input Language; index to word mapping\")\n",
    "convert(inp_lang_tokzer, input_tensor_train[0])\n",
    "print ()\n",
    "print (\"Target Language; index to word mapping\")\n",
    "convert(targ_lang_tokzer, target_tensor_train[0])"
   ]
  },
  {
   "cell_type": "markdown",
   "metadata": {
    "colab_type": "text",
    "id": "rgCLkfv5uO3d"
   },
   "source": [
    "### Create a tf.data dataset"
   ]
  },
  {
   "cell_type": "code",
   "execution_count": 17,
   "metadata": {
    "ExecuteTime": {
     "end_time": "2020-12-13T22:13:50.013684Z",
     "start_time": "2020-12-13T22:13:49.609690Z"
    },
    "colab": {},
    "colab_type": "code",
    "id": "TqHsArVZ3jFS"
   },
   "outputs": [],
   "source": [
    "# FYI: You should not use the shuffle buffer size the way this author did. If you\n",
    "# had a lot of data it would be way too big of a shuffle buffer.\n",
    "\n",
    "BUFFER_SIZE = len(input_tensor_train)\n",
    "BATCH_SIZE = 64\n",
    "steps_per_epoch = len(input_tensor_train)//BATCH_SIZE\n",
    "embedding_dim = 256\n",
    "units = 1024\n",
    "vocab_inp_size = len(inp_lang_tokzer.word_index)+1\n",
    "vocab_tar_size = len(targ_lang_tokzer.word_index)+1\n",
    "\n",
    "dataset = tf.data.Dataset.from_tensor_slices((input_tensor_train, target_tensor_train)).shuffle(BUFFER_SIZE)\n",
    "dataset = dataset.batch(BATCH_SIZE, drop_remainder=True)"
   ]
  },
  {
   "cell_type": "code",
   "execution_count": 18,
   "metadata": {
    "ExecuteTime": {
     "end_time": "2020-12-13T22:13:50.228417Z",
     "start_time": "2020-12-13T22:13:50.180240Z"
    },
    "colab": {},
    "colab_type": "code",
    "id": "qc6-NK1GtWQt"
   },
   "outputs": [
    {
     "name": "stdout",
     "output_type": "stream",
     "text": [
      "Max length of input tensor (Spanish):  16\n",
      "Max length of label tensor (English):  11\n"
     ]
    }
   ],
   "source": [
    "example_input_batch, example_target_batch = next(iter(dataset))\n",
    "\n",
    "print('Max length of input tensor (Spanish): ', example_input_batch.shape[1])\n",
    "print('Max length of label tensor (English): ', example_target_batch.shape[1])"
   ]
  },
  {
   "cell_type": "markdown",
   "metadata": {
    "colab_type": "text",
    "id": "TNfHIF71ulLu"
   },
   "source": [
    "## Write the encoder and decoder model\n",
    "\n",
    "<span class=\"girk\"> This highlighted part is written by me. The writing below is a confusing to figure out and I don't think the picture truly represents this implementation. What you need to know is that the output of the encoder is really all the hiddens states and also the last hidden state.</span>\n",
    "\n",
    "Implement an encoder-decoder model with attention which you can read about in the TensorFlow [Neural Machine Translation (seq2seq) tutorial](https://github.com/tensorflow/nmt). This example uses a more recent set of APIs. This notebook implements the [attention equations](https://github.com/tensorflow/nmt#background-on-the-attention-mechanism) from the seq2seq tutorial. The following diagram shows that each input words is assigned a weight by the attention mechanism which is then used by the decoder to predict the next word in the sentence. The below picture and formulas are an example of attention mechanism from [Luong's paper](https://arxiv.org/abs/1508.04025v5). \n",
    "\n",
    "<img src=\"https://www.tensorflow.org/images/seq2seq/attention_mechanism.jpg\" width=\"500\" alt=\"attention mechanism\">\n",
    "<img src=\"images/attention_mechanism.jpg\" width=\"500\" alt=\"attention mechanism\">\n",
    "\n",
    "The input is put through an encoder model which gives us the encoder output of shape *(batch_size, max_length, hidden_size)* and the encoder hidden state of shape *(batch_size, hidden_size)*.\n",
    "\n",
    "Here are the equations that are implemented:\n",
    "\n",
    "<img src=\"https://www.tensorflow.org/images/seq2seq/attention_equation_0.jpg\" alt=\"attention equation 0\" width=\"800\">\n",
    "<img src=\"https://www.tensorflow.org/images/seq2seq/attention_equation_1.jpg\" alt=\"attention equation 1\" width=\"800\">\n",
    "\n",
    "<img src=\"images/attention_equation_0.jpg\" alt=\"attention equation 0\" width=\"800\">\n",
    "<img src=\"images/attention_equation_1.jpg\" alt=\"attention equation 1\" width=\"800\">\n",
    "\n",
    "This tutorial uses [Bahdanau attention](https://arxiv.org/pdf/1409.0473.pdf) for the encoder. Let's decide on notation before writing the simplified form:\n",
    "\n",
    "* FC = Fully connected (dense) layer\n",
    "* EO = Encoder output (all hidden states; hidden state for each timestep)\n",
    "* H = hidden state (last hidden state)\n",
    "* X = input to the decoder\n",
    "\n",
    "And the pseudo-code:\n",
    "\n",
    "* `score = FC(tanh(FC(EO) + FC(H)))` <span class=\"girk\">My own words, creates a scalar for each timestep.</span>\n",
    "* `attention weights = softmax(score, axis = 1)`. Softmax by default is applied on the last axis but here we want to apply it on the *1st axis*, since the shape of score is *(batch_size, max_length, hidden_size)*. `Max_length` is the length of our input. Since we are trying to assign a weight to each input, softmax should be applied on that axis. <span class=\"girk\">In my own words, apply softmax to each timestep to get one attention weight per timestep. This is why you apply it to axis=1 (the timestep axis). When you do the softmax, you will have a weight for each input in the max_input_seq and doing the softmax will make the sum of all the weights = 1 which means that most inputs will probably be very low, maybe close to 0.</span>\n",
    "* `context vector = sum(attention weights * EO, axis = 1)`. Same reason as above for choosing axis as 1.  <span class=\"girk\">In my words, this will multiply the scalar attention weight and broadcast it (multiply it by every element in the hidden state of the timestep). Since most attention weights will probably be be super low, the hidden states of the corresponding timesteps will also become super low. Then it will sum along the timestep axis so you're left with the number of hidden state units.For example, if the hidden state is 1024 at each timestep and there is a max length of 16 words then the nultiplication of this attention broadcasted multiplication will still be 16, 1024. Then the sum occurs along the timestep (sum of the columns, aka timesteps, leaving the shape of (batch_size, hidden_state_units). Just look at the code in the function to understand it if this was confusing, it will become more clear.</span>\n",
    "* `embedding output` = The input to the decoder X is passed through an embedding layer.\n",
    "* `merged vector = concat(embedding output, context vector)`\n",
    "* This merged vector is then given to the GRU\n",
    "\n",
    "The shapes of all the vectors at each step have been specified in the comments in the code:"
   ]
  },
  {
   "cell_type": "code",
   "execution_count": 19,
   "metadata": {
    "ExecuteTime": {
     "end_time": "2020-12-13T22:13:50.443294Z",
     "start_time": "2020-12-13T22:13:50.436361Z"
    },
    "colab": {},
    "colab_type": "code",
    "id": "nZ2rI24i3jFg"
   },
   "outputs": [],
   "source": [
    "class Encoder(tf.keras.Model):\n",
    "  def __init__(self, vocab_size, embedding_dim, enc_units, batch_sz):\n",
    "    super(Encoder, self).__init__()\n",
    "    self.batch_sz = batch_sz\n",
    "    self.enc_units = enc_units\n",
    "    self.embedding = tf.keras.layers.Embedding(vocab_size, embedding_dim)\n",
    "    self.gru = tf.keras.layers.GRU(self.enc_units,\n",
    "                                   return_sequences=True, # returns all hidden states (1 for each timestep)\n",
    "                    return_state=True,  # returns the last hidden state of the encoder. \n",
    "                    # We want this because we'll feed it as the hidden state for the decoder's first timestep.\n",
    "                                   recurrent_initializer='glorot_uniform')\n",
    "\n",
    "  def call(self, x, hidden):\n",
    "    x = self.embedding(x)\n",
    "    _all_hidden_states, _last_hidden_state = self.gru(x, initial_state = hidden)\n",
    "    return _all_hidden_states, _last_hidden_state\n",
    "\n",
    "  def initialize_hidden_state(self):\n",
    "    return tf.zeros((self.batch_sz, self.enc_units))"
   ]
  },
  {
   "cell_type": "code",
   "execution_count": 20,
   "metadata": {
    "ExecuteTime": {
     "end_time": "2020-12-13T22:13:52.458898Z",
     "start_time": "2020-12-13T22:13:50.619950Z"
    },
    "colab": {},
    "colab_type": "code",
    "id": "60gSVh05Jl6l"
   },
   "outputs": [
    {
     "name": "stdout",
     "output_type": "stream",
     "text": [
      "Encoder output shape - all hidden states: (batch size, sequence length, hidden state units) (64, 16, 1024)\n",
      "Encoder Hidden state shape - overwritten hidden state: (batch size, hidden state units) (64, 1024)\n"
     ]
    }
   ],
   "source": [
    "encoder = Encoder(vocab_inp_size, embedding_dim, units, BATCH_SIZE)\n",
    "\n",
    "# sample input\n",
    "# Initialize by feeding all zero hidden state into first timestep.\n",
    "sample_hidden = encoder.initialize_hidden_state() \n",
    "\n",
    "# This will overwrite the initialized (all zero) hidden state from the first step with a new \n",
    "# hidden state to be passed to the next timestep.\n",
    "sample_all_hidden_states, sample_hidden = encoder(example_input_batch, sample_hidden)\n",
    "print ('Encoder output shape - all hidden states: (batch size, sequence length, hidden state units) {}'.format(sample_all_hidden_states.shape))\n",
    "print ('Encoder Hidden state shape - overwritten hidden state: (batch size, hidden state units) {}'.format(sample_hidden.shape))"
   ]
  },
  {
   "cell_type": "code",
   "execution_count": 21,
   "metadata": {
    "ExecuteTime": {
     "end_time": "2020-12-13T22:13:52.665545Z",
     "start_time": "2020-12-13T22:13:52.658704Z"
    },
    "colab": {},
    "colab_type": "code",
    "id": "umohpBN2OM94"
   },
   "outputs": [],
   "source": [
    "class BahdanauAttention(tf.keras.layers.Layer):\n",
    "  def __init__(self, units):\n",
    "    super(BahdanauAttention, self).__init__()\n",
    "    self.W1 = tf.keras.layers.Dense(units)\n",
    "    self.W2 = tf.keras.layers.Dense(units)\n",
    "    self.V = tf.keras.layers.Dense(1)\n",
    "\n",
    "  def call(self, query, values):\n",
    "    # My own words\n",
    "    # Query: Last hidden state of the encoder or decoder (batch_size, hidden units)\n",
    "    # Values: All the hidden states of the encoder (batch_size, max_len_input_timesteps, hidden state units)\n",
    "    \n",
    "    # Add a timestep to the query so we can add it to the 'Values' (all hidden states of encoder).\n",
    "    query_with_time_axis = tf.expand_dims(query, 1)\n",
    "\n",
    "    \n",
    "    ## Calculate the score.\n",
    "    # score shape == (batch_size, max_length, 1)\n",
    "    # we get 1 at the last axis because we are applying score to self.V (a 1 neuron linear Dense layer)\n",
    "    # the shape of the tensor before applying self.V is (batch_size, max_length, hidden units)\n",
    "    # My own words, hidden state units --> 1 (scalar)\n",
    "    \n",
    "    # Brokedown the score into 2 steps to make is easier to follow.\n",
    "    # 1. Put all hidden states encoder output and last hidden state through their own\n",
    "    # linear Denser layer and add them together. \n",
    "    # The hidden state, i.e. 1024 units, will be added to each\n",
    "    # timestep's hidden state which also has same number of hidden units, i.e. 1024. So, the resulting shape\n",
    "    # at each timestep remains, i.e. 1024 units.\n",
    "    # FYI: the all hidden states outputs actually also includes the last hidden state.\n",
    "    # So yes, the last hidden state output is adding to itself in the all hidden states encoder output.\n",
    "    # Then then go through a tanh so the values will be between [-1, 1]\n",
    "    addition_broadcast_last_hidden_to_all_hidden_states = tf.nn.tanh(\n",
    "        self.W1(query_with_time_axis) + self.W2(values))\n",
    "    # 2.Turn the hidden state into a scalar. \n",
    "    # The shape of the tensor before applying self.V (Dense layer with 1 output) \n",
    "    # is (batch_size, max_input_seq_length, units)\n",
    "    # So, the final shape is (batch_size, max_input_seq_length, 1)\n",
    "    score = self.V(addition_broadcast_last_hidden_to_all_hidden_states) \n",
    "    \n",
    "\n",
    "    ## Calculate attention weights.\n",
    "    # _attention_weights shape == (batch_size, max_length, 1)\n",
    "    # Doing this along the timestep axis makes it so that adding each timestep sequence of the batch\n",
    "    # together will be equal to 1 (I know this is true because I tried it out to make sure). \n",
    "    # This helsp the network know which timesteps, or words, to focus \n",
    "    # on because the word, timestep, from the encoder to focus on will be have higher value while \n",
    "    # the other words, timesteps, will be closer to 0 (the sum will be 1 though). \n",
    "    # The softmax is not applied to each scalar individually. That wouldn't make any sense.\n",
    "    ## UNDERSTANDING APPLYING OPERATIONS TO AN AXIS!!!\n",
    "    # Axis for numpy and TF is not like Pandas. Simple way to figure out what operations are being applied\n",
    "    # to the axis is by doing addition on an axis. The axis in the argument will disappear in the output. \n",
    "    # For example, if you have a 2-d matrix (10, 5) and so tf.reduce_sum(axis=0) then the result is (5,) and the \n",
    "    # sum was along the columns. If you have a 3-d image (224, 224, 3) and do sum(axis=2) then the output is (224, 224) \n",
    "    # and the sum of all 3 channels at each pixel location in 2d space.\n",
    "    _attention_weights = tf.nn.softmax(score, axis=1)\n",
    "\n",
    "    \n",
    "    ## Calculate context vector. \n",
    "    # 'Values' (all hidden states encoder output has shape (batch size, max_seq_length, hidden state units)).\n",
    "    # _attention_weights shape == (batch_size, max_seq_length, 1)\n",
    "    # There will be one scalar attention weight for each timestep in it's respective batch. \n",
    "    # This scalar will be broadcasted and multiplied on each hidden unit of that timestep. \n",
    "    # This means that words, timesteps, with high attention will be closer to 1 while\n",
    "    # words that should not be focused on will be closer to 0. Doing the\n",
    "    # broadcast multiplication will make the timesteps hidden units to be ignored also closer \n",
    "    # to 0 while the word to focus on will keep some of it's hidden state values because the attention\n",
    "    # weight will be higher (just remember though, the sum of all the attention weights for each batch will be 1).\n",
    "    _context_vector = _attention_weights * values\n",
    "    # context_vector shape after the broadcasted multiplication (batch_size, max_seq_length, hidden_size)\n",
    "    # Next step is to sum. Since we are summing on axis 1, that axis will disappear from the resulting matrix.\n",
    "    # The final shape of the _context_vector will be (batch_size, hidden_unit). So, each hidden unit had all its\n",
    "    # timesteps added together.\n",
    "    _context_vector = tf.reduce_sum(_context_vector, axis=1)\n",
    "\n",
    "    return _context_vector, _attention_weights"
   ]
  },
  {
   "cell_type": "code",
   "execution_count": 22,
   "metadata": {
    "ExecuteTime": {
     "end_time": "2020-12-13T22:13:52.867962Z",
     "start_time": "2020-12-13T22:13:52.866107Z"
    }
   },
   "outputs": [],
   "source": [
    "# attention_layer = BahdanauAttention(10)\n",
    "# context_vectors, attention_weights = attention_layer(sample_hidden, sample_all_hidden_states)\n"
   ]
  },
  {
   "cell_type": "code",
   "execution_count": 23,
   "metadata": {
    "ExecuteTime": {
     "end_time": "2020-12-13T22:13:53.315017Z",
     "start_time": "2020-12-13T22:13:53.081971Z"
    },
    "colab": {},
    "colab_type": "code",
    "id": "k534zTHiDjQU"
   },
   "outputs": [
    {
     "name": "stdout",
     "output_type": "stream",
     "text": [
      "Context vectors shape: (batch size, units) (64, 1024)\n",
      "Attention weights shape: (batch_size, sequence_length, 1) (64, 16, 1)\n"
     ]
    }
   ],
   "source": [
    "attention_layer = BahdanauAttention(10)\n",
    "context_vectors, attention_weights = attention_layer(sample_hidden, sample_all_hidden_states)\n",
    "\n",
    "print(\"Context vectors shape: (batch size, units) {}\".format(context_vectors.shape))\n",
    "print(\"Attention weights shape: (batch_size, sequence_length, 1) {}\".format(attention_weights.shape))"
   ]
  },
  {
   "cell_type": "code",
   "execution_count": 24,
   "metadata": {
    "ExecuteTime": {
     "end_time": "2020-12-13T22:13:53.516532Z",
     "start_time": "2020-12-13T22:13:53.509430Z"
    },
    "colab": {},
    "colab_type": "code",
    "id": "yJ_B3mhW3jFk"
   },
   "outputs": [],
   "source": [
    "class Decoder(tf.keras.Model):\n",
    "  def __init__(self, vocab_size, embedding_dim, dec_units, batch_sz):\n",
    "    super(Decoder, self).__init__()\n",
    "    self.batch_sz = batch_sz\n",
    "    self.dec_units = dec_units\n",
    "    self.embedding = tf.keras.layers.Embedding(vocab_size, embedding_dim)\n",
    "    self.gru = tf.keras.layers.GRU(self.dec_units,\n",
    "#                                    return_sequences=True,  # Return all hidden states.\n",
    "                                   # We don't need this for the decoder because we are just predicting.\n",
    "#                                    return_state=True,  # Return last hidden state.\n",
    "                                   # We don't need this either for the decoder becuase the output is already\n",
    "                                   # a hidden state.\n",
    "                                   recurrent_initializer='glorot_uniform')\n",
    "    \n",
    "    \n",
    "    # There is no softmax used because the loss in later cell below has the 'from_logits' argument set to True.\n",
    "    self.fc = tf.keras.layers.Dense(vocab_size) \n",
    "\n",
    "    # used for attention\n",
    "    self.attention = BahdanauAttention(self.dec_units)\n",
    "\n",
    "  def call(self, x, _last_hidden_state, _all_hidden_states_enc_output):\n",
    "    # _all_hidden_states_enc_output shape == (batch_size, max_length, hidden_size)\n",
    "    _context_vector, attention_weights = self.attention(_last_hidden_state, _all_hidden_states_enc_output)\n",
    "\n",
    "    # x shape after passing through embedding == (batch_size, 1, embedding_dim)\n",
    "    x = self.embedding(x)\n",
    "\n",
    "    # x shape after concatenation == (batch_size, 1, embedding_dim + hidden_units)\n",
    "    # _context_vector shape (batch_size, hidden_units)\n",
    "    # My own words, you can think of the concat as putting 2 legos next to each other; NOT stacking them.\n",
    "    x = tf.concat([tf.expand_dims(_context_vector, 1), x], axis=-1)\n",
    "\n",
    "    # passing the concatenated vector to the GRU.\n",
    "    # The output is only 1 hidden state because we passed in an input with \n",
    "    # only 1 timestep.\n",
    "    # _hidden_state shape (batch_size, hidden_units).\n",
    "    _hidden_state = self.gru(x)\n",
    "\n",
    "    # The hidden state gets passed to fully conected layer which has the\n",
    "    # same amount of neurons as the label vocab size.\n",
    "    # output shape == (batch_size, vocab size)\n",
    "    # There is no softmax used because the loss in a later cell below has \n",
    "    # the 'from_logits' argument set to True.\n",
    "    _word_prediction = self.fc(_hidden_state)  \n",
    "\n",
    "    return _word_prediction, _hidden_state, attention_weights\n",
    "\n"
   ]
  },
  {
   "cell_type": "code",
   "execution_count": 25,
   "metadata": {
    "ExecuteTime": {
     "end_time": "2020-12-13T22:13:53.741241Z",
     "start_time": "2020-12-13T22:13:53.708127Z"
    },
    "colab": {},
    "colab_type": "code",
    "id": "P5UY8wko3jFp"
   },
   "outputs": [
    {
     "name": "stdout",
     "output_type": "stream",
     "text": [
      "Decoder output shape: (batch_size, vocab size) (64, 4935)\n"
     ]
    }
   ],
   "source": [
    "decoder = Decoder(vocab_tar_size, embedding_dim, units, BATCH_SIZE)\n",
    "\n",
    "_word_batch_predictions, _, _ = decoder(tf.random.uniform((BATCH_SIZE, 1)),\n",
    "                                      sample_hidden, sample_all_hidden_states)\n",
    "\n",
    "print ('Decoder output shape: (batch_size, vocab size) {}'.format(_word_batch_predictions.shape))"
   ]
  },
  {
   "cell_type": "markdown",
   "metadata": {
    "colab_type": "text",
    "id": "_ch_71VbIRfK"
   },
   "source": [
    "## Define the optimizer and the loss function"
   ]
  },
  {
   "cell_type": "code",
   "execution_count": 26,
   "metadata": {
    "ExecuteTime": {
     "end_time": "2020-12-13T22:13:53.965522Z",
     "start_time": "2020-12-13T22:13:53.961370Z"
    },
    "colab": {},
    "colab_type": "code",
    "id": "WmTHr5iV3jFr"
   },
   "outputs": [],
   "source": [
    "optimizer = tf.keras.optimizers.Adam()\n",
    "loss_object = tf.keras.losses.SparseCategoricalCrossentropy(\n",
    "    from_logits=True, reduction='none')\n",
    "\n",
    "def loss_function(real, pred):\n",
    "    # I coudln't really figure out how this works. I kinda get it but not totally.\n",
    "    # The preds is a prediction at each timestep and the index with the highest value\n",
    "    # will map to the predicted word. There is no softmax used because the loss object\n",
    "    # has the 'from_logits' argument set to True.\n",
    "\n",
    "    # Turns all padded zeros into False and everything else into True.\n",
    "    # Real means the target label and it has shape (batch_size, max_targ_seq_length)\n",
    "  mask = tf.math.not_equal(real, 0)\n",
    "    \n",
    "    # The loss object is a SparseCategoricalCrossentropy so the target will\n",
    "    # just be an index. The predictions however in this code will not be. \n",
    "    # The predictions will be shape (batch_size, label_vocab_size)\n",
    "  loss_ = loss_object(real, pred)\n",
    "\n",
    "    # Looks like this mask will make the padded predictions into zero...IT.\n",
    "    # I guess the shape of the loss is (batch_size, label_vocab_size)\n",
    "  mask = tf.cast(mask, dtype=loss_.dtype)\n",
    "  loss_ *= mask\n",
    "\n",
    "  return tf.reduce_mean(loss_)"
   ]
  },
  {
   "cell_type": "markdown",
   "metadata": {
    "colab_type": "text",
    "id": "DMVWzzsfNl4e"
   },
   "source": [
    "## Checkpoints (Object-based saving)"
   ]
  },
  {
   "cell_type": "code",
   "execution_count": 27,
   "metadata": {
    "ExecuteTime": {
     "end_time": "2020-12-13T22:13:56.322730Z",
     "start_time": "2020-12-13T22:13:56.317380Z"
    },
    "colab": {},
    "colab_type": "code",
    "id": "Zj8bXQTgNwrF"
   },
   "outputs": [],
   "source": [
    "checkpoint_dir = './training_checkpoints'\n",
    "checkpoint_prefix = os.path.join(checkpoint_dir, \"ckpt\")\n",
    "checkpoint = tf.train.Checkpoint(optimizer=optimizer,\n",
    "                                 encoder=encoder,\n",
    "                                 decoder=decoder)"
   ]
  },
  {
   "cell_type": "markdown",
   "metadata": {
    "colab_type": "text",
    "id": "hpObfY22IddU"
   },
   "source": [
    "## Training\n",
    "\n",
    "1. Pass the *input* through the *encoder* which return *encoder output* and the *encoder hidden state*.\n",
    "2. The encoder output, encoder hidden state and the decoder input (which is the *start token*) is passed to the decoder.\n",
    "3. The decoder returns the *predictions* and the *decoder hidden state*.\n",
    "4. The *decoder hidden state* is retained because it will be used in the next timestep for determining self attention; what words from the encoder input that the decoder input at that timestep should focus on.\n",
    "5. Use *teacher forcing* to decide the next input to the decoder.\n",
    "6. *Teacher forcing* is the technique where the *target word* is passed as the *next input* to the decoder.\n",
    "7. The final step is to calculate the gradients and apply it to the optimizer and backpropagate."
   ]
  },
  {
   "cell_type": "code",
   "execution_count": 28,
   "metadata": {
    "ExecuteTime": {
     "end_time": "2020-12-13T22:13:58.508685Z",
     "start_time": "2020-12-13T22:13:58.501927Z"
    },
    "colab": {},
    "colab_type": "code",
    "id": "sC9ArXSsVfqn"
   },
   "outputs": [],
   "source": [
    "# @tf.function will created a computational graph to make things faster (the first epoch \n",
    "# is longer to build the graph).\n",
    "# Since eager mode is always on in TF2, you need to comment out @tf.function\n",
    "# if you need to debug because you can't do that when a computational graph is made...IT \n",
    "@tf.function\n",
    "def train_step(inp, targ, enc_hidden):\n",
    "  loss = 0\n",
    "\n",
    "  with tf.GradientTape() as tape:\n",
    "    all_enc_hidden_states_output, enc_hidden = encoder(inp, enc_hidden)\n",
    "\n",
    "    # Passing the last hidden state from the encoder to the first timestep of the decoder.\n",
    "    dec_hidden = enc_hidden\n",
    "\n",
    "    # Starting the decoder with the '<start>' token index; a index number.\n",
    "    # All instances in the batch get the same index number to start decodeing to it is\n",
    "    # multiplied (broadcasted) by the batch size.\n",
    "    dec_input = tf.expand_dims([targ_lang_tokzer.word_index['<start>']] * BATCH_SIZE, 1)\n",
    "\n",
    "    # Teacher forcing - feeding the target as the next input\n",
    "    # Iterate through the max_seq_length of the target. In our case the input max seq length was 16\n",
    "    # and the target max_seq_length is 11. So, we are interating through 11 timesteps right now.\n",
    "    for t in range(1, targ.shape[1]):\n",
    "      # passing all_enc_hidden_states_output to the decoder and also the last hidden state of the encoder\n",
    "      # for the first step of this loop and then overwriting it.\n",
    "      predictions, dec_hidden, _ = decoder(dec_input, dec_hidden, all_enc_hidden_states_output)\n",
    "\n",
    "      loss += loss_function(targ[:, t], predictions)\n",
    "\n",
    "      # using teacher forcing.\n",
    "    # Making the next decoder input be the label instead of the prediction.\n",
    "      dec_input = tf.expand_dims(targ[:, t], 1)\n",
    "\n",
    "  batch_loss = (loss / int(targ.shape[1]))\n",
    "\n",
    "  variables = encoder.trainable_variables + decoder.trainable_variables\n",
    "\n",
    "  gradients = tape.gradient(loss, variables)\n",
    "\n",
    "  optimizer.apply_gradients(zip(gradients, variables))\n",
    "\n",
    "  return batch_loss"
   ]
  },
  {
   "cell_type": "code",
   "execution_count": 29,
   "metadata": {
    "ExecuteTime": {
     "end_time": "2020-12-13T22:18:15.011610Z",
     "start_time": "2020-12-13T22:13:58.909875Z"
    },
    "colab": {},
    "colab_type": "code",
    "id": "ddefjBMa3jF0",
    "scrolled": true
   },
   "outputs": [
    {
     "name": "stdout",
     "output_type": "stream",
     "text": [
      "Epoch 1 Batch 0 Loss 4.6385\n",
      "Epoch 1 Batch 100 Loss 1.9920\n",
      "Epoch 1 Batch 200 Loss 1.9703\n",
      "Epoch 1 Batch 300 Loss 1.7427\n",
      "Epoch 1 Loss 2.0496\n",
      "Time taken for 1 epoch 32.93681263923645 sec\n",
      "\n",
      "Epoch 2 Batch 0 Loss 1.6680\n",
      "Epoch 2 Batch 100 Loss 1.5478\n",
      "Epoch 2 Batch 200 Loss 1.3772\n",
      "Epoch 2 Batch 300 Loss 1.2324\n",
      "Epoch 2 Loss 1.4344\n",
      "Time taken for 1 epoch 24.940255403518677 sec\n",
      "\n",
      "Epoch 3 Batch 0 Loss 1.1873\n",
      "Epoch 3 Batch 100 Loss 1.2138\n",
      "Epoch 3 Batch 200 Loss 1.0442\n",
      "Epoch 3 Batch 300 Loss 0.8297\n",
      "Epoch 3 Loss 1.0311\n",
      "Time taken for 1 epoch 24.584212064743042 sec\n",
      "\n",
      "Epoch 4 Batch 0 Loss 0.8029\n",
      "Epoch 4 Batch 100 Loss 0.7249\n",
      "Epoch 4 Batch 200 Loss 0.7120\n",
      "Epoch 4 Batch 300 Loss 0.6940\n",
      "Epoch 4 Loss 0.7141\n",
      "Time taken for 1 epoch 24.883034706115723 sec\n",
      "\n",
      "Epoch 5 Batch 0 Loss 0.4726\n",
      "Epoch 5 Batch 100 Loss 0.4755\n",
      "Epoch 5 Batch 200 Loss 0.6766\n",
      "Epoch 5 Batch 300 Loss 0.4716\n",
      "Epoch 5 Loss 0.4955\n",
      "Time taken for 1 epoch 24.73435950279236 sec\n",
      "\n",
      "Epoch 6 Batch 0 Loss 0.4092\n",
      "Epoch 6 Batch 100 Loss 0.3524\n",
      "Epoch 6 Batch 200 Loss 0.3334\n",
      "Epoch 6 Batch 300 Loss 0.3355\n",
      "Epoch 6 Loss 0.3480\n",
      "Time taken for 1 epoch 24.901912212371826 sec\n",
      "\n",
      "Epoch 7 Batch 0 Loss 0.1786\n",
      "Epoch 7 Batch 100 Loss 0.2028\n",
      "Epoch 7 Batch 200 Loss 0.1764\n",
      "Epoch 7 Batch 300 Loss 0.1837\n",
      "Epoch 7 Loss 0.2496\n",
      "Time taken for 1 epoch 24.679479598999023 sec\n",
      "\n",
      "Epoch 8 Batch 0 Loss 0.1507\n",
      "Epoch 8 Batch 100 Loss 0.1817\n",
      "Epoch 8 Batch 200 Loss 0.2113\n",
      "Epoch 8 Batch 300 Loss 0.1771\n",
      "Epoch 8 Loss 0.1849\n",
      "Time taken for 1 epoch 24.89909291267395 sec\n",
      "\n",
      "Epoch 9 Batch 0 Loss 0.0876\n",
      "Epoch 9 Batch 100 Loss 0.1227\n",
      "Epoch 9 Batch 200 Loss 0.1265\n",
      "Epoch 9 Batch 300 Loss 0.1445\n",
      "Epoch 9 Loss 0.1419\n",
      "Time taken for 1 epoch 24.657592296600342 sec\n",
      "\n",
      "Epoch 10 Batch 0 Loss 0.0967\n",
      "Epoch 10 Batch 100 Loss 0.0832\n",
      "Epoch 10 Batch 200 Loss 0.1211\n",
      "Epoch 10 Batch 300 Loss 0.1364\n",
      "Epoch 10 Loss 0.1158\n",
      "Time taken for 1 epoch 24.87581467628479 sec\n",
      "\n"
     ]
    }
   ],
   "source": [
    "EPOCHS = 10\n",
    "\n",
    "for epoch in range(EPOCHS):\n",
    "  start = time.time()\n",
    "\n",
    "    # Initialize the first time step by passing a initialized (all-zero)\n",
    "    # hidden state into the first encoder timestep.\n",
    "  enc_hidden = encoder.initialize_hidden_state()\n",
    "  total_loss = 0\n",
    "\n",
    "  for (batch, (inp, targ)) in enumerate(dataset.take(steps_per_epoch)):\n",
    "    batch_loss = train_step(inp, targ, enc_hidden)\n",
    "    total_loss += batch_loss\n",
    "\n",
    "    if batch % 100 == 0:\n",
    "      print('Epoch {} Batch {} Loss {:.4f}'.format(epoch + 1,\n",
    "                                                   batch,\n",
    "                                                   batch_loss.numpy()))\n",
    "  # saving (checkpoint) the model every 2 epochs\n",
    "  if (epoch + 1) % 2 == 0:\n",
    "    checkpoint.save(file_prefix = checkpoint_prefix)\n",
    "\n",
    "  print('Epoch {} Loss {:.4f}'.format(epoch + 1,\n",
    "                                      total_loss / steps_per_epoch))\n",
    "  print('Time taken for 1 epoch {} sec\\n'.format(time.time() - start))"
   ]
  },
  {
   "cell_type": "markdown",
   "metadata": {
    "colab_type": "text",
    "id": "mU3Ce8M6I3rz"
   },
   "source": [
    "## Translate\n",
    "\n",
    "* The evaluate function is similar to the training loop, except we don't use *teacher forcing* here. The input to the decoder at each time step is its previous predictions along with the hidden state and the encoder output (all hidden states).\n",
    "* Stop predicting when the model predicts the *end token*.\n",
    "* And store the *attention weights for every time step*.\n",
    "\n",
    "Note: The encoder output is calculated only once for one input."
   ]
  },
  {
   "cell_type": "code",
   "execution_count": 30,
   "metadata": {
    "ExecuteTime": {
     "end_time": "2020-12-13T22:18:15.235970Z",
     "start_time": "2020-12-13T22:18:15.228210Z"
    },
    "colab": {},
    "colab_type": "code",
    "id": "EbQpyYs13jF_"
   },
   "outputs": [],
   "source": [
    "def evaluate(sentence):\n",
    "  _attention_plot = np.zeros((max_length_targ, max_length_inp))\n",
    "\n",
    "  sentence = preprocess_sentence(sentence)\n",
    "\n",
    "  inputs = [inp_lang_tokzer.word_index[i] for i in sentence.split(' ')]\n",
    "  inputs = tf.keras.preprocessing.sequence.pad_sequences([inputs],\n",
    "                                                         maxlen=max_length_inp,\n",
    "                                                         padding='post')\n",
    "  inputs = tf.convert_to_tensor(inputs)\n",
    "\n",
    "  _prediction = ''\n",
    "\n",
    "    # Initialize a hidden state (all zeros) to be fed into the first timestep.\n",
    "  hidden = [tf.zeros((1, units))]\n",
    "  enc_output_all_hidden_states, enc_last_hidden_state = encoder(inputs, hidden)\n",
    "\n",
    "  dec_hidden = enc_last_hidden_state\n",
    "  dec_input = tf.expand_dims([targ_lang_tokzer.word_index['<start>']], 0)\n",
    "\n",
    "  for t in range(max_length_targ):\n",
    "    # For each timestep in the decoder, you get back _attention_weights which is\n",
    "    # the length of the max_input_length. So, for each decoder prediction \n",
    "    # (which is 1 at a time) you're getting back the attention weights which would tell \n",
    "    # you which input words were focused on for that particular decoder prediction.\n",
    "    # Attention weights shape (input_max_length_seq, 1)\n",
    "    predictions, dec_hidden, _attention_weights = decoder(dec_input,\n",
    "                                                         dec_hidden,\n",
    "                                                         enc_output_all_hidden_states)\n",
    "\n",
    "    # storing the attention weights to plot later on.\n",
    "    # The plot shape returned by this function is \n",
    "    # (11, 16) == (max_label_seq_english, max_input_seq_spanish)\n",
    "    _attention_weights = tf.reshape(_attention_weights, (-1, ))\n",
    "    _attention_plot[t] = _attention_weights.numpy()\n",
    "\n",
    "    predicted_id = tf.argmax(predictions[0]).numpy()\n",
    "    \n",
    "    # This is just making the predicted translation into one sequence.\n",
    "    _prediction += targ_lang_tokzer.index_word[predicted_id] + ' '\n",
    "\n",
    "    if targ_lang_tokzer.index_word[predicted_id] == '<end>':\n",
    "      return _prediction, sentence, _attention_plot\n",
    "\n",
    "    # the predicted ID is fed back into the model\n",
    "    dec_input = tf.expand_dims([predicted_id], 0)\n",
    "\n",
    "  return _prediction, sentence, _attention_plot"
   ]
  },
  {
   "cell_type": "code",
   "execution_count": 31,
   "metadata": {
    "ExecuteTime": {
     "end_time": "2020-12-13T22:18:15.454034Z",
     "start_time": "2020-12-13T22:18:15.449538Z"
    },
    "colab": {},
    "colab_type": "code",
    "id": "s5hQWlbN3jGF"
   },
   "outputs": [],
   "source": [
    "# function for plotting the attention weights\n",
    "def plot_attention(attention, sentence, predicted_sentence):\n",
    "  fig = plt.figure(figsize=(10,10))\n",
    "  ax = fig.add_subplot(1, 1, 1)\n",
    "  ax.matshow(attention, cmap='viridis')\n",
    "\n",
    "  fontdict = {'fontsize': 14}\n",
    "\n",
    "  ax.set_xticklabels([''] + sentence, fontdict=fontdict, rotation=90)\n",
    "  ax.set_yticklabels([''] + predicted_sentence, fontdict=fontdict)\n",
    "\n",
    "  ax.xaxis.set_major_locator(ticker.MultipleLocator(1))\n",
    "  ax.yaxis.set_major_locator(ticker.MultipleLocator(1))\n",
    "\n",
    "  plt.show()"
   ]
  },
  {
   "cell_type": "code",
   "execution_count": 32,
   "metadata": {
    "ExecuteTime": {
     "end_time": "2020-12-13T22:18:15.670662Z",
     "start_time": "2020-12-13T22:18:15.666894Z"
    },
    "colab": {},
    "colab_type": "code",
    "id": "sl9zUHzg3jGI"
   },
   "outputs": [],
   "source": [
    "def translate(sentence):\n",
    "  result, sentence, attention_plot = evaluate(sentence)\n",
    "\n",
    "  print('Input: %s' % (sentence))\n",
    "  print('Predicted translation: {}'.format(result))\n",
    "\n",
    "#   attention_plot = attention_plot[:len(result.split(' ')), :len(sentence.split(' '))]\n",
    "  plot_attention(attention_plot, sentence.split(' '), result.split(' '))"
   ]
  },
  {
   "cell_type": "markdown",
   "metadata": {
    "colab_type": "text",
    "id": "n250XbnjOaqP"
   },
   "source": [
    "## Restore the latest checkpoint and test"
   ]
  },
  {
   "cell_type": "code",
   "execution_count": 33,
   "metadata": {
    "ExecuteTime": {
     "end_time": "2020-12-13T22:18:16.058102Z",
     "start_time": "2020-12-13T22:18:15.903418Z"
    },
    "colab": {},
    "colab_type": "code",
    "id": "UJpT9D5_OgP6"
   },
   "outputs": [
    {
     "data": {
      "text/plain": [
       "<tensorflow.python.training.tracking.util.CheckpointLoadStatus at 0x7f2ec5a5ef28>"
      ]
     },
     "execution_count": 33,
     "metadata": {},
     "output_type": "execute_result"
    }
   ],
   "source": [
    "# restoring the latest checkpoint in checkpoint_dir\n",
    "checkpoint.restore(tf.train.latest_checkpoint(checkpoint_dir))"
   ]
  },
  {
   "cell_type": "markdown",
   "metadata": {},
   "source": [
    "<span class=\"girk\">Understanding of the attention matrix: you can think of it as the input word gets fed in, it gets provided with extra information on what context (context vector) to consider in order to predict the next word. The context vector was created from calculations which were primarily determined from the attention weights because the attention weights are a softmax that sum to 1. The important word will be closer to 1 and other words closer to 0. The attention weights multiply everything and pretty much wipe out the encoding of the hidden states, \"values\", which should be ignored while retaining the word to focus on because the attention weight it gets multiplied will be closer to 1. This is why you can use the attention weights to plot which word was focused on when the model decided which word to predict.</span>"
   ]
  },
  {
   "cell_type": "code",
   "execution_count": 34,
   "metadata": {
    "ExecuteTime": {
     "end_time": "2020-12-13T22:18:16.522533Z",
     "start_time": "2020-12-13T22:18:16.281200Z"
    },
    "colab": {},
    "colab_type": "code",
    "id": "WrAM0FDomq3E"
   },
   "outputs": [
    {
     "name": "stdout",
     "output_type": "stream",
     "text": [
      "Input: <start> hace mucho frio aqui . <end>\n",
      "Predicted translation: it s very cold here . <end> \n"
     ]
    },
    {
     "data": {
      "image/png": "[encoded data removed]",
      "text/plain": [
       "<Figure size 720x720 with 1 Axes>"
      ]
     },
     "metadata": {
      "needs_background": "light"
     },
     "output_type": "display_data"
    }
   ],
   "source": [
    "# This is what the plot looks like with the full attention weights matrix\n",
    "# which is shape (11, 16) == (max_label_seq_leng, max_input_seq_length)\n",
    "translate(u'hace mucho frio aqui.')"
   ]
  },
  {
   "cell_type": "code",
   "execution_count": 35,
   "metadata": {
    "ExecuteTime": {
     "end_time": "2020-12-13T22:18:16.743325Z",
     "start_time": "2020-12-13T22:18:16.739701Z"
    }
   },
   "outputs": [],
   "source": [
    "# This is what the plot looks like with the full attention weights matrix\n",
    "# which is shape (11, 16) == (max_label_seq_leng, max_input_seq_length)\n",
    "def translate(sentence):\n",
    "  result, sentence, attention_plot = evaluate(sentence)\n",
    "\n",
    "  print('Input: %s' % (sentence))\n",
    "  print('Predicted translation: {}'.format(result))\n",
    "\n",
    "  attention_plot = attention_plot[:len(result.split(' ')), :len(sentence.split(' '))]\n",
    "  plot_attention(attention_plot, sentence.split(' '), result.split(' '))"
   ]
  },
  {
   "cell_type": "code",
   "execution_count": 36,
   "metadata": {
    "ExecuteTime": {
     "end_time": "2020-12-13T22:18:17.171719Z",
     "start_time": "2020-12-13T22:18:16.959322Z"
    }
   },
   "outputs": [
    {
     "name": "stdout",
     "output_type": "stream",
     "text": [
      "Input: <start> hace mucho frio aqui . <end>\n",
      "Predicted translation: it s very cold here . <end> \n"
     ]
    },
    {
     "data": {
      "image/png": "[encoded data removed]",
      "text/plain": [
       "<Figure size 720x720 with 1 Axes>"
      ]
     },
     "metadata": {
      "needs_background": "light"
     },
     "output_type": "display_data"
    }
   ],
   "source": [
    "# This is what the plot looks like with the full attention weights matrix\n",
    "# which is shape (11, 16) == (max_label_seq_leng, max_input_seq_length)\n",
    "translate(u'hace mucho frio aqui.')"
   ]
  },
  {
   "cell_type": "code",
   "execution_count": 37,
   "metadata": {
    "ExecuteTime": {
     "end_time": "2020-12-13T22:45:25.139039Z",
     "start_time": "2020-12-13T22:45:24.903042Z"
    },
    "colab": {},
    "colab_type": "code",
    "id": "zSx2iM36EZQZ"
   },
   "outputs": [
    {
     "name": "stdout",
     "output_type": "stream",
     "text": [
      "Input: <start> esta es mi vida . <end>\n",
      "Predicted translation: this is my life . <end> \n"
     ]
    },
    {
     "data": {
      "image/png": "[encoded data removed]",
      "text/plain": [
       "<Figure size 720x720 with 1 Axes>"
      ]
     },
     "metadata": {
      "needs_background": "light"
     },
     "output_type": "display_data"
    }
   ],
   "source": [
    "translate(u'esta es mi vida.')"
   ]
  },
  {
   "cell_type": "code",
   "execution_count": 38,
   "metadata": {
    "ExecuteTime": {
     "end_time": "2020-12-13T22:45:27.704177Z",
     "start_time": "2020-12-13T22:45:27.473246Z"
    },
    "colab": {},
    "colab_type": "code",
    "id": "A3LLCx3ZE0Ls"
   },
   "outputs": [
    {
     "name": "stdout",
     "output_type": "stream",
     "text": [
      "Input: <start> ¿ todavia estan en casa ? <end>\n",
      "Predicted translation: are you still at home ? <end> \n"
     ]
    },
    {
     "data": {
      "image/png": "[encoded data removed]",
      "text/plain": [
       "<Figure size 720x720 with 1 Axes>"
      ]
     },
     "metadata": {
      "needs_background": "light"
     },
     "output_type": "display_data"
    }
   ],
   "source": [
    "translate(u'¿todavia estan en casa?')"
   ]
  },
  {
   "cell_type": "code",
   "execution_count": 39,
   "metadata": {
    "ExecuteTime": {
     "end_time": "2020-12-13T22:45:30.267479Z",
     "start_time": "2020-12-13T22:45:30.064160Z"
    },
    "colab": {},
    "colab_type": "code",
    "id": "DUQVLVqUE1YW"
   },
   "outputs": [
    {
     "name": "stdout",
     "output_type": "stream",
     "text": [
      "Input: <start> trata de averiguarlo . <end>\n",
      "Predicted translation: try to figure it out . <end> \n"
     ]
    },
    {
     "data": {
      "image/png": "[encoded data removed]",
      "text/plain": [
       "<Figure size 720x720 with 1 Axes>"
      ]
     },
     "metadata": {
      "needs_background": "light"
     },
     "output_type": "display_data"
    }
   ],
   "source": [
    "# wrong translation\n",
    "translate(u'trata de averiguarlo.')"
   ]
  },
  {
   "cell_type": "code",
   "execution_count": 43,
   "metadata": {
    "ExecuteTime": {
     "end_time": "2020-12-13T22:47:56.615356Z",
     "start_time": "2020-12-13T22:47:56.514690Z"
    }
   },
   "outputs": [],
   "source": [
    "# # remove checkpoints dir\n",
    "# rmtree('training_checkpoints')"
   ]
  },
  {
   "cell_type": "markdown",
   "metadata": {
    "colab_type": "text",
    "id": "RTe5P5ioMJwN"
   },
   "source": [
    "## Next steps\n",
    "\n",
    "* [Download a different dataset](http://www.manythings.org/anki/) to experiment with translations, for example, English to German, or English to French.\n",
    "* Experiment with training on a larger dataset, or using more epochs\n"
   ]
  }
 ],
 "metadata": {
  "accelerator": "GPU",
  "colab": {
   "collapsed_sections": [],
   "name": "nmt_with_attention.ipynb",
   "provenance": [],
   "toc_visible": true
  },
  "kernelspec": {
   "display_name": "Python 3",
   "language": "python",
   "name": "python3"
  },
  "language_info": {
   "codemirror_mode": {
    "name": "ipython",
    "version": 3
   },
   "file_extension": ".py",
   "mimetype": "text/x-python",
   "name": "python",
   "nbconvert_exporter": "python",
   "pygments_lexer": "ipython3",
   "version": "3.6.9"
  },
  "toc": {
   "base_numbering": 1,
   "nav_menu": {},
   "number_sections": true,
   "sideBar": true,
   "skip_h1_title": false,
   "title_cell": "Table of Contents",
   "title_sidebar": "Contents",
   "toc_cell": false,
   "toc_position": {},
   "toc_section_display": true,
   "toc_window_display": false
  },
  "varInspector": {
   "cols": {
    "lenName": 16,
    "lenType": 16,
    "lenVar": 40
   },
   "kernels_config": {
    "python": {
     "delete_cmd_postfix": "",
     "delete_cmd_prefix": "del ",
     "library": "var_list.py",
     "varRefreshCmd": "print(var_dic_list())"
    },
    "r": {
     "delete_cmd_postfix": ") ",
     "delete_cmd_prefix": "rm(",
     "library": "var_list.r",
     "varRefreshCmd": "cat(var_dic_list()) "
    }
   },
   "types_to_exclude": [
    "module",
    "function",
    "builtin_function_or_method",
    "instance",
    "_Feature"
   ],
   "window_display": false
  }
 },
 "nbformat": 4,
 "nbformat_minor": 1
}
